{
 "cells": [
  {
   "cell_type": "code",
   "execution_count": 6,
   "id": "initial_id",
   "metadata": {
    "collapsed": true,
    "ExecuteTime": {
     "end_time": "2024-09-05T08:36:23.623034600Z",
     "start_time": "2024-09-05T08:36:23.397972Z"
    }
   },
   "outputs": [],
   "source": [
    "import requests\n",
    "from bs4 import BeautifulSoup\n",
    "import pandas as pd\n",
    "import re\n",
    "import time\n",
    "import numpy as np\n",
    "import seaborn as sns\n",
    "import matplotlib.pyplot as plt"
   ]
  },
  {
   "cell_type": "markdown",
   "source": [
    "## Часть 1"
   ],
   "metadata": {
    "collapsed": false
   },
   "id": "75a4371daf37cac6"
  },
  {
   "cell_type": "markdown",
   "source": [
    "#### Get books html elements"
   ],
   "metadata": {
    "collapsed": false
   },
   "id": "f14c25c2127e5c8e"
  },
  {
   "cell_type": "code",
   "outputs": [],
   "source": [
    "base_url = \"https://www.litres.ru/genre/programmirovanie-5272/?page={}\"\n",
    "\n",
    "books = []\n",
    "books_count = 960\n",
    "page = 1\n",
    "\n",
    "while len(books) < books_count:\n",
    "    url = base_url.format(page)\n",
    "    response = requests.get(url)\n",
    "    soup = BeautifulSoup(response.text, 'html.parser')\n",
    "\n",
    "    books_on_page = soup.find_all('div', class_=re.compile(r'ArtDefault_container'))\n",
    "\n",
    "    remaining_books = books_count - len(books)\n",
    "    books.extend(books_on_page[:remaining_books])\n",
    "\n",
    "    page += 1\n",
    "    time.sleep(1)"
   ],
   "metadata": {
    "collapsed": false,
    "ExecuteTime": {
     "end_time": "2024-09-05T08:37:49.312691500Z",
     "start_time": "2024-09-05T08:36:23.625035400Z"
    }
   },
   "id": "db3febb3adddea3",
   "execution_count": 7
  },
  {
   "cell_type": "code",
   "outputs": [],
   "source": [
    "def clean_html(raw_html: str) -> str:\n",
    "    soup = BeautifulSoup(raw_html, \"html.parser\")\n",
    "    return soup.get_text()\n",
    "\n",
    "\n",
    "def get_reviews(book_id: str):\n",
    "    url = f\"https://api.litres.ru/foundation/api/arts/{book_id}/reviews\"\n",
    "    response = requests.get(url)\n",
    "\n",
    "    if response.status_code == 200:\n",
    "        data = response.json()\n",
    "\n",
    "        if data[\"status\"] == 200 and \"data\" in data[\"payload\"]:\n",
    "            reviews = data[\"payload\"][\"data\"]\n",
    "            review_texts = [clean_html(review[\"text\"]) for review in reviews]\n",
    "            return review_texts\n",
    "        else:\n",
    "            print(\"No reviews found or incorrect response structure.\")\n",
    "            return []\n",
    "    else:\n",
    "        print(f\"Failed to retrieve reviews. Status code: {response.status_code}\")\n",
    "        return []"
   ],
   "metadata": {
    "collapsed": false,
    "ExecuteTime": {
     "end_time": "2024-09-05T08:37:49.329992900Z",
     "start_time": "2024-09-05T08:37:49.316692900Z"
    }
   },
   "id": "6fe435479d04a39b",
   "execution_count": 8
  },
  {
   "cell_type": "code",
   "outputs": [],
   "source": [
    "def parse_book_id(url: str) -> str:\n",
    "    book_id = url.rstrip('/').split('-')[-1]\n",
    "    return book_id\n",
    "\n",
    "\n",
    "def get_book_html(book_url: str):\n",
    "    response = requests.get(book_url)\n",
    "    soup = BeautifulSoup(response.text, \"html.parser\")\n",
    "\n",
    "    review_div = soup.find('div', {'data-testid': 'book-factoids__reviews'}).text.strip()\n",
    "    review_count = int(re.search(r'\\d+', review_div).group()) if review_div else 0\n",
    "\n",
    "    details_div = soup.find('div', {'data-testid': 'book-volume__wrapper'}).text.strip()\n",
    "    pages_count_match = re.search(r'Объем\\s(\\d+)\\sстраниц', details_div)\n",
    "    pages_count = int(pages_count_match.group(1)) if pages_count_match else 0\n",
    "\n",
    "    year_match = re.search(r'(\\d{4})\\sгод', details_div)\n",
    "    year = int(year_match.group(1)) if year_match else 0\n",
    "\n",
    "    age_match = re.search(r'(\\d+)\\+', details_div)\n",
    "    age = int(age_match.group(1)) if age_match else 0\n",
    "\n",
    "    id = parse_book_id(book_url)\n",
    "    text_reviews = get_reviews(id)\n",
    "    time.sleep(1)\n",
    "\n",
    "    return review_count, pages_count, text_reviews, age, year"
   ],
   "metadata": {
    "collapsed": false,
    "ExecuteTime": {
     "end_time": "2024-09-05T08:37:49.330967500Z",
     "start_time": "2024-09-05T08:37:49.323608900Z"
    }
   },
   "id": "d78f9e95d73e3741",
   "execution_count": 9
  },
  {
   "cell_type": "markdown",
   "source": [
    "#### Fetch books data"
   ],
   "metadata": {
    "collapsed": false
   },
   "id": "4e318ea2578d1217"
  },
  {
   "cell_type": "code",
   "outputs": [
    {
     "ename": "AttributeError",
     "evalue": "'NoneType' object has no attribute 'text'",
     "output_type": "error",
     "traceback": [
      "\u001B[1;31m---------------------------------------------------------------------------\u001B[0m",
      "\u001B[1;31mAttributeError\u001B[0m                            Traceback (most recent call last)",
      "Cell \u001B[1;32mIn[11], line 21\u001B[0m\n\u001B[0;32m     18\u001B[0m price_strong \u001B[38;5;241m=\u001B[39m book\u001B[38;5;241m.\u001B[39mfind(\u001B[38;5;124m'\u001B[39m\u001B[38;5;124mstrong\u001B[39m\u001B[38;5;124m'\u001B[39m, {\u001B[38;5;124m'\u001B[39m\u001B[38;5;124mdata-testid\u001B[39m\u001B[38;5;124m'\u001B[39m: \u001B[38;5;124m'\u001B[39m\u001B[38;5;124mart_price--value\u001B[39m\u001B[38;5;124m'\u001B[39m})\n\u001B[0;32m     19\u001B[0m price \u001B[38;5;241m=\u001B[39m \u001B[38;5;28mint\u001B[39m(re\u001B[38;5;241m.\u001B[39msub(\u001B[38;5;124mr\u001B[39m\u001B[38;5;124m'\u001B[39m\u001B[38;5;124m\\\u001B[39m\u001B[38;5;124mD\u001B[39m\u001B[38;5;124m'\u001B[39m, \u001B[38;5;124m'\u001B[39m\u001B[38;5;124m'\u001B[39m, price_strong\u001B[38;5;241m.\u001B[39mtext\u001B[38;5;241m.\u001B[39mstrip())) \u001B[38;5;28;01mif\u001B[39;00m price_strong \u001B[38;5;28;01melse\u001B[39;00m \u001B[38;5;241m0\u001B[39m\n\u001B[1;32m---> 21\u001B[0m review_count, pages_count, text_reviews, age, year \u001B[38;5;241m=\u001B[39m \u001B[43mget_book_html\u001B[49m\u001B[43m(\u001B[49m\u001B[43mfull_link\u001B[49m\u001B[43m)\u001B[49m\n\u001B[0;32m     23\u001B[0m data\u001B[38;5;241m.\u001B[39mappend({\n\u001B[0;32m     24\u001B[0m     \u001B[38;5;124m'\u001B[39m\u001B[38;5;124mname\u001B[39m\u001B[38;5;124m'\u001B[39m: name,\n\u001B[0;32m     25\u001B[0m     \u001B[38;5;124m'\u001B[39m\u001B[38;5;124mauthor\u001B[39m\u001B[38;5;124m'\u001B[39m: author,\n\u001B[1;32m   (...)\u001B[0m\n\u001B[0;32m     34\u001B[0m     \u001B[38;5;124m'\u001B[39m\u001B[38;5;124myear\u001B[39m\u001B[38;5;124m'\u001B[39m: year,\n\u001B[0;32m     35\u001B[0m })\n",
      "Cell \u001B[1;32mIn[9], line 10\u001B[0m, in \u001B[0;36mget_book_html\u001B[1;34m(book_url)\u001B[0m\n\u001B[0;32m      7\u001B[0m response \u001B[38;5;241m=\u001B[39m requests\u001B[38;5;241m.\u001B[39mget(book_url)\n\u001B[0;32m      8\u001B[0m soup \u001B[38;5;241m=\u001B[39m BeautifulSoup(response\u001B[38;5;241m.\u001B[39mtext, \u001B[38;5;124m\"\u001B[39m\u001B[38;5;124mhtml.parser\u001B[39m\u001B[38;5;124m\"\u001B[39m)\n\u001B[1;32m---> 10\u001B[0m review_div \u001B[38;5;241m=\u001B[39m \u001B[43msoup\u001B[49m\u001B[38;5;241;43m.\u001B[39;49m\u001B[43mfind\u001B[49m\u001B[43m(\u001B[49m\u001B[38;5;124;43m'\u001B[39;49m\u001B[38;5;124;43mdiv\u001B[39;49m\u001B[38;5;124;43m'\u001B[39;49m\u001B[43m,\u001B[49m\u001B[43m \u001B[49m\u001B[43m{\u001B[49m\u001B[38;5;124;43m'\u001B[39;49m\u001B[38;5;124;43mdata-testid\u001B[39;49m\u001B[38;5;124;43m'\u001B[39;49m\u001B[43m:\u001B[49m\u001B[43m \u001B[49m\u001B[38;5;124;43m'\u001B[39;49m\u001B[38;5;124;43mbook-factoids__reviews\u001B[39;49m\u001B[38;5;124;43m'\u001B[39;49m\u001B[43m}\u001B[49m\u001B[43m)\u001B[49m\u001B[38;5;241;43m.\u001B[39;49m\u001B[43mtext\u001B[49m\u001B[38;5;241m.\u001B[39mstrip()\n\u001B[0;32m     11\u001B[0m review_count \u001B[38;5;241m=\u001B[39m \u001B[38;5;28mint\u001B[39m(re\u001B[38;5;241m.\u001B[39msearch(\u001B[38;5;124mr\u001B[39m\u001B[38;5;124m'\u001B[39m\u001B[38;5;124m\\\u001B[39m\u001B[38;5;124md+\u001B[39m\u001B[38;5;124m'\u001B[39m, review_div)\u001B[38;5;241m.\u001B[39mgroup()) \u001B[38;5;28;01mif\u001B[39;00m review_div \u001B[38;5;28;01melse\u001B[39;00m \u001B[38;5;241m0\u001B[39m\n\u001B[0;32m     13\u001B[0m details_div \u001B[38;5;241m=\u001B[39m soup\u001B[38;5;241m.\u001B[39mfind(\u001B[38;5;124m'\u001B[39m\u001B[38;5;124mdiv\u001B[39m\u001B[38;5;124m'\u001B[39m, {\u001B[38;5;124m'\u001B[39m\u001B[38;5;124mdata-testid\u001B[39m\u001B[38;5;124m'\u001B[39m: \u001B[38;5;124m'\u001B[39m\u001B[38;5;124mbook-volume__wrapper\u001B[39m\u001B[38;5;124m'\u001B[39m})\u001B[38;5;241m.\u001B[39mtext\u001B[38;5;241m.\u001B[39mstrip()\n",
      "\u001B[1;31mAttributeError\u001B[0m: 'NoneType' object has no attribute 'text'"
     ]
    }
   ],
   "source": [
    "data = []\n",
    "\n",
    "for book in books:\n",
    "    name = book.find('a', {'data-testid': 'art__title'}).text.strip()\n",
    "\n",
    "    author_a = book.find('a', {'data-testid': 'art__authorName'})\n",
    "    author = author_a.text.strip() if author_a else ''\n",
    "\n",
    "    link = book.find('div', {'data-testid': 'art__cover'})\n",
    "    full_link = f\"https://www.litres.ru{link.find('a')['href']}\"\n",
    "\n",
    "    rating_div = book.find('div', {'data-testid': 'art__ratingAvg'}).text.strip()\n",
    "    rating = float(rating_div.replace(',', '.'))\n",
    "\n",
    "    rating_count_div = book.find('div', {'data-testid': 'art__ratingCount'})\n",
    "    rating_count = int(rating_count_div.text) if rating_count_div else 0\n",
    "\n",
    "    price_strong = book.find('strong', {'data-testid': 'art_price--value'})\n",
    "    price = int(re.sub(r'\\D', '', price_strong.text.strip())) if price_strong else 0\n",
    "\n",
    "    review_count, pages_count, text_reviews, age, year = get_book_html(full_link)\n",
    "\n",
    "    data.append({\n",
    "        'name': name,\n",
    "        'author': author,\n",
    "        'link': full_link,\n",
    "        'rating': rating,\n",
    "        'rating_count': rating_count,\n",
    "        'review_count': review_count,\n",
    "        'pages_count': pages_count,\n",
    "        'text_reviews': text_reviews,\n",
    "        'price': price,\n",
    "        'age': age,\n",
    "        'year': year,\n",
    "    })"
   ],
   "metadata": {
    "collapsed": false,
    "ExecuteTime": {
     "end_time": "2024-09-05T09:28:17.137932900Z",
     "start_time": "2024-09-05T08:59:49.351673300Z"
    }
   },
   "id": "2ba829a68ab241fc",
   "execution_count": 11
  },
  {
   "cell_type": "code",
   "outputs": [],
   "source": [
    "df = pd.DataFrame(data)\n",
    "df.head()"
   ],
   "metadata": {
    "collapsed": false,
    "ExecuteTime": {
     "end_time": "2024-09-05T08:58:35.560230900Z",
     "start_time": "2024-09-05T08:58:35.534231Z"
    }
   },
   "id": "8c8fa406d8815daf",
   "execution_count": null
  },
  {
   "cell_type": "markdown",
   "source": [
    "## Часть 2"
   ],
   "metadata": {
    "collapsed": false
   },
   "id": "d4405c1e434ac6b5"
  },
  {
   "cell_type": "markdown",
   "source": [
    "1. Выведите первые 5 строк датасета. (0.25). Сколько в нём строк и столбцов (0.25)?"
   ],
   "metadata": {
    "collapsed": false
   },
   "id": "4e2fdc3f54e682ce"
  },
  {
   "cell_type": "code",
   "outputs": [],
   "source": [
    "rows, columns = df.shape\n",
    "print(f'Строк: {rows}, столбцов: {columns}')"
   ],
   "metadata": {
    "collapsed": false,
    "ExecuteTime": {
     "start_time": "2024-09-05T08:58:35.536231200Z"
    }
   },
   "id": "85ee4c53c307b08f",
   "execution_count": null
  },
  {
   "cell_type": "markdown",
   "source": [
    "2. Есть ли в датасете пропуски? (0.5)"
   ],
   "metadata": {
    "collapsed": false
   },
   "id": "6db2dd7e0308ae72"
  },
  {
   "cell_type": "code",
   "outputs": [],
   "source": [
    "missing_values = df.isnull().any().any()\n",
    "\n",
    "if missing_values:\n",
    "    print('В датасете есть пропущенные значения.')\n",
    "else:\n",
    "    print('В датасете нет пропущенных значений.')"
   ],
   "metadata": {
    "collapsed": false,
    "ExecuteTime": {
     "start_time": "2024-09-05T08:58:35.538231100Z"
    }
   },
   "id": "e5e95705b5ca689f",
   "execution_count": null
  },
  {
   "cell_type": "markdown",
   "source": [
    "3. Проверьте типы данных. Если это необходимо, приведите к типам int и float те столбцы, с которыми понадобится работать как с числами. (1)."
   ],
   "metadata": {
    "collapsed": false
   },
   "id": "e1fec38a38af8e30"
  },
  {
   "cell_type": "code",
   "outputs": [],
   "source": [
    "df.dtypes"
   ],
   "metadata": {
    "collapsed": false,
    "ExecuteTime": {
     "start_time": "2024-09-05T08:58:35.540231100Z"
    }
   },
   "id": "c2206eecf008ecf4",
   "execution_count": null
  },
  {
   "cell_type": "markdown",
   "source": [
    "4. Выведите описательные статистики переменных. Ответьте на следующие вопросы:\n",
    "\n",
    "* Какая медианная цена книги в вашем датасете? (1)  \n",
    "* Какое возрастное ограничение встречается чаще всего? (1)  \n",
    "* Какое среднее число отзывов в книге? (1)  \n",
    "* Сколько книг имеют оценку ниже 4.25? (1)  \n",
    "* В каком году было написано больше всего книг из датасета? (1)  "
   ],
   "metadata": {
    "collapsed": false
   },
   "id": "966657b093e07cb6"
  },
  {
   "cell_type": "code",
   "outputs": [],
   "source": [
    "price_median = df['price'].median()\n",
    "age_mode = df['age'].mode()[0]\n",
    "mean_reviews_count = df['review_count'].mean()\n",
    "low_rating_count = df[df['rating'] < 4.25].shape[0]\n",
    "\n",
    "year_counts = df['year'].value_counts()\n",
    "most_common_year = year_counts.idxmax()\n",
    "\n",
    "print(f'Медианная цена книги: {price_median}')\n",
    "print(f'Самое частое возрастное ограничение: {age_mode}')\n",
    "print(f'Среднее число отзывов в книге: {mean_reviews_count}')\n",
    "print(f'Число книг имеют оценку ниже 4.25: {low_rating_count}')\n",
    "print(f'Больше всего книг в году: {most_common_year}')"
   ],
   "metadata": {
    "collapsed": false,
    "ExecuteTime": {
     "start_time": "2024-09-05T08:58:35.542230800Z"
    }
   },
   "id": "c9ba6196bcdabbb6",
   "execution_count": null
  },
  {
   "cell_type": "markdown",
   "source": [
    "5. Если вы работаете с готовым датасетом, то попробуйте \"достать\" из столбца pages количество страниц. Если у вас не получилось, то далее при определении числа страниц пользуйтесь стольцов pages_count. Если вы парсили датасет сами, то вы получаете балл за этот пункт автоматически (1.5)"
   ],
   "metadata": {
    "collapsed": false
   },
   "id": "a5c5c9b873a3f84"
  },
  {
   "cell_type": "code",
   "outputs": [],
   "source": [
    "df.pages_count"
   ],
   "metadata": {
    "collapsed": false,
    "ExecuteTime": {
     "start_time": "2024-09-05T08:58:35.545231900Z"
    }
   },
   "id": "a6f8d62fe6625d9b",
   "execution_count": null
  },
  {
   "cell_type": "markdown",
   "source": [
    "6. Создайте новое поле is_popular. Значение равно 1, если рейтинг книги не менее 4.6 и при этом у нее не менее 5 отзывов, и 0 в остальных случаях. (1)"
   ],
   "metadata": {
    "collapsed": false
   },
   "id": "c41948da1933d73c"
  },
  {
   "cell_type": "code",
   "outputs": [],
   "source": [
    "df['is_popular'] = np.where((df['rating'] >= 4.6) & (df['review_count'] >= 5), 1, 0)\n",
    "df.head()"
   ],
   "metadata": {
    "collapsed": false,
    "ExecuteTime": {
     "start_time": "2024-09-05T08:58:35.547231600Z"
    }
   },
   "id": "7ebb4d2161b3fec2",
   "execution_count": null
  },
  {
   "cell_type": "markdown",
   "source": [
    "7. Как отличается среднее число страниц среди популярных и непопулярных книг? (2)"
   ],
   "metadata": {
    "collapsed": false
   },
   "id": "2179a8eeb704dbc4"
  },
  {
   "cell_type": "code",
   "outputs": [],
   "source": [
    "difference = abs(df[df['is_popular'] == 1]['pages_count'].mean() - df[df['is_popular'] == 0]['pages_count'].mean())\n",
    "\n",
    "print(f\"Разница в среднем числе страниц между популярными и непопулярными книгами: {difference:.2f}\")"
   ],
   "metadata": {
    "collapsed": false,
    "ExecuteTime": {
     "start_time": "2024-09-05T08:58:35.550231900Z"
    }
   },
   "id": "359dee39bec8f66a",
   "execution_count": null
  },
  {
   "cell_type": "markdown",
   "source": [
    "8. Выведите топ-10 книг по числу отзывов. (2)."
   ],
   "metadata": {
    "collapsed": false
   },
   "id": "e5632c5f18f0917a"
  },
  {
   "cell_type": "code",
   "outputs": [],
   "source": [
    "df.sort_values(by='review_count', ascending=False).head(10)"
   ],
   "metadata": {
    "collapsed": false,
    "ExecuteTime": {
     "start_time": "2024-09-05T08:58:35.552252900Z"
    }
   },
   "id": "7c9ddce68cfb3b3c",
   "execution_count": null
  },
  {
   "cell_type": "markdown",
   "source": [
    "9. Найдите среднюю длину отзыва (в символах). (2)"
   ],
   "metadata": {
    "collapsed": false
   },
   "id": "76bee1f221c6c4e2"
  },
  {
   "cell_type": "code",
   "outputs": [],
   "source": [
    "def average_review_length(reviews):\n",
    "    if len(reviews) == 0:\n",
    "        return 0\n",
    "    total_length = sum(len(review) for review in reviews)\n",
    "    return total_length / len(reviews)\n",
    "\n",
    "\n",
    "# Вычисляем среднюю длину отзыва для каждой книги\n",
    "df['average_review_length'] = df['text_reviews'].apply(average_review_length)\n",
    "\n",
    "# Вычисляем среднюю длину отзыва по всем книгам\n",
    "overall_average_length = df['average_review_length'].mean()\n",
    "\n",
    "print(f\"Средняя длина отзыва по всем книгам: {overall_average_length:.2f} символов\")"
   ],
   "metadata": {
    "collapsed": false,
    "ExecuteTime": {
     "start_time": "2024-09-05T08:58:35.554253500Z"
    }
   },
   "id": "69611b9cbb11a1a4",
   "execution_count": null
  },
  {
   "cell_type": "markdown",
   "source": [
    "10. Постройте таблицу корреляций числовых переменных. (1) Прокомментируйте результаты. (1)"
   ],
   "metadata": {
    "collapsed": false
   },
   "id": "7a68c6b02a014de0"
  },
  {
   "cell_type": "code",
   "outputs": [],
   "source": [
    "numeric_df = df.select_dtypes(include='number')\n",
    "corr_matrix = numeric_df.corr()"
   ],
   "metadata": {
    "collapsed": false,
    "ExecuteTime": {
     "start_time": "2024-09-05T08:58:35.555231500Z"
    }
   },
   "id": "cd4e6030cd90a9eb",
   "execution_count": null
  },
  {
   "cell_type": "code",
   "outputs": [],
   "source": [
    "sns.heatmap(corr_matrix, annot=True, cmap='coolwarm', fmt=\".2f\")"
   ],
   "metadata": {
    "collapsed": false,
    "ExecuteTime": {
     "start_time": "2024-09-05T08:58:35.557253300Z"
    }
   },
   "id": "d776f54977ee6db0",
   "execution_count": null
  },
  {
   "cell_type": "markdown",
   "source": [
    "Согласно heatmap наиболее коррелируют между собой следующие параметры:\n",
    "- Число оценок и число отзывов (положительная корреляция)\n",
    "- Число оценок и популярность (положительная корреляция)\n",
    "- Число отзывов и популярность (положительная корреляция, но не такая сильная)\n",
    "\n",
    "Из забавного есть небольшая отрицательная корреляция между кол-вом страниц и числом оценок =) "
   ],
   "metadata": {
    "collapsed": false
   },
   "id": "e9cf160922fda80c"
  },
  {
   "cell_type": "markdown",
   "source": [
    "11. Постройте диаграмму рассеяния (scatterplot) количества страниц и количества отзывов. Не забудьте подписать график и оси. (1) Прокомментируйте полученные результаты. (1)"
   ],
   "metadata": {
    "collapsed": false
   },
   "id": "e8437cfcb5c2ed76"
  },
  {
   "cell_type": "code",
   "outputs": [],
   "source": [
    "plt.figure(figsize=(10, 6))\n",
    "sns.scatterplot(x='pages_count', y='review_count', data=df)\n",
    "\n",
    "plt.title('Диаграмма рассеяния: Количество страниц и Количество отзывов')\n",
    "plt.xlabel('Количество страниц')\n",
    "plt.ylabel('Количество отзывов')\n",
    "\n",
    "plt.show()"
   ],
   "metadata": {
    "collapsed": false,
    "ExecuteTime": {
     "start_time": "2024-09-05T08:58:35.558230600Z"
    }
   },
   "id": "b61abfe7662950da",
   "execution_count": null
  },
  {
   "cell_type": "markdown",
   "source": [
    "- Большинство книг сосредоточены в диапазоне до 600 страниц и до 10 отзывов.\n",
    "- Наблюдается некоторая положительная корреляция между количеством страниц и количеством отзывов, но она не является строгой. Это значит, что книги с большим количеством страниц могут получать больше отзывов, но это не правило, и другие факторы могут играть важную роль."
   ],
   "metadata": {
    "collapsed": false
   },
   "id": "90765c365fc7d675"
  },
  {
   "cell_type": "markdown",
   "source": [
    "12. Постройте линейный график: по оси Х год, по оси Y количество книг. (1) Прокомментируйте. (1)"
   ],
   "metadata": {
    "collapsed": false
   },
   "id": "7d0828fa5c1586a9"
  },
  {
   "cell_type": "code",
   "outputs": [],
   "source": [
    "df_filtered = df[df['year'] > 0]\n",
    "books_per_year = df_filtered.groupby('year').size()\n",
    "\n",
    "plt.figure(figsize=(10, 6))\n",
    "books_per_year.plot(kind='line', marker='o')\n",
    "\n",
    "plt.title('Количество книг по годам')\n",
    "plt.xlabel('Год')\n",
    "plt.ylabel('Количество книг')\n",
    "plt.grid(True)\n",
    "\n",
    "plt.show()"
   ],
   "metadata": {
    "collapsed": false,
    "ExecuteTime": {
     "start_time": "2024-09-05T08:58:35.559230600Z"
    }
   },
   "id": "ecccb47973cf4650",
   "execution_count": null
  },
  {
   "cell_type": "markdown",
   "source": [
    "- До 2015 года стабильно выпускалось по одной книге\n",
    "- Пик приходится на 2023 год, в 2024 на 2 книги выпущено меньше"
   ],
   "metadata": {
    "collapsed": false
   },
   "id": "b0cf42611665a093"
  },
  {
   "cell_type": "markdown",
   "source": [
    "12. Постройте еще любые два графика по вашему усмотрению. (2) Прокомментируйте полученные результаты. (1.5)"
   ],
   "metadata": {
    "collapsed": false
   },
   "id": "dbc8a03ae8e216a6"
  },
  {
   "cell_type": "code",
   "outputs": [],
   "source": [
    "plt.figure(figsize=(10, 6))\n",
    "plt.hist(df['rating'], bins=5, edgecolor='black')\n",
    "plt.title('Распределение рейтингов книг')\n",
    "plt.xlabel('Рейтинг')\n",
    "plt.ylabel('Количество книг')\n",
    "plt.grid(True)\n",
    "plt.show()"
   ],
   "metadata": {
    "collapsed": false,
    "ExecuteTime": {
     "end_time": "2024-09-05T08:58:35.578230300Z",
     "start_time": "2024-09-05T08:58:35.561231100Z"
    }
   },
   "id": "ab9fae5f1ca40076",
   "execution_count": null
  },
  {
   "cell_type": "markdown",
   "source": [
    "Большинство книг имеент оценку 4 и больше"
   ],
   "metadata": {
    "collapsed": false
   },
   "id": "8e08b9339f614c03"
  },
  {
   "cell_type": "code",
   "outputs": [],
   "source": [
    "plt.figure(figsize=(10, 6))\n",
    "sns.boxplot(x=df['review_count'])\n",
    "plt.title('Распределение количества отзывов на книги')\n",
    "plt.xlabel('Количество отзывов')\n",
    "plt.show()"
   ],
   "metadata": {
    "collapsed": false,
    "ExecuteTime": {
     "start_time": "2024-09-05T08:58:35.562230700Z"
    }
   },
   "id": "ad4098a98c110a94",
   "execution_count": null
  },
  {
   "cell_type": "markdown",
   "source": [
    "Большинство книг имеет количество отзывов, сосредоточенное в нижней части шкалы, что говорит о том, что большинство книг в выборке имеют относительно мало отзывов, в то время как несколько книг получили значительно больше внимания."
   ],
   "metadata": {
    "collapsed": false
   },
   "id": "c0ddda853e82919a"
  },
  {
   "cell_type": "markdown",
   "source": [
    "13. Постройте таблицу с авторами книг с именем автора, количество книг в датасете, средней оценкой книг, средним количеством отзывов. (2)."
   ],
   "metadata": {
    "collapsed": false
   },
   "id": "d1d672e6bc1ae8cd"
  },
  {
   "cell_type": "code",
   "outputs": [],
   "source": [
    "authors_table = df.groupby('author').agg(\n",
    "    books_count=('name', 'count'),\n",
    "    average_rating=('rating', 'mean'),\n",
    "    average_review_count=('review_count', 'mean')\n",
    ").reset_index()\n",
    "print(authors_table)"
   ],
   "metadata": {
    "collapsed": false,
    "ExecuteTime": {
     "start_time": "2024-09-05T08:58:35.564230400Z"
    }
   },
   "id": "b103c72419b32b78",
   "execution_count": null
  },
  {
   "cell_type": "markdown",
   "source": [
    "14. Что еще интересного можно увидеть в этом датасете? Просмотрите на данные и ответьте на какие-нибудь вопросы, на которые не ответили в предыдущим пункте. Мы никак не ограничиваем вашу фантазию! (3)."
   ],
   "metadata": {
    "collapsed": false
   },
   "id": "caf1af258c84ffb7"
  },
  {
   "cell_type": "code",
   "outputs": [],
   "source": [
    "authors_page_count = df.groupby('author').agg(\n",
    "    average_pages=('pages_count', 'mean')\n",
    ").reset_index()\n",
    "authors_page_count = authors_page_count.sort_values(by='average_pages', ascending=False)\n",
    "\n",
    "print('Какие авторы пишут самые объемные книги?')\n",
    "print(authors_page_count)"
   ],
   "metadata": {
    "collapsed": false,
    "ExecuteTime": {
     "start_time": "2024-09-05T08:58:35.565230700Z"
    }
   },
   "id": "827823aa20ccf4d1",
   "execution_count": null
  },
  {
   "cell_type": "code",
   "outputs": [],
   "source": [
    "df['reviews_to_rating_ratio'] = df['review_count'] / df['rating']\n",
    "top_discussed_books = df.sort_values(by='reviews_to_rating_ratio', ascending=False).head(10)\n",
    "\n",
    "print('Какие книги являются самыми обсуждаемыми (имеют наибольшее количество отзывов) по отношению к их рейтингу?')\n",
    "print(top_discussed_books[['name', 'author', 'rating', 'review_count', 'reviews_to_rating_ratio']])"
   ],
   "metadata": {
    "collapsed": false,
    "ExecuteTime": {
     "start_time": "2024-09-05T08:58:35.567230800Z"
    }
   },
   "id": "c9b405c39cf79646",
   "execution_count": null
  }
 ],
 "metadata": {
  "kernelspec": {
   "display_name": "Python 3",
   "language": "python",
   "name": "python3"
  },
  "language_info": {
   "codemirror_mode": {
    "name": "ipython",
    "version": 2
   },
   "file_extension": ".py",
   "mimetype": "text/x-python",
   "name": "python",
   "nbconvert_exporter": "python",
   "pygments_lexer": "ipython2",
   "version": "2.7.6"
  }
 },
 "nbformat": 4,
 "nbformat_minor": 5
}
