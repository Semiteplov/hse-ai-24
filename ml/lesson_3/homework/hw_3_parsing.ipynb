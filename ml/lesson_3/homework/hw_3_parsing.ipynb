{
 "cells": [
  {
   "metadata": {
    "ExecuteTime": {
     "end_time": "2024-12-22T13:46:45.709155Z",
     "start_time": "2024-12-22T13:46:45.705399Z"
    }
   },
   "cell_type": "code",
   "source": [
    "import logging\n",
    "import time\n",
    "from concurrent.futures import ThreadPoolExecutor\n",
    "\n",
    "import requests as rq\n",
    "import pandas as pd"
   ],
   "id": "d7a1bf11a1aaa91d",
   "outputs": [],
   "execution_count": 71
  },
  {
   "metadata": {
    "ExecuteTime": {
     "end_time": "2024-12-22T13:46:45.749135Z",
     "start_time": "2024-12-22T13:46:45.744592Z"
    }
   },
   "cell_type": "code",
   "source": "logging.basicConfig(level=logging.INFO, format='%(asctime)s - %(levelname)s - %(message)s')",
   "id": "4741ebf553b39834",
   "outputs": [],
   "execution_count": 72
  },
  {
   "metadata": {
    "ExecuteTime": {
     "end_time": "2024-12-22T13:46:45.760571Z",
     "start_time": "2024-12-22T13:46:45.752135Z"
    }
   },
   "cell_type": "code",
   "source": [
    "# лист категорий (блоков) для статей в Ленте\n",
    "lenta_blocs_indexes = [1,   # Общество/Россия\n",
    "                       3,   # Бывший СССР\n",
    "                       4,   # Экономика\n",
    "                       5,   # Наука и техника\n",
    "                       8,   # Спорт\n",
    "                       37,  # Силовые структуры\n",
    "                       48,  # Туризм/Путешествия\n",
    "                       87]  # Забота о себе"
   ],
   "id": "a99fab9832457362",
   "outputs": [],
   "execution_count": 73
  },
  {
   "metadata": {},
   "cell_type": "markdown",
   "source": "Ниже представлены вспомогательные классы: ParamsDictType для параметров поиска и абстрактный класс для парсеров NewsParser. Изначально хотел использовать несколько источников, но потом отказался от этой идеи.",
   "id": "e76454ea7b5e3e26"
  },
  {
   "cell_type": "code",
   "id": "initial_id",
   "metadata": {
    "collapsed": true,
    "ExecuteTime": {
     "end_time": "2024-12-22T13:46:45.778984Z",
     "start_time": "2024-12-22T13:46:45.774677Z"
    }
   },
   "source": [
    "from abc import ABC, abstractmethod\n",
    "from typing import TypedDict, NotRequired\n",
    "\n",
    "\n",
    "class ParamsDictType(TypedDict):\n",
    "    size: int\n",
    "    search_from: int\n",
    "    bloc: NotRequired[int]\n",
    "    query: NotRequired[str]\n",
    "\n",
    "\n",
    "class NewsParser(ABC):\n",
    "    @abstractmethod\n",
    "    def parse_category(self, bloc: int = None, query: str = None) -> pd.DataFrame:\n",
    "        pass\n",
    "\n",
    "    @abstractmethod\n",
    "    def parse(self) -> pd.DataFrame:\n",
    "        pass\n",
    "\n",
    "    @abstractmethod\n",
    "    def _get_page_data(self, url: str) -> pd.DataFrame:\n",
    "        pass\n"
   ],
   "outputs": [],
   "execution_count": 74
  },
  {
   "metadata": {
    "ExecuteTime": {
     "end_time": "2024-12-22T13:46:45.805456Z",
     "start_time": "2024-12-22T13:46:45.792307Z"
    }
   },
   "cell_type": "code",
   "source": [
    "class LentaParser(NewsParser):\n",
    "    @staticmethod\n",
    "    def _get_url(params: ParamsDictType) -> str:\n",
    "        base_url = (\n",
    "            f\"https://lenta.ru/search/v2/process?size={params['size']}&from={params['search_from']}\"\n",
    "            f\"&sort=2&domain=1&modified,format=yyyy-MM-dd&modified,from=2023-01-01&type=1\"\n",
    "        )\n",
    "\n",
    "        if 'query' in params and params['query']:\n",
    "            base_url += f\"&query={params['query']}\"\n",
    "        if 'bloc' in params and params['bloc']:\n",
    "            base_url += f\"&bloc={params['bloc']}\"\n",
    "\n",
    "        return base_url\n",
    "\n",
    "    def _get_page_data(self, url: str) -> pd.DataFrame:\n",
    "        \"\"\"\n",
    "        Возвращает pd.DataFrame со списком статей по текущему url\n",
    "        \"\"\"\n",
    "        try:\n",
    "            time.sleep(2)\n",
    "            response = rq.get(url, timeout=10)\n",
    "            response.raise_for_status()\n",
    "            data = response.json()\n",
    "            if 'matches' in data:\n",
    "                return pd.DataFrame(data['matches'])\n",
    "\n",
    "            logging.warning(f\"Статьи не найдены: {url}\")\n",
    "            return pd.DataFrame()\n",
    "        except Exception as e:\n",
    "            logging.error(f\"Ошибка при загрузке url {url}: {e}\")\n",
    "            return pd.DataFrame()\n",
    "\n",
    "    def parse_category(self, bloc: int = None, query: str = None) -> pd.DataFrame:\n",
    "        \"\"\"\n",
    "        Парсит переданную категорию и возвращает pd.DataFrame\n",
    "        \"\"\"\n",
    "        size = 250  # скачиванием батчами, чтобы не вылететь по таймауту\n",
    "        search_from = 1\n",
    "        articles_df = pd.DataFrame()\n",
    "\n",
    "        while search_from < 2500:\n",
    "            params = {\n",
    "                'size': size,\n",
    "                'search_from': search_from,\n",
    "            }\n",
    "            if query:\n",
    "                params['query'] = query\n",
    "            if bloc:\n",
    "                params['bloc'] = bloc\n",
    "\n",
    "            url = self._get_url(params)\n",
    "            page_data = self._get_page_data(url)\n",
    "\n",
    "            if page_data.empty:\n",
    "                logging.info(f\"Не найдено данных для категории {bloc}\")\n",
    "                break\n",
    "\n",
    "            articles_df = pd.concat([articles_df, page_data], ignore_index=True)\n",
    "            search_from += size\n",
    "\n",
    "        logging.info(f\"Для категории {bloc} найдено {articles_df.shape[0]} статей\")\n",
    "        return articles_df\n",
    "\n",
    "    def parse(self) -> pd.DataFrame:\n",
    "        \"\"\"\n",
    "        Парсит все переданные категории и возвращает обший pd.DataFrame\n",
    "        \"\"\"\n",
    "        df = pd.DataFrame()\n",
    "\n",
    "        with ThreadPoolExecutor() as executor:\n",
    "            results = list(executor.map(self.parse_category, lenta_blocs_indexes))\n",
    "\n",
    "        for result in results:\n",
    "            df = pd.concat([df, result], ignore_index=True)\n",
    "\n",
    "        # Тема \"Строительство\" парсится отдельно через query, так как такого отдельного блока тем на Ленте нет\n",
    "        query_results = self.parse_category(query='Строительство')\n",
    "        query_results['bloc'] = 6\n",
    "        df = pd.concat([df, query_results], ignore_index=True)\n",
    "\n",
    "        logging.info(f\"Всего статей: {df.shape[0]}\")\n",
    "        return df"
   ],
   "id": "128178402bcc5324",
   "outputs": [],
   "execution_count": 75
  },
  {
   "metadata": {
    "ExecuteTime": {
     "end_time": "2024-12-22T13:48:14.709861Z",
     "start_time": "2024-12-22T13:46:45.828967Z"
    }
   },
   "cell_type": "code",
   "source": [
    "lenta_parser = LentaParser()\n",
    "lenta_df = lenta_parser.parse()\n",
    "lenta_df.shape"
   ],
   "id": "f51a57bb36e21ad",
   "outputs": [
    {
     "name": "stderr",
     "output_type": "stream",
     "text": [
      "2024-12-22 16:47:26,238 - INFO - Для категории 3 найдено 2500 статей\n",
      "2024-12-22 16:47:27,055 - INFO - Для категории 37 найдено 2500 статей\n",
      "2024-12-22 16:47:27,242 - INFO - Для категории 8 найдено 2500 статей\n",
      "2024-12-22 16:47:29,014 - INFO - Для категории 48 найдено 2500 статей\n",
      "2024-12-22 16:47:29,316 - INFO - Для категории 4 найдено 2500 статей\n",
      "2024-12-22 16:47:29,895 - INFO - Для категории 1 найдено 2500 статей\n",
      "2024-12-22 16:47:30,585 - INFO - Для категории 87 найдено 2500 статей\n",
      "2024-12-22 16:47:30,767 - INFO - Для категории 5 найдено 2500 статей\n",
      "2024-12-22 16:48:14,691 - INFO - Для категории None найдено 2500 статей\n",
      "2024-12-22 16:48:14,702 - INFO - Всего статей: 22500\n"
     ]
    },
    {
     "data": {
      "text/plain": [
       "(22500, 16)"
      ]
     },
     "execution_count": 76,
     "metadata": {},
     "output_type": "execute_result"
    }
   ],
   "execution_count": 76
  },
  {
   "metadata": {
    "ExecuteTime": {
     "end_time": "2024-12-22T13:48:14.777418Z",
     "start_time": "2024-12-22T13:48:14.761419Z"
    }
   },
   "cell_type": "code",
   "source": "lenta_df.head()",
   "id": "e1bbc279ee1884dc",
   "outputs": [
    {
     "data": {
      "text/plain": [
       "     docid                                                url  \\\n",
       "0  1754015  https://lenta.ru/news/2024/12/22/on-pozhaleet-...   \n",
       "1  1754016  https://lenta.ru/news/2024/12/22/putin-otvetil...   \n",
       "2  1754012  https://lenta.ru/news/2024/12/22/putin-dal-kom...   \n",
       "3  1754000  https://lenta.ru/news/2024/12/22/rossiyanin-re...   \n",
       "4  1754006  https://lenta.ru/news/2024/12/22/putin-zayavil...   \n",
       "\n",
       "                                               title    modified  lastmodtime  \\\n",
       "0  «Он пожалеет о том, что пытается сделать». Пут...  1734870420   1734870889   \n",
       "1  Путин ответил на вопрос о судьбе подаренных бо...  1734869160   1734869551   \n",
       "2  Путин дал команду к запуску новых автотранспор...  1734867720   1734868487   \n",
       "3  Россиянин решил отомстить возлюбленной за разр...  1734866700   1734867056   \n",
       "4  Путин заявил о глубокой погруженности в разраб...  1734866700   1734868245   \n",
       "\n",
       "   type  domain  status  part  bloc tags  \\\n",
       "0     1       1       0     0     1  [1]   \n",
       "1     1       1       0     0     1  [2]   \n",
       "2     1       1       0     0     1  [1]   \n",
       "3     1       1       0     0     1  [4]   \n",
       "4     1       1       0     0     1  [1]   \n",
       "\n",
       "                                           image_url     pubdate  \\\n",
       "0  https://icdn.lenta.ru/images/2024/12/22/14/202...  1734870420   \n",
       "1  https://icdn.lenta.ru/images/2024/12/22/15/202...  1734869160   \n",
       "2  https://icdn.lenta.ru/images/2024/12/22/14/202...  1734867720   \n",
       "3  https://icdn.lenta.ru/images/2024/12/22/14/202...  1734866700   \n",
       "4  https://icdn.lenta.ru/images/2024/12/22/14/202...  1734866700   \n",
       "\n",
       "                                                text  \\\n",
       "0  Фото: Александр Казаков / РИА Новости Варвара ...   \n",
       "1  Фото: Maxim Shemetov / Reuters Полина Кислицын...   \n",
       "2  Фото: Максим Богодвид / РИА Новости Екатерина ...   \n",
       "3  Фото: Максим Богодвид / РИА Новости Полина Кис...   \n",
       "4  Фото: Пресс-служба Минобороны РФ / РИА Новости...   \n",
       "\n",
       "                                            rightcol  \\\n",
       "0  «Он пожалеет о том, что пытается сделать». Пут...   \n",
       "1  Путин ответил на вопрос о судьбе подаренных бо...   \n",
       "2  Путин дал команду к запуску новых автотранспор...   \n",
       "3  Россиянин решил отомстить возлюбленной за разр...   \n",
       "4  Путин заявил о глубокой погруженности в разраб...   \n",
       "\n",
       "                                             snippet  \n",
       "0  Фото: Александр Казаков / РИА Новости ... к гл...  \n",
       "1  Фото: Maxim Shemetov / Reuters Полина ... теле...  \n",
       "2  Фото: Максим Богодвид / РИА Новости ... новых ...  \n",
       "3  Фото: Максим Богодвид / РИА Новости ... и выби...  \n",
       "4  Фото: Пресс-служба Минобороны РФ / РИА ... рак...  "
      ],
      "text/html": [
       "<div>\n",
       "<style scoped>\n",
       "    .dataframe tbody tr th:only-of-type {\n",
       "        vertical-align: middle;\n",
       "    }\n",
       "\n",
       "    .dataframe tbody tr th {\n",
       "        vertical-align: top;\n",
       "    }\n",
       "\n",
       "    .dataframe thead th {\n",
       "        text-align: right;\n",
       "    }\n",
       "</style>\n",
       "<table border=\"1\" class=\"dataframe\">\n",
       "  <thead>\n",
       "    <tr style=\"text-align: right;\">\n",
       "      <th></th>\n",
       "      <th>docid</th>\n",
       "      <th>url</th>\n",
       "      <th>title</th>\n",
       "      <th>modified</th>\n",
       "      <th>lastmodtime</th>\n",
       "      <th>type</th>\n",
       "      <th>domain</th>\n",
       "      <th>status</th>\n",
       "      <th>part</th>\n",
       "      <th>bloc</th>\n",
       "      <th>tags</th>\n",
       "      <th>image_url</th>\n",
       "      <th>pubdate</th>\n",
       "      <th>text</th>\n",
       "      <th>rightcol</th>\n",
       "      <th>snippet</th>\n",
       "    </tr>\n",
       "  </thead>\n",
       "  <tbody>\n",
       "    <tr>\n",
       "      <th>0</th>\n",
       "      <td>1754015</td>\n",
       "      <td>https://lenta.ru/news/2024/12/22/on-pozhaleet-...</td>\n",
       "      <td>«Он пожалеет о том, что пытается сделать». Пут...</td>\n",
       "      <td>1734870420</td>\n",
       "      <td>1734870889</td>\n",
       "      <td>1</td>\n",
       "      <td>1</td>\n",
       "      <td>0</td>\n",
       "      <td>0</td>\n",
       "      <td>1</td>\n",
       "      <td>[1]</td>\n",
       "      <td>https://icdn.lenta.ru/images/2024/12/22/14/202...</td>\n",
       "      <td>1734870420</td>\n",
       "      <td>Фото: Александр Казаков / РИА Новости Варвара ...</td>\n",
       "      <td>«Он пожалеет о том, что пытается сделать». Пут...</td>\n",
       "      <td>Фото: Александр Казаков / РИА Новости ... к гл...</td>\n",
       "    </tr>\n",
       "    <tr>\n",
       "      <th>1</th>\n",
       "      <td>1754016</td>\n",
       "      <td>https://lenta.ru/news/2024/12/22/putin-otvetil...</td>\n",
       "      <td>Путин ответил на вопрос о судьбе подаренных бо...</td>\n",
       "      <td>1734869160</td>\n",
       "      <td>1734869551</td>\n",
       "      <td>1</td>\n",
       "      <td>1</td>\n",
       "      <td>0</td>\n",
       "      <td>0</td>\n",
       "      <td>1</td>\n",
       "      <td>[2]</td>\n",
       "      <td>https://icdn.lenta.ru/images/2024/12/22/15/202...</td>\n",
       "      <td>1734869160</td>\n",
       "      <td>Фото: Maxim Shemetov / Reuters Полина Кислицын...</td>\n",
       "      <td>Путин ответил на вопрос о судьбе подаренных бо...</td>\n",
       "      <td>Фото: Maxim Shemetov / Reuters Полина ... теле...</td>\n",
       "    </tr>\n",
       "    <tr>\n",
       "      <th>2</th>\n",
       "      <td>1754012</td>\n",
       "      <td>https://lenta.ru/news/2024/12/22/putin-dal-kom...</td>\n",
       "      <td>Путин дал команду к запуску новых автотранспор...</td>\n",
       "      <td>1734867720</td>\n",
       "      <td>1734868487</td>\n",
       "      <td>1</td>\n",
       "      <td>1</td>\n",
       "      <td>0</td>\n",
       "      <td>0</td>\n",
       "      <td>1</td>\n",
       "      <td>[1]</td>\n",
       "      <td>https://icdn.lenta.ru/images/2024/12/22/14/202...</td>\n",
       "      <td>1734867720</td>\n",
       "      <td>Фото: Максим Богодвид / РИА Новости Екатерина ...</td>\n",
       "      <td>Путин дал команду к запуску новых автотранспор...</td>\n",
       "      <td>Фото: Максим Богодвид / РИА Новости ... новых ...</td>\n",
       "    </tr>\n",
       "    <tr>\n",
       "      <th>3</th>\n",
       "      <td>1754000</td>\n",
       "      <td>https://lenta.ru/news/2024/12/22/rossiyanin-re...</td>\n",
       "      <td>Россиянин решил отомстить возлюбленной за разр...</td>\n",
       "      <td>1734866700</td>\n",
       "      <td>1734867056</td>\n",
       "      <td>1</td>\n",
       "      <td>1</td>\n",
       "      <td>0</td>\n",
       "      <td>0</td>\n",
       "      <td>1</td>\n",
       "      <td>[4]</td>\n",
       "      <td>https://icdn.lenta.ru/images/2024/12/22/14/202...</td>\n",
       "      <td>1734866700</td>\n",
       "      <td>Фото: Максим Богодвид / РИА Новости Полина Кис...</td>\n",
       "      <td>Россиянин решил отомстить возлюбленной за разр...</td>\n",
       "      <td>Фото: Максим Богодвид / РИА Новости ... и выби...</td>\n",
       "    </tr>\n",
       "    <tr>\n",
       "      <th>4</th>\n",
       "      <td>1754006</td>\n",
       "      <td>https://lenta.ru/news/2024/12/22/putin-zayavil...</td>\n",
       "      <td>Путин заявил о глубокой погруженности в разраб...</td>\n",
       "      <td>1734866700</td>\n",
       "      <td>1734868245</td>\n",
       "      <td>1</td>\n",
       "      <td>1</td>\n",
       "      <td>0</td>\n",
       "      <td>0</td>\n",
       "      <td>1</td>\n",
       "      <td>[1]</td>\n",
       "      <td>https://icdn.lenta.ru/images/2024/12/22/14/202...</td>\n",
       "      <td>1734866700</td>\n",
       "      <td>Фото: Пресс-служба Минобороны РФ / РИА Новости...</td>\n",
       "      <td>Путин заявил о глубокой погруженности в разраб...</td>\n",
       "      <td>Фото: Пресс-служба Минобороны РФ / РИА ... рак...</td>\n",
       "    </tr>\n",
       "  </tbody>\n",
       "</table>\n",
       "</div>"
      ]
     },
     "execution_count": 77,
     "metadata": {},
     "output_type": "execute_result"
    }
   ],
   "execution_count": 77
  },
  {
   "metadata": {
    "ExecuteTime": {
     "end_time": "2024-12-22T13:48:14.850146Z",
     "start_time": "2024-12-22T13:48:14.844940Z"
    }
   },
   "cell_type": "code",
   "source": "lenta_df['bloc'].value_counts(normalize=True)",
   "id": "79c49f46e3a1df4e",
   "outputs": [
    {
     "data": {
      "text/plain": [
       "bloc\n",
       "1     0.111111\n",
       "3     0.111111\n",
       "4     0.111111\n",
       "5     0.111111\n",
       "8     0.111111\n",
       "37    0.111111\n",
       "48    0.111111\n",
       "87    0.111111\n",
       "6     0.111111\n",
       "Name: proportion, dtype: float64"
      ]
     },
     "execution_count": 78,
     "metadata": {},
     "output_type": "execute_result"
    }
   ],
   "execution_count": 78
  },
  {
   "metadata": {
    "ExecuteTime": {
     "end_time": "2024-12-22T13:48:15.823384Z",
     "start_time": "2024-12-22T13:48:14.939075Z"
    }
   },
   "cell_type": "code",
   "source": [
    "df = lenta_df[['bloc', 'text']] # оставляем только признак текст и таргет тему (блок)\n",
    "df = df[df['text'].notnull() & (df['text'].str.split().str.len() > 5)] # удаляем короткие и отсутствующие тексты\n",
    "df = df.drop_duplicates() # удаляем дубликаты\n",
    "\n",
    "df.shape"
   ],
   "id": "b11560b752cba553",
   "outputs": [
    {
     "data": {
      "text/plain": [
       "(22500, 2)"
      ]
     },
     "execution_count": 79,
     "metadata": {},
     "output_type": "execute_result"
    }
   ],
   "execution_count": 79
  },
  {
   "metadata": {
    "ExecuteTime": {
     "end_time": "2024-12-22T13:48:15.868210Z",
     "start_time": "2024-12-22T13:48:15.857384Z"
    }
   },
   "cell_type": "code",
   "source": [
    "# Маппим индексы тем с сайта Ленты с названиями\n",
    "lenta_categories = {\n",
    "    1: 'Общество/Россия',\n",
    "    3: 'Бывший СССР',\n",
    "    4: 'Экономика',\n",
    "    5: 'Наука и техника',\n",
    "    8: 'Спорт',\n",
    "    37: 'Силовые структуры',\n",
    "    48: 'Туризм/Путешествия',\n",
    "    87: 'Забота о себе',\n",
    "    6: 'Строительство'\n",
    "}\n",
    "\n",
    "# Маппим индексы тем из задания с названиями\n",
    "article_categories = {\n",
    "    0: 'Общество/Россия',\n",
    "    1: 'Экономика',\n",
    "    2: 'Силовые структуры',\n",
    "    3: 'Бывший СССР',\n",
    "    4: 'Спорт',\n",
    "    5: 'Забота о себе',\n",
    "    6: 'Строительство',\n",
    "    7: 'Туризм/Путешествия',\n",
    "    8: 'Наука и техника'\n",
    "}\n",
    "\n",
    "new_mapping = {v: k for k, v in article_categories.items()}\n",
    "\n",
    "# Подменяем индексы тем на нужные по заданию\n",
    "df['bloc'] = df['bloc'].dropna().map(lenta_categories).map(new_mapping)\n",
    "df['bloc'].value_counts(normalize=True)"
   ],
   "id": "8f3810b324a33038",
   "outputs": [
    {
     "data": {
      "text/plain": [
       "bloc\n",
       "0    0.111111\n",
       "3    0.111111\n",
       "1    0.111111\n",
       "8    0.111111\n",
       "4    0.111111\n",
       "2    0.111111\n",
       "7    0.111111\n",
       "5    0.111111\n",
       "6    0.111111\n",
       "Name: proportion, dtype: float64"
      ]
     },
     "execution_count": 80,
     "metadata": {},
     "output_type": "execute_result"
    }
   ],
   "execution_count": 80
  },
  {
   "metadata": {
    "ExecuteTime": {
     "end_time": "2024-12-22T13:48:16.588122Z",
     "start_time": "2024-12-22T13:48:15.911620Z"
    }
   },
   "cell_type": "code",
   "source": "df.to_csv('./lenta_df.csv')",
   "id": "cd94327c47f81359",
   "outputs": [],
   "execution_count": 81
  }
 ],
 "metadata": {
  "kernelspec": {
   "display_name": "Python 3",
   "language": "python",
   "name": "python3"
  },
  "language_info": {
   "codemirror_mode": {
    "name": "ipython",
    "version": 2
   },
   "file_extension": ".py",
   "mimetype": "text/x-python",
   "name": "python",
   "nbconvert_exporter": "python",
   "pygments_lexer": "ipython2",
   "version": "2.7.6"
  }
 },
 "nbformat": 4,
 "nbformat_minor": 5
}
