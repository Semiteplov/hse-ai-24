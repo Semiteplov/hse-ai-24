{
 "cells": [
  {
   "metadata": {
    "ExecuteTime": {
     "end_time": "2024-12-22T10:25:47.340057Z",
     "start_time": "2024-12-22T10:25:47.336422Z"
    }
   },
   "cell_type": "code",
   "source": [
    "import logging\n",
    "import time\n",
    "from concurrent.futures import ThreadPoolExecutor\n",
    "\n",
    "import requests as rq\n",
    "from bs4 import BeautifulSoup as bs\n",
    "import pandas as pd\n",
    "import numpy as np\n",
    "from datetime import datetime, timedelta"
   ],
   "id": "d7a1bf11a1aaa91d",
   "outputs": [],
   "execution_count": 6
  },
  {
   "metadata": {
    "ExecuteTime": {
     "end_time": "2024-12-22T10:25:48.250675Z",
     "start_time": "2024-12-22T10:25:48.247022Z"
    }
   },
   "cell_type": "code",
   "source": "logging.basicConfig(level=logging.INFO, format='%(asctime)s - %(levelname)s - %(message)s')",
   "id": "4741ebf553b39834",
   "outputs": [],
   "execution_count": 7
  },
  {
   "metadata": {
    "ExecuteTime": {
     "end_time": "2024-12-22T10:56:27.777282Z",
     "start_time": "2024-12-22T10:56:27.773281Z"
    }
   },
   "cell_type": "code",
   "source": [
    "lenta_blocs_indexes = [1,\n",
    "                       3,\n",
    "                       4,\n",
    "                       5,\n",
    "                       8,\n",
    "                       37,\n",
    "                       48,\n",
    "                       87]"
   ],
   "id": "a99fab9832457362",
   "outputs": [],
   "execution_count": 48
  },
  {
   "cell_type": "code",
   "id": "initial_id",
   "metadata": {
    "collapsed": true,
    "ExecuteTime": {
     "end_time": "2024-12-22T10:40:14.698324Z",
     "start_time": "2024-12-22T10:40:14.692745Z"
    }
   },
   "source": [
    "from abc import ABC, abstractmethod\n",
    "from typing import TypedDict, NotRequired\n",
    "\n",
    "\n",
    "class ParamsDictType(TypedDict):\n",
    "    size: int\n",
    "    search_from: int\n",
    "    bloc: NotRequired[int]\n",
    "    query: NotRequired[str]\n",
    "\n",
    "\n",
    "class NewsParser(ABC):\n",
    "    @abstractmethod\n",
    "    def parse_category(self, bloc: int = None, query: str = None) -> pd.DataFrame:\n",
    "        pass\n",
    "\n",
    "    @abstractmethod\n",
    "    def parse(self) -> pd.DataFrame:\n",
    "        pass\n",
    "\n",
    "    @abstractmethod\n",
    "    def _get_page_data(self, url: str) -> pd.DataFrame:\n",
    "        pass\n"
   ],
   "outputs": [],
   "execution_count": 18
  },
  {
   "metadata": {
    "ExecuteTime": {
     "end_time": "2024-12-22T10:57:24.529680Z",
     "start_time": "2024-12-22T10:57:24.520680Z"
    }
   },
   "cell_type": "code",
   "source": [
    "class LentaParser(NewsParser):\n",
    "    @staticmethod\n",
    "    def _get_url(params: ParamsDictType) -> str:\n",
    "        base_url = (\n",
    "            f\"https://lenta.ru/search/v2/process?size={params['size']}&from={params['search_from']}\"\n",
    "            f\"&sort=2&domain=1&modified,format=yyyy-MM-dd&modified,from=2023-01-01&type=1\"\n",
    "        )\n",
    "\n",
    "        if 'query' in params and params['query']:\n",
    "            base_url += f\"&query={params['query']}\"\n",
    "        if 'bloc' in params and params['bloc']:\n",
    "            base_url += f\"&bloc={params['bloc']}\"\n",
    "\n",
    "        return base_url\n",
    "\n",
    "    def _get_page_data(self, url: str) -> pd.DataFrame:\n",
    "        \"\"\"\n",
    "        Возвращает pd.DataFrame со списком статей по текущему url\n",
    "        \"\"\"\n",
    "        try:\n",
    "            time.sleep(2)\n",
    "            response = rq.get(url, timeout=10)\n",
    "            response.raise_for_status()\n",
    "            data = response.json()\n",
    "            if 'matches' in data:\n",
    "                return pd.DataFrame(data['matches'])\n",
    "\n",
    "            logging.warning(f\"Статьи не найдены: {url}\")\n",
    "            return pd.DataFrame()\n",
    "        except Exception as e:\n",
    "            logging.error(f\"Ошибка при загрузке url {url}: {e}\")\n",
    "            return pd.DataFrame()\n",
    "\n",
    "    def parse_category(self, bloc: int = None, query: str = None) -> pd.DataFrame:\n",
    "        \"\"\"\n",
    "        Парсит переданную категорию и возвращает pd.DataFrame\n",
    "        \"\"\"\n",
    "        size = 250  # скачиванием батчами, чтобы не вылететь по таймауту\n",
    "        search_from = 1\n",
    "        articles_df = pd.DataFrame()\n",
    "\n",
    "        while search_from < 4000:\n",
    "            params = {\n",
    "                'size': size,\n",
    "                'search_from': search_from,\n",
    "            }\n",
    "            if query:\n",
    "                params['query'] = query\n",
    "            if bloc:\n",
    "                params['bloc'] = bloc\n",
    "\n",
    "            url = self._get_url(params)\n",
    "            page_data = self._get_page_data(url)\n",
    "\n",
    "            if page_data.empty:\n",
    "                logging.info(f\"Не найдено данных для категории {bloc}\")\n",
    "                break\n",
    "\n",
    "            articles_df = pd.concat([articles_df, page_data], ignore_index=True)\n",
    "            search_from += size\n",
    "\n",
    "        logging.info(f\"Для категории {bloc} найдено {articles_df.shape[0]} статей\")\n",
    "        return articles_df\n",
    "\n",
    "    def parse(self) -> pd.DataFrame:\n",
    "        \"\"\"\n",
    "        Парсит все переданные категории и возвращает обший pd.DataFrame\n",
    "        \"\"\"\n",
    "        df = pd.DataFrame()\n",
    "\n",
    "        with ThreadPoolExecutor() as executor:\n",
    "            results = list(executor.map(self.parse_category, lenta_blocs_indexes))\n",
    "\n",
    "        for result in results:\n",
    "            df = pd.concat([df, result], ignore_index=True)\n",
    "\n",
    "        query_results = self.parse_category(query='Строительство')\n",
    "        query_results['bloc'] = 6\n",
    "        df = pd.concat([df, query_results], ignore_index=True)\n",
    "\n",
    "        logging.info(f\"Всего статей: {df.shape[0]}\")\n",
    "        return df"
   ],
   "id": "128178402bcc5324",
   "outputs": [],
   "execution_count": 49
  },
  {
   "metadata": {
    "ExecuteTime": {
     "end_time": "2024-12-22T11:06:45.963330Z",
     "start_time": "2024-12-22T11:04:14.690843Z"
    }
   },
   "cell_type": "code",
   "source": [
    "lenta_parser = LentaParser()\n",
    "lenta_df = lenta_parser.parse()\n",
    "lenta_df.shape"
   ],
   "id": "f51a57bb36e21ad",
   "outputs": [
    {
     "name": "stderr",
     "output_type": "stream",
     "text": [
      "2024-12-22 14:05:26,231 - INFO - Для категории 37 найдено 4000 статей\n",
      "2024-12-22 14:05:27,184 - INFO - Для категории 48 найдено 4000 статей\n",
      "2024-12-22 14:05:28,140 - INFO - Для категории 3 найдено 4000 статей\n",
      "2024-12-22 14:05:31,376 - INFO - Для категории 5 найдено 4000 статей\n",
      "2024-12-22 14:05:31,525 - INFO - Для категории 8 найдено 4000 статей\n",
      "2024-12-22 14:05:32,059 - INFO - Для категории 4 найдено 4000 статей\n",
      "2024-12-22 14:05:33,103 - INFO - Для категории 1 найдено 4000 статей\n",
      "2024-12-22 14:05:34,192 - INFO - Для категории 87 найдено 4000 статей\n",
      "2024-12-22 14:06:45,942 - INFO - Для категории None найдено 4000 статей\n",
      "2024-12-22 14:06:45,950 - INFO - Всего статей: 36000\n"
     ]
    },
    {
     "data": {
      "text/plain": [
       "(36000, 16)"
      ]
     },
     "execution_count": 63,
     "metadata": {},
     "output_type": "execute_result"
    }
   ],
   "execution_count": 63
  },
  {
   "metadata": {
    "ExecuteTime": {
     "end_time": "2024-12-22T11:06:46.023263Z",
     "start_time": "2024-12-22T11:06:46.010056Z"
    }
   },
   "cell_type": "code",
   "source": "lenta_df.head()",
   "id": "e1bbc279ee1884dc",
   "outputs": [
    {
     "data": {
      "text/plain": [
       "     docid                                                url  \\\n",
       "0  1753996  https://lenta.ru/news/2024/12/22/putin-predupr...   \n",
       "1  1753995  https://lenta.ru/news/2024/12/22/v-kurskoy-obl...   \n",
       "2  1753991  https://lenta.ru/news/2024/12/22/v-kazani-pozh...   \n",
       "3  1753984  https://lenta.ru/news/2024/12/22/peskov-zayavi...   \n",
       "4  1753985  https://lenta.ru/news/2024/12/22/putin-rasskaz...   \n",
       "\n",
       "                                               title    modified  lastmodtime  \\\n",
       "0    Путин предупредил об ответе России на эскалацию  1734864598   1734864598   \n",
       "1  В Курской области отражены три атаки украински...  1734864484   1734864530   \n",
       "2  В Казани пожаловались на массовую недоступност...  1734863340   1734864082   \n",
       "3  Песков заявил об искренне поразившем его блоге...  1734862140   1734864181   \n",
       "4  Путин рассказал о спорах в Минобороны вокруг «...  1734861780   1734862979   \n",
       "\n",
       "   type  domain  status  part  bloc tags  \\\n",
       "0     1       1       0     0     1  [1]   \n",
       "1     1       1       0     0     1  [1]   \n",
       "2     1       1       0     0     1  [2]   \n",
       "3     1       1       0     0     1  [2]   \n",
       "4     1       1       0     0     1  [1]   \n",
       "\n",
       "                                           image_url     pubdate  \\\n",
       "0  https://icdn.lenta.ru/images/2024/12/22/13/202...  1734864598   \n",
       "1  https://icdn.lenta.ru/images/2024/12/22/13/202...  1734864484   \n",
       "2  https://icdn.lenta.ru/images/2024/12/22/13/202...  1734863340   \n",
       "3  https://icdn.lenta.ru/images/2024/12/22/13/202...  1734862140   \n",
       "4  https://icdn.lenta.ru/images/2024/12/22/13/202...  1734861780   \n",
       "\n",
       "                                                text  \\\n",
       "0  Фото: Гавриил Григоров / РИА Новости Фариза Ба...   \n",
       "1  Фото: Сергей Бобылев / РИА Новости Алан Босико...   \n",
       "2  Фото: Павел Колядин / РИА Новости Алан Босиков...   \n",
       "3  Фото: Дмитрий Азаров / Коммерсантъ Фариза Баца...   \n",
       "4  Фото: Министерство обороны РФ / РИА Новости Ал...   \n",
       "\n",
       "                                            rightcol  \\\n",
       "0    Путин предупредил об ответе России на эскалацию   \n",
       "1  В Курской области отражены три атаки украински...   \n",
       "2  В Казани пожаловались на массовую недоступност...   \n",
       "3  Песков заявил об искренне поразившем его блоге...   \n",
       "4  Путин рассказал о спорах в Минобороны вокруг «...   \n",
       "\n",
       "                                             snippet  \n",
       "0  Фото: Гавриил Григоров / РИА Новости ... ситуа...  \n",
       "1  Фото: Сергей Бобылев / РИА Новости Алан ... (В...  \n",
       "2  Фото: Павел Колядин / РИА Новости Алан ... лет...  \n",
       "3  Фото: Дмитрий Азаров / Коммерсантъ ... на прям...  \n",
       "4  Фото: Министерство обороны РФ / РИА ... россий...  "
      ],
      "text/html": [
       "<div>\n",
       "<style scoped>\n",
       "    .dataframe tbody tr th:only-of-type {\n",
       "        vertical-align: middle;\n",
       "    }\n",
       "\n",
       "    .dataframe tbody tr th {\n",
       "        vertical-align: top;\n",
       "    }\n",
       "\n",
       "    .dataframe thead th {\n",
       "        text-align: right;\n",
       "    }\n",
       "</style>\n",
       "<table border=\"1\" class=\"dataframe\">\n",
       "  <thead>\n",
       "    <tr style=\"text-align: right;\">\n",
       "      <th></th>\n",
       "      <th>docid</th>\n",
       "      <th>url</th>\n",
       "      <th>title</th>\n",
       "      <th>modified</th>\n",
       "      <th>lastmodtime</th>\n",
       "      <th>type</th>\n",
       "      <th>domain</th>\n",
       "      <th>status</th>\n",
       "      <th>part</th>\n",
       "      <th>bloc</th>\n",
       "      <th>tags</th>\n",
       "      <th>image_url</th>\n",
       "      <th>pubdate</th>\n",
       "      <th>text</th>\n",
       "      <th>rightcol</th>\n",
       "      <th>snippet</th>\n",
       "    </tr>\n",
       "  </thead>\n",
       "  <tbody>\n",
       "    <tr>\n",
       "      <th>0</th>\n",
       "      <td>1753996</td>\n",
       "      <td>https://lenta.ru/news/2024/12/22/putin-predupr...</td>\n",
       "      <td>Путин предупредил об ответе России на эскалацию</td>\n",
       "      <td>1734864598</td>\n",
       "      <td>1734864598</td>\n",
       "      <td>1</td>\n",
       "      <td>1</td>\n",
       "      <td>0</td>\n",
       "      <td>0</td>\n",
       "      <td>1</td>\n",
       "      <td>[1]</td>\n",
       "      <td>https://icdn.lenta.ru/images/2024/12/22/13/202...</td>\n",
       "      <td>1734864598</td>\n",
       "      <td>Фото: Гавриил Григоров / РИА Новости Фариза Ба...</td>\n",
       "      <td>Путин предупредил об ответе России на эскалацию</td>\n",
       "      <td>Фото: Гавриил Григоров / РИА Новости ... ситуа...</td>\n",
       "    </tr>\n",
       "    <tr>\n",
       "      <th>1</th>\n",
       "      <td>1753995</td>\n",
       "      <td>https://lenta.ru/news/2024/12/22/v-kurskoy-obl...</td>\n",
       "      <td>В Курской области отражены три атаки украински...</td>\n",
       "      <td>1734864484</td>\n",
       "      <td>1734864530</td>\n",
       "      <td>1</td>\n",
       "      <td>1</td>\n",
       "      <td>0</td>\n",
       "      <td>0</td>\n",
       "      <td>1</td>\n",
       "      <td>[1]</td>\n",
       "      <td>https://icdn.lenta.ru/images/2024/12/22/13/202...</td>\n",
       "      <td>1734864484</td>\n",
       "      <td>Фото: Сергей Бобылев / РИА Новости Алан Босико...</td>\n",
       "      <td>В Курской области отражены три атаки украински...</td>\n",
       "      <td>Фото: Сергей Бобылев / РИА Новости Алан ... (В...</td>\n",
       "    </tr>\n",
       "    <tr>\n",
       "      <th>2</th>\n",
       "      <td>1753991</td>\n",
       "      <td>https://lenta.ru/news/2024/12/22/v-kazani-pozh...</td>\n",
       "      <td>В Казани пожаловались на массовую недоступност...</td>\n",
       "      <td>1734863340</td>\n",
       "      <td>1734864082</td>\n",
       "      <td>1</td>\n",
       "      <td>1</td>\n",
       "      <td>0</td>\n",
       "      <td>0</td>\n",
       "      <td>1</td>\n",
       "      <td>[2]</td>\n",
       "      <td>https://icdn.lenta.ru/images/2024/12/22/13/202...</td>\n",
       "      <td>1734863340</td>\n",
       "      <td>Фото: Павел Колядин / РИА Новости Алан Босиков...</td>\n",
       "      <td>В Казани пожаловались на массовую недоступност...</td>\n",
       "      <td>Фото: Павел Колядин / РИА Новости Алан ... лет...</td>\n",
       "    </tr>\n",
       "    <tr>\n",
       "      <th>3</th>\n",
       "      <td>1753984</td>\n",
       "      <td>https://lenta.ru/news/2024/12/22/peskov-zayavi...</td>\n",
       "      <td>Песков заявил об искренне поразившем его блоге...</td>\n",
       "      <td>1734862140</td>\n",
       "      <td>1734864181</td>\n",
       "      <td>1</td>\n",
       "      <td>1</td>\n",
       "      <td>0</td>\n",
       "      <td>0</td>\n",
       "      <td>1</td>\n",
       "      <td>[2]</td>\n",
       "      <td>https://icdn.lenta.ru/images/2024/12/22/13/202...</td>\n",
       "      <td>1734862140</td>\n",
       "      <td>Фото: Дмитрий Азаров / Коммерсантъ Фариза Баца...</td>\n",
       "      <td>Песков заявил об искренне поразившем его блоге...</td>\n",
       "      <td>Фото: Дмитрий Азаров / Коммерсантъ ... на прям...</td>\n",
       "    </tr>\n",
       "    <tr>\n",
       "      <th>4</th>\n",
       "      <td>1753985</td>\n",
       "      <td>https://lenta.ru/news/2024/12/22/putin-rasskaz...</td>\n",
       "      <td>Путин рассказал о спорах в Минобороны вокруг «...</td>\n",
       "      <td>1734861780</td>\n",
       "      <td>1734862979</td>\n",
       "      <td>1</td>\n",
       "      <td>1</td>\n",
       "      <td>0</td>\n",
       "      <td>0</td>\n",
       "      <td>1</td>\n",
       "      <td>[1]</td>\n",
       "      <td>https://icdn.lenta.ru/images/2024/12/22/13/202...</td>\n",
       "      <td>1734861780</td>\n",
       "      <td>Фото: Министерство обороны РФ / РИА Новости Ал...</td>\n",
       "      <td>Путин рассказал о спорах в Минобороны вокруг «...</td>\n",
       "      <td>Фото: Министерство обороны РФ / РИА ... россий...</td>\n",
       "    </tr>\n",
       "  </tbody>\n",
       "</table>\n",
       "</div>"
      ]
     },
     "execution_count": 64,
     "metadata": {},
     "output_type": "execute_result"
    }
   ],
   "execution_count": 64
  },
  {
   "metadata": {
    "ExecuteTime": {
     "end_time": "2024-12-22T11:06:46.085114Z",
     "start_time": "2024-12-22T11:06:46.080184Z"
    }
   },
   "cell_type": "code",
   "source": "lenta_df['bloc'].value_counts(normalize=True)",
   "id": "79c49f46e3a1df4e",
   "outputs": [
    {
     "data": {
      "text/plain": [
       "bloc\n",
       "1     0.111111\n",
       "3     0.111111\n",
       "4     0.111111\n",
       "5     0.111111\n",
       "8     0.111111\n",
       "37    0.111111\n",
       "48    0.111111\n",
       "87    0.111111\n",
       "6     0.111111\n",
       "Name: proportion, dtype: float64"
      ]
     },
     "execution_count": 65,
     "metadata": {},
     "output_type": "execute_result"
    }
   ],
   "execution_count": 65
  },
  {
   "metadata": {
    "ExecuteTime": {
     "end_time": "2024-12-22T11:06:47.372277Z",
     "start_time": "2024-12-22T11:06:46.179924Z"
    }
   },
   "cell_type": "code",
   "source": [
    "df = lenta_df[['bloc', 'text']]\n",
    "df = df[df['text'].notnull() & (df['text'].str.split().str.len() > 5)]\n",
    "df = df.drop_duplicates()\n",
    "\n",
    "df.shape"
   ],
   "id": "b11560b752cba553",
   "outputs": [
    {
     "data": {
      "text/plain": [
       "(36000, 2)"
      ]
     },
     "execution_count": 66,
     "metadata": {},
     "output_type": "execute_result"
    }
   ],
   "execution_count": 66
  },
  {
   "metadata": {
    "ExecuteTime": {
     "end_time": "2024-12-22T11:06:47.475049Z",
     "start_time": "2024-12-22T11:06:47.463746Z"
    }
   },
   "cell_type": "code",
   "source": [
    "lenta_categories = {\n",
    "    1: 'Общество/Россия',\n",
    "    3: 'Бывший СССР',\n",
    "    4: 'Экономика',\n",
    "    5: 'Наука и техника',\n",
    "    8: 'Спорт',\n",
    "    37: 'Силовые структуры',\n",
    "    48: 'Туризм/Путешествия',\n",
    "    87: 'Забота о себе',\n",
    "    6: 'Строительство'\n",
    "}\n",
    "article_categories = {\n",
    "    0: 'Общество/Россия',\n",
    "    1: 'Экономика',\n",
    "    2: 'Силовые структуры',\n",
    "    3: 'Бывший СССР',\n",
    "    4: 'Спорт',\n",
    "    5: 'Забота о себе',\n",
    "    6: 'Строительство',\n",
    "    7: 'Туризм/Путешествия',\n",
    "    8: 'Наука и техника'\n",
    "}\n",
    "\n",
    "new_mapping = {v: k for k, v in article_categories.items()}\n",
    "df['bloc'] = df['bloc'].dropna().map(lenta_categories).map(new_mapping)\n",
    "df['bloc'].value_counts(normalize=True)"
   ],
   "id": "8f3810b324a33038",
   "outputs": [
    {
     "data": {
      "text/plain": [
       "bloc\n",
       "0    0.111111\n",
       "3    0.111111\n",
       "1    0.111111\n",
       "8    0.111111\n",
       "4    0.111111\n",
       "2    0.111111\n",
       "7    0.111111\n",
       "5    0.111111\n",
       "6    0.111111\n",
       "Name: proportion, dtype: float64"
      ]
     },
     "execution_count": 67,
     "metadata": {},
     "output_type": "execute_result"
    }
   ],
   "execution_count": 67
  },
  {
   "metadata": {
    "ExecuteTime": {
     "end_time": "2024-12-22T11:06:54.217162Z",
     "start_time": "2024-12-22T11:06:53.067698Z"
    }
   },
   "cell_type": "code",
   "source": "df.to_csv('./lenta_df.csv')",
   "id": "cd94327c47f81359",
   "outputs": [],
   "execution_count": 68
  }
 ],
 "metadata": {
  "kernelspec": {
   "display_name": "Python 3",
   "language": "python",
   "name": "python3"
  },
  "language_info": {
   "codemirror_mode": {
    "name": "ipython",
    "version": 2
   },
   "file_extension": ".py",
   "mimetype": "text/x-python",
   "name": "python",
   "nbconvert_exporter": "python",
   "pygments_lexer": "ipython2",
   "version": "2.7.6"
  }
 },
 "nbformat": 4,
 "nbformat_minor": 5
}
