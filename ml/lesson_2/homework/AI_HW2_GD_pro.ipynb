{
 "nbformat": 4,
 "nbformat_minor": 0,
 "metadata": {
  "colab": {
   "provenance": [],
   "include_colab_link": true
  },
  "kernelspec": {
   "name": "python3",
   "display_name": "Python 3 (ipykernel)",
   "language": "python"
  },
  "language_info": {
   "name": "python"
  }
 },
 "cells": [
  {
   "cell_type": "markdown",
   "metadata": {
    "id": "view-in-github",
    "colab_type": "text"
   },
   "source": [
    "<a href=\"https://colab.research.google.com/github/Murcha1990/ML_AI24/blob/main/Hometasks/Pro/AI_HW2_GD_pro.ipynb\" target=\"_parent\"><img src=\"https://colab.research.google.com/assets/colab-badge.svg\" alt=\"Open In Colab\"/></a>"
   ]
  },
  {
   "cell_type": "markdown",
   "source": [
    "# **Домашнее задание 2: Градиентный спуск (pro)**\n",
    "\n",
    "В этом задании две части - теоретическая и практическая. Теорию можно набирать, используя LaTex или просто решать на листочке, сфотографировать и отправить вместе с заполненным ноутбуком в anytask.\n",
    "\n",
    "Максимальный балл за домашнее задание - 10."
   ],
   "metadata": {
    "id": "lJ1Hwqs18fSZ"
   }
  },
  {
   "cell_type": "markdown",
   "source": [
    "## Часть 1 (теоретическая)\n",
    "\n",
    "## Задание 1 (**1.5 балла**)\n",
    "\n",
    "В случае одномерной Ridge-регрессии минимизируется функция со штрафом:\n",
    "$$Q(w) = (y-xw)^T(y-xw)+\\lambda w^2,$$\n",
    "где $\\lambda$ - положительный параметр, штрафующий функцию за слишком большие значения $w$.\n",
    "\n",
    "1)  (**0.5 балла**) Найдите производную $\\nabla_w Q(w)$, выведите формулу для оптимального $w$.\n",
    "\n",
    "2) (**0.5 балла**) Найдите вторую производную $\\nabla^2_w Q(w)$. Убедитесь, что мы оказались в точке минимума.\n",
    "\n",
    "3) (**0.5 балла**) Выпишите шаг градиентного спуска в матричном виде."
   ],
   "metadata": {
    "id": "EMZ5My7kiPY_"
   }
  },
  {
   "cell_type": "markdown",
   "source": [
    "1. Производная $\\nabla_w Q(w)$:\n",
    "    $$Q(w) = (y^T - w x^T)(y - xw) + \\lambda w^2 = y^T y - 2 w x^T y + w^2 x^T x + \\lambda w^2$$\n",
    "    $$\\nabla_w Q(w) = -2x^T y + 2w x^T x + 2\\lambda w$$\n",
    "Оптимальное значение $w$:\n",
    "    $$-2x^T y + 2w(x^T x + \\lambda) = 0$$\n",
    "    $$w = \\frac{x^T y}{x^T x + \\lambda}$$\n",
    "2. Вторая производная $\\nabla^2_w Q(w)$:\n",
    "    $$\\nabla_w Q(w) = -2x^T y + 2w(x^T x + \\lambda)$$\n",
    "    $$\\nabla^2_w Q(w) = 2(x^T x + \\lambda)$$\n",
    "Так как $\\lambda > 0 => x^T x + \\lambda > 0$, вторая производная положительна => $w$ находится в точке минимума.\n",
    "3. Шаг градиентного спуска:\n",
    "    $$w^{(k+1)} = w^{(k)} - \\eta \\nabla_w Q(w^{(k)})$$\n",
    "    $$w^{(k+1)} = w^{(k)} - \\eta \\left(-2x^T y + 2w^{(k)}(x^T x + \\lambda)\\right)$$\n",
    "    $$w^{(k+1)} = w^{(k)} + 2\\eta x^T y - 2\\eta w^{(k)} (x^T x + \\lambda)$$\n",
    "    $$w^{(k+1)} = w^{(k)} (1 - 2\\eta (x^T x + \\lambda)) + 2\\eta x^T y$$\n"
   ],
   "metadata": {
    "id": "LQMI7b9Y9KvW"
   }
  },
  {
   "cell_type": "markdown",
   "source": [
    "## Часть 2 (практическая).\n",
    "\n",
    "## Задание 2 (**1 балл**)\n",
    "\n",
    "Дана функция: $$f(x) = x\\cdot sin(5x) + 0.1 \\cdot x^2$$\n",
    "\n",
    "Для этой функции:\n",
    "\n",
    "- [ ] Реализуйте (или возьмите рассмотренный на занятии) метод градиетного спуска с условием остановки `stop=1e^-6` и шагом `eta=0.001`. **Градиетный спуск обязательно должен сохранять траекторию движения.**\n",
    "- [ ] Задайте стартовые точки x0, равные 0, 0.5, 1\n",
    "- [ ] Реализуйте нахождение точек минимума и максимума функции $f(x)$ (для нахождения максимума нам нужно в направлении градиента, а не антиградиента)\n",
    "- [ ] Проанализируйте результаты. Предположите, с чем они связаны. Ответьте на вопросы:\n",
    "    - Чему равны значения экстремумов?\n",
    "    - При старте из какой начальной точки найденные экстремумы совпадут?\n",
    "\n",
    "\n"
   ],
   "metadata": {
    "id": "_pGazqdK9Tvf"
   }
  },
  {
   "cell_type": "code",
   "source": [
    "import numpy as np\n",
    "\n",
    "# Функция и её производная\n",
    "def f(x):\n",
    "    return x * np.sin(5 * x) + 0.1 * x**2\n",
    "\n",
    "def df(x):\n",
    "    return np.sin(5 * x) + 5 * x * np.cos(5 * x) + 0.2 * x\n",
    "\n",
    "# Градиентный спуск\n",
    "def gradient_descent(f, df, x0, eta, max_iter=1000, tol=1e-6):\n",
    "    x = x0\n",
    "    trajectory = [x]\n",
    "    for _ in range(max_iter):\n",
    "        x_next = x - eta * df(x)\n",
    "        trajectory.append(x_next)\n",
    "        if abs(x_next - x) < tol:\n",
    "            break\n",
    "        x = x_next\n",
    "    return x, trajectory\n",
    "\n",
    "# Поиск экстремумов\n",
    "def find_points(f, df, x0, eta, max_iter=1000, tol=1e-6):\n",
    "    x_min, traj_min = gradient_descent(f, df, x0, eta, max_iter, tol)\n",
    "    x_max, traj_max = gradient_descent(f, df, x0, -eta, max_iter, tol)\n",
    "\n",
    "    return (x_min, traj_min), (x_max, traj_max)"
   ],
   "metadata": {
    "id": "HJbAEs3_-zet",
    "ExecuteTime": {
     "end_time": "2024-12-12T13:08:52.577384Z",
     "start_time": "2024-12-12T13:08:52.445802Z"
    }
   },
   "outputs": [],
   "execution_count": 3
  },
  {
   "metadata": {
    "ExecuteTime": {
     "end_time": "2024-12-12T13:08:52.595390Z",
     "start_time": "2024-12-12T13:08:52.586382Z"
    }
   },
   "cell_type": "code",
   "source": [
    "eta = 0.001\n",
    "tol = 1e-6\n",
    "x0_values = [0, 0.5, 1]\n",
    "\n",
    "for x0 in x0_values:\n",
    "    (x_min, traj_min), (x_max, traj_max) = find_points(f, df, x0, eta)\n",
    "    print(f\"x0 = {x0}\")\n",
    "    print(f\"Минимум: x = {x_min:.6f}, f(x) = {f(x_min):.6f}\")\n",
    "    print(f\"Траектория минимума: {traj_min[:5]}\")\n",
    "    print(f\"Максимум: x = {x_max:.6f}, f(x) = {f(x_max):.6f}\")\n",
    "    print(f\"Траектория максимума: {traj_max[:5]}\")\n",
    "    print()"
   ],
   "outputs": [
    {
     "name": "stdout",
     "output_type": "stream",
     "text": [
      "x0 = 0\n",
      "Минимум: x = 0.000000, f(x) = 0.000000\n",
      "Траектория минимума: [0, np.float64(0.0)]\n",
      "Максимум: x = 0.000000, f(x) = 0.000000\n",
      "Траектория максимума: [0, np.float64(0.0)]\n",
      "\n",
      "x0 = 0.5\n",
      "Минимум: x = 0.975061, f(x) = -0.867075\n",
      "Траектория минимума: [0.5, np.float64(0.5013043868947634), np.float64(0.50262871628548), np.float64(0.5039732826996968), np.float64(0.505338383290982)]\n",
      "Максимум: x = 0.411857, f(x) = 0.380650\n",
      "Траектория максимума: [0.5, np.float64(0.49869561310523663), np.float64(0.49741117753027747), np.float64(0.49614639546416095), np.float64(0.4949009721009791)]\n",
      "\n",
      "x0 = 1\n",
      "Минимум: x = 0.975138, f(x) = -0.867075\n",
      "Траектория минимума: [1, np.float64(0.999340613347347), np.float64(0.9986990285873348), np.float64(0.9980747496917983), np.float64(0.9974672950734235)]\n",
      "Максимум: x = 1.603529, f(x) = 1.839232\n",
      "Траектория максимума: [1, np.float64(1.000659386652653), np.float64(1.0013365910510574), np.float64(1.002032110939009), np.float64(1.0027464586023058)]\n",
      "\n"
     ]
    }
   ],
   "execution_count": 4
  },
  {
   "metadata": {},
   "cell_type": "markdown",
   "source": "При старте из x0 = 0.5 и x0 = 1 минимумы совпадают, видимо локальный минимум для обеих точек = 0.975"
  },
  {
   "cell_type": "markdown",
   "source": [
    "## Задание 3 (**0.5 балла**).\n",
    "Напишите функцию, вычисляющую значение весов в линейной регрессии по точной (аналитически найденной) формуле."
   ],
   "metadata": {
    "id": "lm6_Ln0GoliG"
   }
  },
  {
   "cell_type": "code",
   "source": [
    "def ols_solution(X, y):\n",
    "    X = np.hstack((np.ones((X.shape[0], 1)), X))\n",
    "    return np.linalg.inv(X.T @ X) @ X.T @ y"
   ],
   "metadata": {
    "id": "ZrVvpU9miOga",
    "ExecuteTime": {
     "end_time": "2024-12-12T13:08:52.614367Z",
     "start_time": "2024-12-12T13:08:52.610954Z"
    }
   },
   "outputs": [],
   "execution_count": 5
  },
  {
   "cell_type": "markdown",
   "source": [
    "## Задание 5 (**1 балл**).\n",
    "Модифицируйте метод градиентного спуска с семинара так, чтобы это теперь был метод стохастического градиентного спуска."
   ],
   "metadata": {
    "id": "_shCsTQ1pVcU"
   }
  },
  {
   "metadata": {
    "ExecuteTime": {
     "end_time": "2024-12-12T13:08:52.632432Z",
     "start_time": "2024-12-12T13:08:52.627980Z"
    }
   },
   "cell_type": "code",
   "source": [
    "# Из семинара\n",
    "def compute_cost(X, y, theta):\n",
    "    m = len(y)\n",
    "\n",
    "    cost = (1./m) * (np.linalg.norm(X @ theta - y) ** 2)\n",
    "    return cost\n",
    "\n",
    "def gradient_descent(X, y, learning_rate, iterations):\n",
    "\n",
    "    X = np.hstack((np.ones((X.shape[0], 1)), X)) # добавляем к Х столбец из 1\n",
    "    params = np.random.rand(X.shape[1])\n",
    "\n",
    "    m = X.shape[0]\n",
    "\n",
    "    cost_track = np.zeros((iterations,1))\n",
    "\n",
    "    for i in range(iterations):\n",
    "        params = params - 2./m * learning_rate * (X.T @ ((X @ params) - y))\n",
    "        cost_track[i] = compute_cost(X, y, params)\n",
    "\n",
    "    return cost_track, params"
   ],
   "outputs": [],
   "execution_count": 6
  },
  {
   "cell_type": "code",
   "source": [
    "def stochastic_gradient_descent(X, y, learning_rate, iterations):\n",
    "    X = np.hstack((np.ones((X.shape[0], 1)), X))\n",
    "    params = np.random.rand(X.shape[1])\n",
    "\n",
    "    m = X.shape[0]\n",
    "\n",
    "    cost_track = np.zeros((iterations, 1))\n",
    "\n",
    "    for i in range(iterations):\n",
    "        rand_idx = np.random.randint(0, m)\n",
    "\n",
    "        X_i = X[rand_idx:rand_idx+1]\n",
    "        y_i = y[rand_idx:rand_idx+1]\n",
    "\n",
    "        gradient = 2 * X_i.T @ ((X_i @ params) - y_i)\n",
    "        params = params - learning_rate * gradient\n",
    "        cost_track[i] = compute_cost(X, y, params)\n",
    "\n",
    "    return cost_track, params"
   ],
   "metadata": {
    "id": "fTZWxz1zpb9R",
    "ExecuteTime": {
     "end_time": "2024-12-12T13:08:52.643569Z",
     "start_time": "2024-12-12T13:08:52.639428Z"
    }
   },
   "outputs": [],
   "execution_count": 7
  },
  {
   "cell_type": "markdown",
   "source": [
    "## Задание 6 (**3 балла**).\n",
    "* **(0 баллов)**. Скопируйте метод градиентного спуска из семинара в этот ноутбук.\n",
    "\n",
    "* **(0.5 балла)**. Обучите линейную регрессию на данных, сгенерированных ниже, тремя методами (по точной формуле, с помощью GD и с помощью SGD) на данных для задачи регрессии (см. код). Для GD и SGD используйте learning_rate = 0.01, iterations=10000.\n",
    "\n",
    "* **(0.5 балла)**. С помощью каждого метода сделайте предсказание (на всех данных), вычислите качество предсказания r2 (from sklearn.metrics import r2_score). Для получения предсказания можете использовать функцию predict с семинара.\n",
    "\n",
    "\n",
    "Ответьте на следующие вопросы (каждый вопрос - **0.5 балла**):\n",
    "\n",
    "1) все ли методы справились с нахождением минимума? если нет, то почему какой-то из методов не справился?\n",
    "\n",
    "2) сравните время работы методов (используйте библиотеку time): замеряйте время работы соответствующей написанной вами функции.\n",
    "\n",
    "3) для методов GD и SGD нарисуйте графики (для каждого свой) зависимости ошибки (loss) от номера итерации.\n",
    "\n",
    "4) какой метод успешнее всего справился с задачей? (т.е. r2 наибольший)."
   ],
   "metadata": {
    "id": "WnRlUa9Npi9o"
   }
  },
  {
   "cell_type": "code",
   "source": [
    "from sklearn.datasets import make_regression\n",
    "import pandas as pd\n",
    "import numpy as np\n",
    "\n",
    "X, y, _ = make_regression(n_samples=100000,#number of samples\n",
    "                          n_features=10,#number of features\n",
    "                          n_informative=8,#number of useful features\n",
    "                          noise=100,#bias and standard deviation of the guassian noise\n",
    "                          coef=True,#true coefficient used to generated the data\n",
    "                          random_state=123)\n",
    "\n",
    "X = pd.DataFrame(data=X, columns=np.arange(0, X.shape[1]))\n",
    "X[10] = X[6] + X[7] + np.random.random()*0.01"
   ],
   "metadata": {
    "id": "LBu41KSpqbbI",
    "ExecuteTime": {
     "end_time": "2024-12-12T13:08:54.318312Z",
     "start_time": "2024-12-12T13:08:52.650661Z"
    }
   },
   "outputs": [],
   "execution_count": 8
  },
  {
   "metadata": {
    "ExecuteTime": {
     "end_time": "2024-12-12T13:08:54.412662Z",
     "start_time": "2024-12-12T13:08:54.331578Z"
    }
   },
   "cell_type": "code",
   "source": [
    "from sklearn.metrics import r2_score\n",
    "\n",
    "def predict(X, params):\n",
    "    X = np.hstack((np.ones((X.shape[0], 1)), X))\n",
    "    return X @ params"
   ],
   "outputs": [],
   "execution_count": 9
  },
  {
   "cell_type": "code",
   "source": [
    "import time\n",
    "\n",
    "start_time = time.time()\n",
    "ols_params = ols_solution(X, y)\n",
    "ols_time = time.time() - start_time\n",
    "\n",
    "start_time = time.time()\n",
    "_, gd_params = gradient_descent(X, y, learning_rate=0.01, iterations=10000)\n",
    "gd_time = time.time() - start_time\n",
    "\n",
    "start_time = time.time()\n",
    "_, sgd_params = stochastic_gradient_descent(X, y, learning_rate=0.01, iterations=10000)\n",
    "sgd_time = time.time() - start_time\n",
    "\n",
    "ols_preds = predict(X, ols_params)\n",
    "gd_preds = predict(X, gd_params)\n",
    "sgd_preds = predict(X, sgd_params)\n",
    "\n",
    "ols_r2 = r2_score(y, ols_preds)\n",
    "gd_r2 = r2_score(y, gd_preds)\n",
    "sgd_r2 = r2_score(y, sgd_preds)\n",
    "\n",
    "print(f\"OLS r2 Score: {ols_r2:.4f}\")\n",
    "print(f\"GD r2 Score: {gd_r2:.4f}\")\n",
    "print(f\"SGD r2 Score: {sgd_r2:.4f}\")\n",
    "\n",
    "print(f\"OLS Time: {ols_time:.4f}\")\n",
    "print(f\"GD Time: {gd_time:.4f}\")\n",
    "print(f\"SGD Time: {sgd_time:.4f}\")\n"
   ],
   "metadata": {
    "id": "f1SE0-oUtVlO",
    "ExecuteTime": {
     "end_time": "2024-12-12T13:09:03.646789Z",
     "start_time": "2024-12-12T13:08:54.423593Z"
    }
   },
   "outputs": [
    {
     "name": "stdout",
     "output_type": "stream",
     "text": [
      "OLS r2 Score: 0.7555\n",
      "GD r2 Score: 0.7555\n",
      "SGD r2 Score: 0.7364\n",
      "OLS Time: 0.0180\n",
      "GD Time: 6.1130\n",
      "SGD Time: 3.0660\n"
     ]
    }
   ],
   "execution_count": 10
  },
  {
   "metadata": {
    "ExecuteTime": {
     "end_time": "2024-12-12T13:09:14.963514Z",
     "start_time": "2024-12-12T13:09:03.663399Z"
    }
   },
   "cell_type": "code",
   "source": [
    "import matplotlib.pyplot as plt\n",
    "\n",
    "gd_loss, _ = gradient_descent(X, y, learning_rate=0.01, iterations=10000)\n",
    "sgd_loss, _ = stochastic_gradient_descent(X, y, learning_rate=0.01, iterations=10000)\n",
    "\n",
    "plt.plot(gd_loss, label=\"GD Loss\", color=\"green\")\n",
    "plt.xlabel(\"Iterations\")\n",
    "plt.ylabel(\"Loss\")\n",
    "plt.title(\"GD Loss\")\n",
    "plt.legend()\n",
    "plt.show()\n",
    "\n",
    "plt.plot(sgd_loss, label=\"SGD Loss\", color=\"blue\")\n",
    "plt.xlabel(\"Iterations\")\n",
    "plt.ylabel(\"Loss\")\n",
    "plt.title(\"SGD Loss\")\n",
    "plt.legend()\n",
    "plt.show()"
   ],
   "outputs": [
    {
     "data": {
      "text/plain": [
       "<Figure size 640x480 with 1 Axes>"
      ],
      "image/png": "[encoded data removed]"
     },
     "metadata": {},
     "output_type": "display_data"
    },
    {
     "data": {
      "text/plain": [
       "<Figure size 640x480 with 1 Axes>"
      ],
      "image/png": "[encoded data removed]"
     },
     "metadata": {},
     "output_type": "display_data"
    }
   ],
   "execution_count": 11
  },
  {
   "cell_type": "markdown",
   "source": [
    "1. В целом, все справились с нахождением минимума более-менее\n",
    "2.  OLS Time: 0.0110\n",
    "    GD Time: 6.2084\n",
    "    SGD Time: 2.9720\n",
    "4. Лучше всего справился обычный GD"
   ],
   "metadata": {
    "id": "2zrdVgQrtcAn"
   }
  },
  {
   "cell_type": "markdown",
   "source": [
    "## Задание 7 (1.5 балла).\n",
    "\n",
    "* **(0.5 балла)**. Добавьте в функцию из задания 5 L2-регуляризацию и, соответственно, новый аргумент - коэффициент при регуляризаторе.\n",
    "\n",
    "* **(1 балл)**. На сгенерированных выше данных обучите модифицированный алгоритм SGD с регуляризацией: в цикле перебирайте значения коэффициента регуляризации от 0.1 до 1 с шагом 0.1. Для каждого значения обучите модель и сделайте предсказание, выведите значение r2. Для какого значения коэффициента регуляризации получилось наилучшее качество r2, почему?"
   ],
   "metadata": {
    "id": "wYmzzJVV54zT"
   }
  },
  {
   "cell_type": "code",
   "source": [
    "def stochastic_gradient_descent_reg(X, y, learning_rate, iterations, alpha):\n",
    "    X = np.hstack((np.ones((X.shape[0], 1)), X))\n",
    "    params = np.random.rand(X.shape[1])\n",
    "\n",
    "    m = X.shape[0]\n",
    "\n",
    "    cost_track = np.zeros((iterations, 1))\n",
    "\n",
    "    for i in range(iterations):\n",
    "        rand_idx = np.random.randint(0, m)\n",
    "\n",
    "        X_i = X[rand_idx:rand_idx+1]\n",
    "        y_i = y[rand_idx:rand_idx+1]\n",
    "\n",
    "        gradient = 2 * X_i.T @ ((X_i @ params) - y_i) + 2 * alpha * params\n",
    "        params = params - learning_rate * gradient\n",
    "        cost_track[i] = compute_cost(X, y, params)\n",
    "\n",
    "    return cost_track, params"
   ],
   "metadata": {
    "id": "b_hC1Ehi612d",
    "ExecuteTime": {
     "end_time": "2024-12-12T13:17:27.468870Z",
     "start_time": "2024-12-12T13:17:27.464440Z"
    }
   },
   "outputs": [],
   "execution_count": 16
  },
  {
   "metadata": {
    "ExecuteTime": {
     "end_time": "2024-12-12T13:21:32.496188Z",
     "start_time": "2024-12-12T13:21:00.155931Z"
    }
   },
   "cell_type": "code",
   "source": [
    "for alpha in np.arange(0.1, 1.1, 0.1):\n",
    "    _, sgd_params = stochastic_gradient_descent_reg(X, y, learning_rate=0.01, iterations=10000, alpha=alpha)\n",
    "    sgd_preds = predict(X, sgd_params)\n",
    "    sgd_r2 = r2_score(y, sgd_preds)\n",
    "    print(f\"SGD r2 Score: {sgd_r2:.4f} with alpha: {alpha:.1f}\")"
   ],
   "outputs": [
    {
     "name": "stdout",
     "output_type": "stream",
     "text": [
      "SGD r2 Score: 0.7157 with alpha: 0.1\n",
      "SGD r2 Score: 0.7226 with alpha: 0.2\n",
      "SGD r2 Score: 0.7073 with alpha: 0.3\n",
      "SGD r2 Score: 0.7121 with alpha: 0.4\n",
      "SGD r2 Score: 0.6599 with alpha: 0.5\n",
      "SGD r2 Score: 0.6782 with alpha: 0.6\n",
      "SGD r2 Score: 0.6458 with alpha: 0.7\n",
      "SGD r2 Score: 0.6373 with alpha: 0.8\n",
      "SGD r2 Score: 0.5927 with alpha: 0.9\n",
      "SGD r2 Score: 0.6327 with alpha: 1.0\n"
     ]
    }
   ],
   "execution_count": 22
  },
  {
   "metadata": {},
   "cell_type": "markdown",
   "source": "Наилучший r2 score показал SGD с регуляризацией = 0.2, коэф-т > 0.5 видимо начинает штрафовать важные призннаки, поэтому качество сильно просело"
  },
  {
   "cell_type": "markdown",
   "source": [
    "## Задание 8 (2 балла)\n",
    "\n",
    "Реализуйте на выбор одну из оптимизаций градиентного спуска - Momentum или  AdaGrad. Необходимые выкладки вы можете подсмотреть [здесь](https://education.yandex.ru/handbook/ml/article/optimizaciya-v-ml)."
   ],
   "metadata": {
    "id": "zMUiRyCiCB3E"
   }
  },
  {
   "cell_type": "code",
   "source": [
    "def modified_grad_descent(X, y, learning_rate, iterations, momentum): # добавьте в аргументы также специфические для метода оптимизации гиперпараметры\n",
    "    X = np.hstack((np.ones((X.shape[0], 1)), X))\n",
    "    params = np.random.rand(X.shape[1])\n",
    "    velocity = np.zeros_like(params)\n",
    "\n",
    "    m = X.shape[0]\n",
    "\n",
    "    cost_track = np.zeros((iterations, 1))\n",
    "\n",
    "    for i in range(iterations):\n",
    "        rand_idx = np.random.randint(0, m)\n",
    "\n",
    "        X_i = X[rand_idx:rand_idx+1]\n",
    "        y_i = y[rand_idx:rand_idx+1]\n",
    "\n",
    "        gradient = 2 * X_i.T @ ((X_i @ params) - y_i)\n",
    "        velocity = momentum * velocity - learning_rate * gradient\n",
    "        params += velocity\n",
    "        cost_track[i] = compute_cost(X, y, params)\n",
    "\n",
    "    return cost_track, params"
   ],
   "metadata": {
    "id": "ID9ervHwCyc7",
    "ExecuteTime": {
     "end_time": "2024-12-12T13:34:32.362667Z",
     "start_time": "2024-12-12T13:34:32.357872Z"
    }
   },
   "outputs": [],
   "execution_count": 23
  },
  {
   "metadata": {
    "ExecuteTime": {
     "end_time": "2024-12-12T13:38:22.968937Z",
     "start_time": "2024-12-12T13:38:19.570669Z"
    }
   },
   "cell_type": "code",
   "source": [
    "cost_track, sgd_params = modified_grad_descent(X, y, learning_rate=0.01, iterations=10000, momentum=0.09)\n",
    "sgd_preds = predict(X, sgd_params)\n",
    "sgd_r2 = r2_score(y, sgd_preds)\n",
    "print(f\"SGD r2 Score with momentum: {sgd_r2:.4f}\")"
   ],
   "outputs": [
    {
     "name": "stdout",
     "output_type": "stream",
     "text": [
      "SGD r2 Score with momentum: 0.7303\n"
     ]
    }
   ],
   "execution_count": 40
  },
  {
   "metadata": {
    "ExecuteTime": {
     "end_time": "2024-12-12T13:38:24.934541Z",
     "start_time": "2024-12-12T13:38:24.827002Z"
    }
   },
   "cell_type": "code",
   "source": [
    "plt.plot(cost_track, label=\"Cost\")\n",
    "plt.xlabel(\"Iterations\")\n",
    "plt.ylabel(\"Cost\")\n",
    "plt.title(\"SGD with Momentum\")\n",
    "plt.legend()\n",
    "plt.show()"
   ],
   "outputs": [
    {
     "data": {
      "text/plain": [
       "<Figure size 640x480 with 1 Axes>"
      ],
      "image/png": "[encoded data removed]"
     },
     "metadata": {},
     "output_type": "display_data"
    }
   ],
   "execution_count": 41
  },
  {
   "cell_type": "markdown",
   "source": [
    "## Бонус\n",
    "\n",
    "## Задание 9 (0.5 балла)\n",
    "\n",
    "Существует [метод Ньютона](https://en.wikipedia.org/wiki/Newton%27s_method_in_optimization) (метод второго порядка) для поиска минимума функции.\n",
    "\n",
    "Известно, что методы второго порядка точнее, чем методы первого порядка (то есть те, которые используют только первую производную для оптимизации). Как вы думаете, почему в оптимизации функций потерь все формулы используют только производные первого порядка? Почему не используют метод Ньютона?"
   ],
   "metadata": {
    "id": "tP182Wbyh8xg"
   }
  },
  {
   "cell_type": "markdown",
   "source": "Метод Ньютона использует матрицу вторых производных функции потерь, а так же треубет вычисления обратной матрицы, соответственно вычислительная мощность будет $O(n^3)$",
   "metadata": {
    "id": "QBHOY5Ngi_C2"
   }
  },
  {
   "cell_type": "markdown",
   "source": [
    "## **Часть Котобонус** 🐈\n",
    "\n",
    "Ура-ура, с вами снова кот, который может добавить вам баллы!\n",
    "- 0.25, если вы угадаете, чей он\n",
    "- 0.05 если просто предположите\n",
    "\n",
    "**Подсказка:** кот одной из наших замечательных ассистенток!\n",
    "\n",
    "\n",
    "[Кайфующий кот](https://ibb.co/qxjz2tp)"
   ],
   "metadata": {
    "id": "u7hKRuViF7hv"
   }
  },
  {
   "cell_type": "code",
   "source": [],
   "metadata": {
    "id": "Hchpz56wGEzA"
   },
   "execution_count": null,
   "outputs": []
  }
 ]
}
