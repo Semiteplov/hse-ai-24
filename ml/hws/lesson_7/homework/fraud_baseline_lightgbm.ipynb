{
  "nbformat": 4,
  "nbformat_minor": 0,
  "metadata": {
    "colab": {
      "provenance": []
    },
    "kernelspec": {
      "name": "python3",
      "display_name": "Python 3"
    }
  },
  "cells": [
    {
      "cell_type": "code",
      "metadata": {
        "id": "eDo60bvlROz5"
      },
      "source": [
        "# скачиваем файлы\n",
        "!wget --no-check-certificate 'https://www.dropbox.com/s/5iuef7c9ljj84t6/train_transaction.csv?dl=0' -O train_transaction.csv\n",
        "!wget --no-check-certificate 'https://www.dropbox.com/s/cmy01z5fw7ohlmd/train_identity.csv?dl=0' -O train_identity.csv\n",
        "!wget --no-check-certificate 'https://www.dropbox.com/s/7thqkuxnwsa7njj/test_transaction.csv?dl=0' -O test_transaction.csv\n",
        "!wget --no-check-certificate 'https://www.dropbox.com/s/b40nvbb9e2usd5w/test_identity.csv?dl=0' -O test_identity.csv\n",
        "!wget --no-check-certificate 'https://www.dropbox.com/s/arkyoz0bel8z4d2/sample_submission.csv?dl=0' -O sample_submission.csv"
      ],
      "execution_count": null,
      "outputs": []
    },
    {
      "cell_type": "code",
      "metadata": {
        "id": "sTl1xl6pRR5t"
      },
      "source": [
        "import lightgbm as lgb\n",
        "import matplotlib.pyplot as plt\n",
        "import numpy as np\n",
        "import os\n",
        "import pandas as pd\n",
        "import seaborn as sns\n",
        "from sklearn.metrics import roc_auc_score\n",
        "from sklearn.preprocessing import LabelEncoder\n",
        "from tqdm import tqdm\n",
        "\n",
        "sns.set()\n",
        "\n",
        "%matplotlib inline"
      ],
      "execution_count": null,
      "outputs": []
    },
    {
      "cell_type": "code",
      "metadata": {
        "id": "Iz376nU4RqnN"
      },
      "source": [
        "def reduce_mem_usage(df):\n",
        "    NAlist = [] # Keeps track of columns that have missing values filled in.\n",
        "    for col in tqdm(df.columns):\n",
        "        if df[col].dtype != object:  # Exclude strings\n",
        "\n",
        "            # make variables for Int, max and min\n",
        "            IsInt = False\n",
        "            col_max_value = df[col].max()\n",
        "            col_min_value = df[col].min()\n",
        "\n",
        "            # Integer does not support NA, therefore, NA needs to be filled\n",
        "            if not np.isfinite(df[col]).all():\n",
        "                NAlist.append(col)\n",
        "                df[col].fillna(col_min_value - 1, inplace=True)\n",
        "\n",
        "            # test if column can be converted to an integer\n",
        "            col_as_int = df[col].fillna(0).astype(np.int64)\n",
        "            diff = (df[col] - col_as_int)\n",
        "            diff = diff.sum()\n",
        "            if np.abs(diff) < 0.01:\n",
        "                IsInt = True\n",
        "\n",
        "            # Make Integer/unsigned Integer datatypes\n",
        "            if IsInt:\n",
        "                if col_min_value >= 0:\n",
        "                    if col_max_value < 255:\n",
        "                        df[col] = df[col].astype(np.uint8)\n",
        "                    elif col_max_value < 65535:\n",
        "                        df[col] = df[col].astype(np.uint16)\n",
        "                    elif col_max_value < 4294967295:\n",
        "                        df[col] = df[col].astype(np.uint32)\n",
        "                    else:\n",
        "                        df[col] = df[col].astype(np.uint64)\n",
        "                else:\n",
        "                    if col_min_value > np.iinfo(np.int8).min and col_max_value < np.iinfo(np.int8).max:\n",
        "                        df[col] = df[col].astype(np.int8)\n",
        "                    elif col_min_value > np.iinfo(np.int16).min and col_max_value < np.iinfo(np.int16).max:\n",
        "                        df[col] = df[col].astype(np.int16)\n",
        "                    elif col_min_value > np.iinfo(np.int32).min and col_max_value < np.iinfo(np.int32).max:\n",
        "                        df[col] = df[col].astype(np.int32)\n",
        "                    elif col_min_value > np.iinfo(np.int64).min and col_max_value < np.iinfo(np.int64).max:\n",
        "                        df[col] = df[col].astype(np.int64)\n",
        "\n",
        "            # Make float datatypes 32 bit\n",
        "            else:\n",
        "                df[col] = df[col].astype(np.float32)\n",
        "\n",
        "    return df, NAlist"
      ],
      "execution_count": null,
      "outputs": []
    },
    {
      "cell_type": "code",
      "metadata": {
        "id": "2AEkYpqqRoN1",
        "colab": {
          "base_uri": "https://localhost:8080/",
          "height": 51
        },
        "outputId": "5cbb817f-678d-40bf-b3eb-a96590d34490"
      },
      "source": [
        "INPUT_DIR = '.'\n",
        "\n",
        "train_transaction = pd.read_csv(os.path.join(INPUT_DIR, 'train_transaction.csv'))\n",
        "train_identity = pd.read_csv(os.path.join(INPUT_DIR, 'train_identity.csv'))\n",
        "test_transaction = pd.read_csv(os.path.join(INPUT_DIR, 'test_transaction.csv'))\n",
        "test_identity = pd.read_csv(os.path.join(INPUT_DIR, 'test_identity.csv'))\n",
        "sample_submission = pd.read_csv(os.path.join(INPUT_DIR, 'sample_submission.csv'))\n",
        "\n",
        "df_train = train_transaction.merge(train_identity, how='left', on='TransactionID')\n",
        "del train_transaction, train_identity\n",
        "df_train, df_train_NAlist = reduce_mem_usage(df_train)\n",
        "\n",
        "df_test = test_transaction.merge(test_identity, how='left', on='TransactionID')\n",
        "del test_transaction, test_identity\n",
        "df_test, df_test_NAlist = reduce_mem_usage(df_test)"
      ],
      "execution_count": null,
      "outputs": [
        {
          "output_type": "stream",
          "text": [
            "100%|██████████| 434/434 [00:49<00:00,  8.72it/s]\n",
            "100%|██████████| 433/433 [00:26<00:00, 16.46it/s]\n"
          ],
          "name": "stderr"
        }
      ]
    },
    {
      "cell_type": "markdown",
      "metadata": {
        "id": "9erMcVENSZQ8"
      },
      "source": [
        "В данных есть пропуски:"
      ]
    },
    {
      "cell_type": "code",
      "metadata": {
        "id": "U07plDYGSVGy",
        "colab": {
          "base_uri": "https://localhost:8080/",
          "height": 51
        },
        "outputId": "54b0f195-3f39-4cf4-a301-69e1393c038c"
      },
      "source": [
        "print('Missing data in train: {:.5f}%'.format(df_train.isnull().sum().sum() / (df_train.shape[0] * df_train.shape[1]) * 100))\n",
        "print('Missing data in test: {:.5f}%'.format(df_test.isnull().sum().sum() / (df_test.shape[0] * df_test.shape[1]) * 100))"
      ],
      "execution_count": null,
      "outputs": [
        {
          "output_type": "stream",
          "text": [
            "Missing data in train: 4.47002%\n",
            "Missing data in test: 4.33051%\n"
          ],
          "name": "stdout"
        }
      ]
    },
    {
      "cell_type": "markdown",
      "metadata": {
        "id": "UZkF-2XcScua"
      },
      "source": [
        "Заполним пропуски в столбцах, где значения выражаются числами - `-1`, а где строками - `'unseen_category'`."
      ]
    },
    {
      "cell_type": "code",
      "metadata": {
        "id": "xlZJZWIfSbFl",
        "colab": {
          "base_uri": "https://localhost:8080/",
          "height": 51
        },
        "outputId": "7ea360d3-4c7b-49d6-d995-7e9a19804236"
      },
      "source": [
        "for col in df_train.columns.drop('isFraud'):\n",
        "    if df_train[col].dtype == 'O':\n",
        "        df_train[col] = df_train[col].fillna('unseen_category')\n",
        "        df_test[col] = df_test[col].fillna('unseen_category')\n",
        "    else:\n",
        "        df_train[col] = df_train[col].fillna(-1)\n",
        "        df_test[col] = df_test[col].fillna(-1)\n",
        "\n",
        "print('Missing data in train: {:.5f}%'.format(df_train.isnull().sum().sum() / (df_train.shape[0] * df_train.shape[1]) * 100))\n",
        "print('Missing data in test: {:.5f}%'.format(df_test.isnull().sum().sum() / (df_test.shape[0] * df_test.shape[1]) * 100))"
      ],
      "execution_count": null,
      "outputs": [
        {
          "output_type": "stream",
          "text": [
            "Missing data in train: 0.00000%\n",
            "Missing data in test: 0.00000%\n"
          ],
          "name": "stdout"
        }
      ]
    },
    {
      "cell_type": "code",
      "metadata": {
        "id": "lmNtdwZYSlFM",
        "colab": {
          "base_uri": "https://localhost:8080/",
          "height": 204
        },
        "outputId": "48cbe44b-237e-4cd2-ccc0-0480a98b61cd"
      },
      "source": [
        "df_train.info(), df_test.info()"
      ],
      "execution_count": null,
      "outputs": [
        {
          "output_type": "stream",
          "text": [
            "<class 'pandas.core.frame.DataFrame'>\n",
            "Int64Index: 417559 entries, 0 to 417558\n",
            "Columns: 434 entries, TransactionID to DeviceInfo\n",
            "dtypes: float32(80), int16(7), int8(9), object(31), uint16(40), uint32(3), uint8(264)\n",
            "memory usage: 380.3+ MB\n",
            "<class 'pandas.core.frame.DataFrame'>\n",
            "Int64Index: 172981 entries, 0 to 172980\n",
            "Columns: 433 entries, TransactionID to DeviceInfo\n",
            "dtypes: float32(78), int16(6), int8(9), object(31), uint16(57), uint32(3), uint8(249)\n",
            "memory usage: 159.0+ MB\n"
          ],
          "name": "stdout"
        },
        {
          "output_type": "execute_result",
          "data": {
            "text/plain": [
              "(None, None)"
            ]
          },
          "metadata": {
            "tags": []
          },
          "execution_count": 7
        }
      ]
    },
    {
      "cell_type": "markdown",
      "metadata": {
        "id": "DzgpNQeGSnT0"
      },
      "source": [
        "Закодируем категориальные признаки с помощью [`LabelEncoder`](https://scikit-learn.org/stable/modules/generated/sklearn.preprocessing.LabelEncoder.html) и сконвертируем их в [`category`](https://pandas.pydata.org/pandas-docs/version/0.23.4/categorical.html)."
      ]
    },
    {
      "cell_type": "code",
      "metadata": {
        "id": "VzqHjIi-S4yu",
        "colab": {
          "base_uri": "https://localhost:8080/",
          "height": 221
        },
        "outputId": "69d5e997-912a-43a0-8a75-9778f1833ed2"
      },
      "source": [
        "for col in tqdm(df_train.columns.drop('isFraud')):\n",
        "    if df_train[col].dtype == 'O':\n",
        "        le = LabelEncoder()\n",
        "        le.fit(list(df_train[col]) + list(df_test[col]))\n",
        "        df_train[col] = le.transform(df_train[col])\n",
        "        df_test[col] = le.transform(df_test[col])\n",
        "\n",
        "        df_train[col] = df_train[col].astype('category')\n",
        "        df_test[col] = df_test[col].astype('category')\n",
        "\n",
        "df_train.info(), df_test.info()"
      ],
      "execution_count": null,
      "outputs": [
        {
          "output_type": "stream",
          "text": [
            "100%|██████████| 433/433 [00:14<00:00, 30.28it/s]"
          ],
          "name": "stderr"
        },
        {
          "output_type": "stream",
          "text": [
            "<class 'pandas.core.frame.DataFrame'>\n",
            "Int64Index: 417559 entries, 0 to 417558\n",
            "Columns: 434 entries, TransactionID to DeviceInfo\n",
            "dtypes: category(31), float32(80), int16(7), int8(9), uint16(40), uint32(3), uint8(264)\n",
            "memory usage: 294.8 MB\n",
            "<class 'pandas.core.frame.DataFrame'>\n",
            "Int64Index: 172981 entries, 0 to 172980\n",
            "Columns: 433 entries, TransactionID to DeviceInfo\n",
            "dtypes: category(31), float32(78), int16(6), int8(9), uint16(57), uint32(3), uint8(249)\n",
            "memory usage: 123.6 MB\n"
          ],
          "name": "stdout"
        },
        {
          "output_type": "stream",
          "text": [
            "\n"
          ],
          "name": "stderr"
        },
        {
          "output_type": "execute_result",
          "data": {
            "text/plain": [
              "(None, None)"
            ]
          },
          "metadata": {
            "tags": []
          },
          "execution_count": 8
        }
      ]
    },
    {
      "cell_type": "markdown",
      "metadata": {
        "id": "D0jnIH1iS7xE"
      },
      "source": [
        "Перед тем, как обучать какие-либо модели, нужно настроить валидацию - для того, чтобы оценивать обобщающую способность без использования тестовой выборки. Несмотря на то, что модель можно применить к тестовой части и получить результат на лидерборде, отнюдь не факт, что такому результату можно доверять. Дело в том, что он рассчитывается по публичной части тестовой выборки - однако итоговый результат будет рассчитываться по приватной части после окончания соревнования. Распределение данных в публичной и приватной частях может различаться, и если вы будете оценивать качество только по результату на публичной части, может получиться так, что ваше итоговое место в соревновании будет сильно ниже того, что вы имели по ходу.\n",
        "\n",
        "Однако бывают случаи, когда можно занять топовые места в соревновании и без настройки валидации, доверяя лишь результату на публичной части тестовой выборки. Пример: [описание решения победителя соревнования по детекции диабетической ретинопатии](https://www.kaggle.com/c/aptos2019-blindness-detection/discussion/108065).\n",
        "\n",
        "Техники валидации могут быть очень разными - от разбиения на обучающую/валидационную часть до [разбиения на группы с перемешиванием](https://scikit-learn.org/stable/modules/generated/sklearn.model_selection.GroupShuffleSplit.html#sklearn.model_selection.GroupShuffleSplit). Для кросс-валидации может быть полезно воспользоваться модулем [cross_validation](https://scikit-learn.org/stable/modules/cross_validation.html) из библиотеки `scikit-learn`.\n",
        "\n",
        "Настройка корректной валидации очень зависит от поставленной задачи. Очевидно, в идеале нужно выбрать такой способ, который сможет отразить то, насколько хорошо модель справится с приватной частью тестовой выборки.\n",
        "\n",
        "В ноутбуке с EDA было выдвинуто следующее предположение: согласно поведению признака `TransactionDT`, в обучающей части выборки содержатся данные за 4 месяца. Давайте настроим кросс-валидацию с 4 фолдами, где в каждом случае будем брать в качестве валидационной части тот или иной месяц."
      ]
    },
    {
      "cell_type": "code",
      "metadata": {
        "id": "JRxrhtG2S5fc",
        "colab": {
          "base_uri": "https://localhost:8080/",
          "height": 34
        },
        "outputId": "7ba907a0-c386-43bc-ec96-10ed191d9cb6"
      },
      "source": [
        "(df_train['TransactionDT'].max() - df_train['TransactionDT'].min()) / (3600 * 24)"
      ],
      "execution_count": null,
      "outputs": [
        {
          "output_type": "execute_result",
          "data": {
            "text/plain": [
              "120.99996527777778"
            ]
          },
          "metadata": {
            "tags": []
          },
          "execution_count": 9
        }
      ]
    },
    {
      "cell_type": "code",
      "metadata": {
        "id": "RYxCoXhsS9t0",
        "colab": {
          "base_uri": "https://localhost:8080/",
          "height": 34
        },
        "outputId": "8eca57c8-88c4-4344-cadf-4c69faa22e50"
      },
      "source": [
        "month_length = 3600 * 24 * 30\n",
        "df_train['TransactionDT'].shape"
      ],
      "execution_count": null,
      "outputs": [
        {
          "output_type": "execute_result",
          "data": {
            "text/plain": [
              "(417559,)"
            ]
          },
          "metadata": {
            "tags": []
          },
          "execution_count": 10
        }
      ]
    },
    {
      "cell_type": "code",
      "metadata": {
        "id": "L0wcKf28S-sl",
        "colab": {
          "base_uri": "https://localhost:8080/",
          "height": 85
        },
        "outputId": "4b0e1fbd-cfea-4a87-c105-503cb0f6038f"
      },
      "source": [
        "fold0_idx = df_train[df_train['TransactionDT'] < df_train['TransactionDT'].min() + month_length].index\n",
        "fold1_idx = df_train[(df_train['TransactionDT'].min() + month_length <= df_train['TransactionDT']) & (df_train['TransactionDT'] < df_train['TransactionDT'].min() + 2 * month_length)].index\n",
        "fold2_idx = df_train[(df_train['TransactionDT'].min() + 2 * month_length <= df_train['TransactionDT']) & (df_train['TransactionDT'] < df_train['TransactionDT'].min() + 3 * month_length)].index\n",
        "fold3_idx = df_train[df_train['TransactionDT'].min() + 3 * month_length <= df_train['TransactionDT']].index\n",
        "print('Validation set 0 length:', len(fold0_idx))\n",
        "print('Validation set 1 length:', len(fold1_idx))\n",
        "print('Validation set 2 length:', len(fold2_idx))\n",
        "print('Validation set 3 length:', len(fold3_idx))"
      ],
      "execution_count": null,
      "outputs": [
        {
          "output_type": "stream",
          "text": [
            "Validation set 0 length: 134339\n",
            "Validation set 1 length: 89399\n",
            "Validation set 2 length: 92189\n",
            "Validation set 3 length: 101632\n"
          ],
          "name": "stdout"
        }
      ]
    },
    {
      "cell_type": "code",
      "metadata": {
        "id": "RNfmDyDFS_uk"
      },
      "source": [
        "folds_idx = [fold0_idx, fold1_idx, fold2_idx, fold3_idx]"
      ],
      "execution_count": null,
      "outputs": []
    },
    {
      "cell_type": "code",
      "metadata": {
        "id": "rqh9jT1zTAv8",
        "colab": {
          "base_uri": "https://localhost:8080/",
          "height": 253
        },
        "outputId": "3416bca9-8c00-45d2-d351-8fec31f0c51f"
      },
      "source": [
        "df_train.head()"
      ],
      "execution_count": null,
      "outputs": [
        {
          "output_type": "execute_result",
          "data": {
            "text/html": [
              "<div>\n",
              "<style scoped>\n",
              "    .dataframe tbody tr th:only-of-type {\n",
              "        vertical-align: middle;\n",
              "    }\n",
              "\n",
              "    .dataframe tbody tr th {\n",
              "        vertical-align: top;\n",
              "    }\n",
              "\n",
              "    .dataframe thead th {\n",
              "        text-align: right;\n",
              "    }\n",
              "</style>\n",
              "<table border=\"1\" class=\"dataframe\">\n",
              "  <thead>\n",
              "    <tr style=\"text-align: right;\">\n",
              "      <th></th>\n",
              "      <th>TransactionID</th>\n",
              "      <th>isFraud</th>\n",
              "      <th>TransactionDT</th>\n",
              "      <th>TransactionAmt</th>\n",
              "      <th>ProductCD</th>\n",
              "      <th>card1</th>\n",
              "      <th>card2</th>\n",
              "      <th>card3</th>\n",
              "      <th>card4</th>\n",
              "      <th>card5</th>\n",
              "      <th>card6</th>\n",
              "      <th>addr1</th>\n",
              "      <th>addr2</th>\n",
              "      <th>dist1</th>\n",
              "      <th>dist2</th>\n",
              "      <th>P_emaildomain</th>\n",
              "      <th>R_emaildomain</th>\n",
              "      <th>C1</th>\n",
              "      <th>C2</th>\n",
              "      <th>C3</th>\n",
              "      <th>C4</th>\n",
              "      <th>C5</th>\n",
              "      <th>C6</th>\n",
              "      <th>C7</th>\n",
              "      <th>C8</th>\n",
              "      <th>C9</th>\n",
              "      <th>C10</th>\n",
              "      <th>C11</th>\n",
              "      <th>C12</th>\n",
              "      <th>C13</th>\n",
              "      <th>C14</th>\n",
              "      <th>D1</th>\n",
              "      <th>D2</th>\n",
              "      <th>D3</th>\n",
              "      <th>D4</th>\n",
              "      <th>D5</th>\n",
              "      <th>D6</th>\n",
              "      <th>D7</th>\n",
              "      <th>D8</th>\n",
              "      <th>D9</th>\n",
              "      <th>...</th>\n",
              "      <th>id_01</th>\n",
              "      <th>id_02</th>\n",
              "      <th>id_03</th>\n",
              "      <th>id_04</th>\n",
              "      <th>id_05</th>\n",
              "      <th>id_06</th>\n",
              "      <th>id_07</th>\n",
              "      <th>id_08</th>\n",
              "      <th>id_09</th>\n",
              "      <th>id_10</th>\n",
              "      <th>id_11</th>\n",
              "      <th>id_12</th>\n",
              "      <th>id_13</th>\n",
              "      <th>id_14</th>\n",
              "      <th>id_15</th>\n",
              "      <th>id_16</th>\n",
              "      <th>id_17</th>\n",
              "      <th>id_18</th>\n",
              "      <th>id_19</th>\n",
              "      <th>id_20</th>\n",
              "      <th>id_21</th>\n",
              "      <th>id_22</th>\n",
              "      <th>id_23</th>\n",
              "      <th>id_24</th>\n",
              "      <th>id_25</th>\n",
              "      <th>id_26</th>\n",
              "      <th>id_27</th>\n",
              "      <th>id_28</th>\n",
              "      <th>id_29</th>\n",
              "      <th>id_30</th>\n",
              "      <th>id_31</th>\n",
              "      <th>id_32</th>\n",
              "      <th>id_33</th>\n",
              "      <th>id_34</th>\n",
              "      <th>id_35</th>\n",
              "      <th>id_36</th>\n",
              "      <th>id_37</th>\n",
              "      <th>id_38</th>\n",
              "      <th>DeviceType</th>\n",
              "      <th>DeviceInfo</th>\n",
              "    </tr>\n",
              "  </thead>\n",
              "  <tbody>\n",
              "    <tr>\n",
              "      <th>0</th>\n",
              "      <td>2987000</td>\n",
              "      <td>0</td>\n",
              "      <td>86400</td>\n",
              "      <td>68.5</td>\n",
              "      <td>4</td>\n",
              "      <td>13926</td>\n",
              "      <td>99</td>\n",
              "      <td>150</td>\n",
              "      <td>1</td>\n",
              "      <td>142</td>\n",
              "      <td>1</td>\n",
              "      <td>315</td>\n",
              "      <td>87</td>\n",
              "      <td>19</td>\n",
              "      <td>65535</td>\n",
              "      <td>48</td>\n",
              "      <td>49</td>\n",
              "      <td>1</td>\n",
              "      <td>1</td>\n",
              "      <td>0</td>\n",
              "      <td>0</td>\n",
              "      <td>0</td>\n",
              "      <td>1</td>\n",
              "      <td>0</td>\n",
              "      <td>0</td>\n",
              "      <td>1</td>\n",
              "      <td>0</td>\n",
              "      <td>2</td>\n",
              "      <td>0</td>\n",
              "      <td>1</td>\n",
              "      <td>1</td>\n",
              "      <td>14</td>\n",
              "      <td>65535</td>\n",
              "      <td>13</td>\n",
              "      <td>-123</td>\n",
              "      <td>65535</td>\n",
              "      <td>-84</td>\n",
              "      <td>65535</td>\n",
              "      <td>-1.0</td>\n",
              "      <td>-1.0</td>\n",
              "      <td>...</td>\n",
              "      <td>-101</td>\n",
              "      <td>29</td>\n",
              "      <td>-13</td>\n",
              "      <td>-29</td>\n",
              "      <td>-73</td>\n",
              "      <td>-101</td>\n",
              "      <td>-47</td>\n",
              "      <td>-101</td>\n",
              "      <td>-37</td>\n",
              "      <td>-101</td>\n",
              "      <td>89.0</td>\n",
              "      <td>2</td>\n",
              "      <td>9</td>\n",
              "      <td>-661</td>\n",
              "      <td>3</td>\n",
              "      <td>2</td>\n",
              "      <td>99</td>\n",
              "      <td>9</td>\n",
              "      <td>99</td>\n",
              "      <td>99</td>\n",
              "      <td>99</td>\n",
              "      <td>9</td>\n",
              "      <td>3</td>\n",
              "      <td>10</td>\n",
              "      <td>99</td>\n",
              "      <td>99</td>\n",
              "      <td>2</td>\n",
              "      <td>2</td>\n",
              "      <td>2</td>\n",
              "      <td>75</td>\n",
              "      <td>129</td>\n",
              "      <td>255</td>\n",
              "      <td>260</td>\n",
              "      <td>4</td>\n",
              "      <td>2</td>\n",
              "      <td>2</td>\n",
              "      <td>2</td>\n",
              "      <td>2</td>\n",
              "      <td>2</td>\n",
              "      <td>1774</td>\n",
              "    </tr>\n",
              "    <tr>\n",
              "      <th>1</th>\n",
              "      <td>2987001</td>\n",
              "      <td>0</td>\n",
              "      <td>86401</td>\n",
              "      <td>29.0</td>\n",
              "      <td>4</td>\n",
              "      <td>2755</td>\n",
              "      <td>404</td>\n",
              "      <td>150</td>\n",
              "      <td>2</td>\n",
              "      <td>102</td>\n",
              "      <td>1</td>\n",
              "      <td>325</td>\n",
              "      <td>87</td>\n",
              "      <td>65535</td>\n",
              "      <td>65535</td>\n",
              "      <td>16</td>\n",
              "      <td>49</td>\n",
              "      <td>1</td>\n",
              "      <td>1</td>\n",
              "      <td>0</td>\n",
              "      <td>0</td>\n",
              "      <td>0</td>\n",
              "      <td>1</td>\n",
              "      <td>0</td>\n",
              "      <td>0</td>\n",
              "      <td>0</td>\n",
              "      <td>0</td>\n",
              "      <td>1</td>\n",
              "      <td>0</td>\n",
              "      <td>1</td>\n",
              "      <td>1</td>\n",
              "      <td>0</td>\n",
              "      <td>65535</td>\n",
              "      <td>65535</td>\n",
              "      <td>0</td>\n",
              "      <td>65535</td>\n",
              "      <td>-84</td>\n",
              "      <td>65535</td>\n",
              "      <td>-1.0</td>\n",
              "      <td>-1.0</td>\n",
              "      <td>...</td>\n",
              "      <td>-101</td>\n",
              "      <td>29</td>\n",
              "      <td>-13</td>\n",
              "      <td>-29</td>\n",
              "      <td>-73</td>\n",
              "      <td>-101</td>\n",
              "      <td>-47</td>\n",
              "      <td>-101</td>\n",
              "      <td>-37</td>\n",
              "      <td>-101</td>\n",
              "      <td>89.0</td>\n",
              "      <td>2</td>\n",
              "      <td>9</td>\n",
              "      <td>-661</td>\n",
              "      <td>3</td>\n",
              "      <td>2</td>\n",
              "      <td>99</td>\n",
              "      <td>9</td>\n",
              "      <td>99</td>\n",
              "      <td>99</td>\n",
              "      <td>99</td>\n",
              "      <td>9</td>\n",
              "      <td>3</td>\n",
              "      <td>10</td>\n",
              "      <td>99</td>\n",
              "      <td>99</td>\n",
              "      <td>2</td>\n",
              "      <td>2</td>\n",
              "      <td>2</td>\n",
              "      <td>75</td>\n",
              "      <td>129</td>\n",
              "      <td>255</td>\n",
              "      <td>260</td>\n",
              "      <td>4</td>\n",
              "      <td>2</td>\n",
              "      <td>2</td>\n",
              "      <td>2</td>\n",
              "      <td>2</td>\n",
              "      <td>2</td>\n",
              "      <td>1774</td>\n",
              "    </tr>\n",
              "    <tr>\n",
              "      <th>2</th>\n",
              "      <td>2987002</td>\n",
              "      <td>0</td>\n",
              "      <td>86469</td>\n",
              "      <td>59.0</td>\n",
              "      <td>4</td>\n",
              "      <td>4663</td>\n",
              "      <td>490</td>\n",
              "      <td>150</td>\n",
              "      <td>4</td>\n",
              "      <td>166</td>\n",
              "      <td>2</td>\n",
              "      <td>330</td>\n",
              "      <td>87</td>\n",
              "      <td>287</td>\n",
              "      <td>65535</td>\n",
              "      <td>35</td>\n",
              "      <td>49</td>\n",
              "      <td>1</td>\n",
              "      <td>1</td>\n",
              "      <td>0</td>\n",
              "      <td>0</td>\n",
              "      <td>0</td>\n",
              "      <td>1</td>\n",
              "      <td>0</td>\n",
              "      <td>0</td>\n",
              "      <td>1</td>\n",
              "      <td>0</td>\n",
              "      <td>1</td>\n",
              "      <td>0</td>\n",
              "      <td>1</td>\n",
              "      <td>1</td>\n",
              "      <td>0</td>\n",
              "      <td>65535</td>\n",
              "      <td>65535</td>\n",
              "      <td>0</td>\n",
              "      <td>65535</td>\n",
              "      <td>-84</td>\n",
              "      <td>65535</td>\n",
              "      <td>-1.0</td>\n",
              "      <td>-1.0</td>\n",
              "      <td>...</td>\n",
              "      <td>-101</td>\n",
              "      <td>29</td>\n",
              "      <td>-13</td>\n",
              "      <td>-29</td>\n",
              "      <td>-73</td>\n",
              "      <td>-101</td>\n",
              "      <td>-47</td>\n",
              "      <td>-101</td>\n",
              "      <td>-37</td>\n",
              "      <td>-101</td>\n",
              "      <td>89.0</td>\n",
              "      <td>2</td>\n",
              "      <td>9</td>\n",
              "      <td>-661</td>\n",
              "      <td>3</td>\n",
              "      <td>2</td>\n",
              "      <td>99</td>\n",
              "      <td>9</td>\n",
              "      <td>99</td>\n",
              "      <td>99</td>\n",
              "      <td>99</td>\n",
              "      <td>9</td>\n",
              "      <td>3</td>\n",
              "      <td>10</td>\n",
              "      <td>99</td>\n",
              "      <td>99</td>\n",
              "      <td>2</td>\n",
              "      <td>2</td>\n",
              "      <td>2</td>\n",
              "      <td>75</td>\n",
              "      <td>129</td>\n",
              "      <td>255</td>\n",
              "      <td>260</td>\n",
              "      <td>4</td>\n",
              "      <td>2</td>\n",
              "      <td>2</td>\n",
              "      <td>2</td>\n",
              "      <td>2</td>\n",
              "      <td>2</td>\n",
              "      <td>1774</td>\n",
              "    </tr>\n",
              "    <tr>\n",
              "      <th>3</th>\n",
              "      <td>2987003</td>\n",
              "      <td>0</td>\n",
              "      <td>86499</td>\n",
              "      <td>50.0</td>\n",
              "      <td>4</td>\n",
              "      <td>18132</td>\n",
              "      <td>567</td>\n",
              "      <td>150</td>\n",
              "      <td>2</td>\n",
              "      <td>117</td>\n",
              "      <td>2</td>\n",
              "      <td>476</td>\n",
              "      <td>87</td>\n",
              "      <td>65535</td>\n",
              "      <td>65535</td>\n",
              "      <td>54</td>\n",
              "      <td>49</td>\n",
              "      <td>2</td>\n",
              "      <td>5</td>\n",
              "      <td>0</td>\n",
              "      <td>0</td>\n",
              "      <td>0</td>\n",
              "      <td>4</td>\n",
              "      <td>0</td>\n",
              "      <td>0</td>\n",
              "      <td>1</td>\n",
              "      <td>0</td>\n",
              "      <td>1</td>\n",
              "      <td>0</td>\n",
              "      <td>25</td>\n",
              "      <td>1</td>\n",
              "      <td>112</td>\n",
              "      <td>112</td>\n",
              "      <td>0</td>\n",
              "      <td>94</td>\n",
              "      <td>0</td>\n",
              "      <td>-84</td>\n",
              "      <td>65535</td>\n",
              "      <td>-1.0</td>\n",
              "      <td>-1.0</td>\n",
              "      <td>...</td>\n",
              "      <td>-101</td>\n",
              "      <td>29</td>\n",
              "      <td>-13</td>\n",
              "      <td>-29</td>\n",
              "      <td>-73</td>\n",
              "      <td>-101</td>\n",
              "      <td>-47</td>\n",
              "      <td>-101</td>\n",
              "      <td>-37</td>\n",
              "      <td>-101</td>\n",
              "      <td>89.0</td>\n",
              "      <td>2</td>\n",
              "      <td>9</td>\n",
              "      <td>-661</td>\n",
              "      <td>3</td>\n",
              "      <td>2</td>\n",
              "      <td>99</td>\n",
              "      <td>9</td>\n",
              "      <td>99</td>\n",
              "      <td>99</td>\n",
              "      <td>99</td>\n",
              "      <td>9</td>\n",
              "      <td>3</td>\n",
              "      <td>10</td>\n",
              "      <td>99</td>\n",
              "      <td>99</td>\n",
              "      <td>2</td>\n",
              "      <td>2</td>\n",
              "      <td>2</td>\n",
              "      <td>75</td>\n",
              "      <td>129</td>\n",
              "      <td>255</td>\n",
              "      <td>260</td>\n",
              "      <td>4</td>\n",
              "      <td>2</td>\n",
              "      <td>2</td>\n",
              "      <td>2</td>\n",
              "      <td>2</td>\n",
              "      <td>2</td>\n",
              "      <td>1774</td>\n",
              "    </tr>\n",
              "    <tr>\n",
              "      <th>4</th>\n",
              "      <td>2987004</td>\n",
              "      <td>0</td>\n",
              "      <td>86506</td>\n",
              "      <td>50.0</td>\n",
              "      <td>1</td>\n",
              "      <td>4497</td>\n",
              "      <td>514</td>\n",
              "      <td>150</td>\n",
              "      <td>2</td>\n",
              "      <td>102</td>\n",
              "      <td>1</td>\n",
              "      <td>420</td>\n",
              "      <td>87</td>\n",
              "      <td>65535</td>\n",
              "      <td>65535</td>\n",
              "      <td>16</td>\n",
              "      <td>49</td>\n",
              "      <td>1</td>\n",
              "      <td>1</td>\n",
              "      <td>0</td>\n",
              "      <td>0</td>\n",
              "      <td>0</td>\n",
              "      <td>1</td>\n",
              "      <td>0</td>\n",
              "      <td>1</td>\n",
              "      <td>0</td>\n",
              "      <td>1</td>\n",
              "      <td>1</td>\n",
              "      <td>0</td>\n",
              "      <td>1</td>\n",
              "      <td>1</td>\n",
              "      <td>0</td>\n",
              "      <td>65535</td>\n",
              "      <td>65535</td>\n",
              "      <td>-123</td>\n",
              "      <td>65535</td>\n",
              "      <td>-84</td>\n",
              "      <td>65535</td>\n",
              "      <td>-1.0</td>\n",
              "      <td>-1.0</td>\n",
              "      <td>...</td>\n",
              "      <td>0</td>\n",
              "      <td>70787</td>\n",
              "      <td>-13</td>\n",
              "      <td>-29</td>\n",
              "      <td>-73</td>\n",
              "      <td>-101</td>\n",
              "      <td>-47</td>\n",
              "      <td>-101</td>\n",
              "      <td>-37</td>\n",
              "      <td>-101</td>\n",
              "      <td>100.0</td>\n",
              "      <td>1</td>\n",
              "      <td>9</td>\n",
              "      <td>-480</td>\n",
              "      <td>1</td>\n",
              "      <td>1</td>\n",
              "      <td>166</td>\n",
              "      <td>9</td>\n",
              "      <td>542</td>\n",
              "      <td>144</td>\n",
              "      <td>99</td>\n",
              "      <td>9</td>\n",
              "      <td>3</td>\n",
              "      <td>10</td>\n",
              "      <td>99</td>\n",
              "      <td>99</td>\n",
              "      <td>2</td>\n",
              "      <td>1</td>\n",
              "      <td>1</td>\n",
              "      <td>7</td>\n",
              "      <td>123</td>\n",
              "      <td>32</td>\n",
              "      <td>164</td>\n",
              "      <td>3</td>\n",
              "      <td>1</td>\n",
              "      <td>0</td>\n",
              "      <td>1</td>\n",
              "      <td>1</td>\n",
              "      <td>1</td>\n",
              "      <td>954</td>\n",
              "    </tr>\n",
              "  </tbody>\n",
              "</table>\n",
              "<p>5 rows × 434 columns</p>\n",
              "</div>"
            ],
            "text/plain": [
              "   TransactionID  isFraud  TransactionDT  ...  id_38 DeviceType  DeviceInfo\n",
              "0        2987000        0          86400  ...      2          2        1774\n",
              "1        2987001        0          86401  ...      2          2        1774\n",
              "2        2987002        0          86469  ...      2          2        1774\n",
              "3        2987003        0          86499  ...      2          2        1774\n",
              "4        2987004        0          86506  ...      1          1         954\n",
              "\n",
              "[5 rows x 434 columns]"
            ]
          },
          "metadata": {
            "tags": []
          },
          "execution_count": 13
        }
      ]
    },
    {
      "cell_type": "markdown",
      "metadata": {
        "id": "qs_WuPygTDa8"
      },
      "source": [
        "В данных есть признак-идентификатор объекта - `'TransactionID'`. Заметим, что его значения в обучающей и тестовых выборках не пересекаются:"
      ]
    },
    {
      "cell_type": "code",
      "metadata": {
        "id": "6H9SAbaJTBqs",
        "colab": {
          "base_uri": "https://localhost:8080/",
          "height": 34
        },
        "outputId": "b133c398-c6b2-42b1-bd0d-51a862007717"
      },
      "source": [
        "set(df_train['TransactionID']).intersection(set(df_test['TransactionID']))"
      ],
      "execution_count": null,
      "outputs": [
        {
          "output_type": "execute_result",
          "data": {
            "text/plain": [
              "set()"
            ]
          },
          "metadata": {
            "tags": []
          },
          "execution_count": 14
        }
      ]
    },
    {
      "cell_type": "markdown",
      "metadata": {
        "id": "UeIe6SnmTF1F"
      },
      "source": [
        "Также не пересекаются значения признака, отвечающего за момент времени - `'TransactionDT'`:"
      ]
    },
    {
      "cell_type": "code",
      "metadata": {
        "id": "LrUbzPCATEhM",
        "colab": {
          "base_uri": "https://localhost:8080/",
          "height": 34
        },
        "outputId": "0e1c258b-eba0-4e2f-9235-6cdf4692ab0d"
      },
      "source": [
        "set(df_train['TransactionDT']).intersection(set(df_test['TransactionDT']))"
      ],
      "execution_count": null,
      "outputs": [
        {
          "output_type": "execute_result",
          "data": {
            "text/plain": [
              "set()"
            ]
          },
          "metadata": {
            "tags": []
          },
          "execution_count": 15
        }
      ]
    },
    {
      "cell_type": "markdown",
      "metadata": {
        "id": "FZimwAzATLL8"
      },
      "source": [
        "В связи с этим удалим эти признаки, чтобы модель их не учитывала."
      ]
    },
    {
      "cell_type": "code",
      "metadata": {
        "id": "9g5gHNv4THFV",
        "colab": {
          "base_uri": "https://localhost:8080/",
          "height": 34
        },
        "outputId": "35266220-0732-4268-bc3c-4774755a81b1"
      },
      "source": [
        "df_train.drop(['TransactionID', 'TransactionDT'], axis=1, inplace=True)\n",
        "df_test.drop(['TransactionID', 'TransactionDT'], axis=1, inplace=True)\n",
        "df_train.shape, df_test.shape"
      ],
      "execution_count": null,
      "outputs": [
        {
          "output_type": "execute_result",
          "data": {
            "text/plain": [
              "((417559, 432), (172981, 431))"
            ]
          },
          "metadata": {
            "tags": []
          },
          "execution_count": 16
        }
      ]
    },
    {
      "cell_type": "markdown",
      "metadata": {
        "id": "DL6xLvQMTPbl"
      },
      "source": [
        "Обучимся с помощью [`lightgbm`](https://lightgbm.readthedocs.io/en/latest/), и для каждой модели сделаем предсказание на тестовой выборке. Также будем сохранять важности признаков на каждом фолде.\n"
      ]
    },
    {
      "cell_type": "code",
      "metadata": {
        "id": "V2L1Nl5CTMMl",
        "colab": {
          "base_uri": "https://localhost:8080/",
          "height": 1000
        },
        "outputId": "966ca33b-9364-4cb7-c357-1da3f3648190"
      },
      "source": [
        "%%time\n",
        "\n",
        "params = {\n",
        "    'objective': 'binary',\n",
        "    'boosting_type': 'gbdt',\n",
        "    'metric': 'auc',\n",
        "    'n_jobs': -1,\n",
        "    'n_estimators': 2000,\n",
        "    'seed': 13,\n",
        "    'early_stopping_rounds': 200,\n",
        "}\n",
        "\n",
        "scores = []\n",
        "\n",
        "feature_importances = pd.DataFrame()\n",
        "feature_importances['feature'] = df_train.columns.drop('isFraud')\n",
        "\n",
        "test_preds = []\n",
        "\n",
        "for i in range(len(folds_idx)):\n",
        "    X_train = df_train.drop(folds_idx[i], axis=0)\n",
        "    y_train = X_train['isFraud'].values\n",
        "    X_val = df_train.iloc[folds_idx[i]]\n",
        "    y_val = X_val['isFraud'].values\n",
        "    X_train = X_train.drop('isFraud', axis=1)\n",
        "    X_val = X_val.drop('isFraud', axis=1)\n",
        "\n",
        "    lgb_train = lgb.Dataset(X_train, y_train)\n",
        "    lgb_eval = lgb.Dataset(X_val, y_val, reference=lgb_train)\n",
        "    lgb_model = lgb.train(params, lgb_train, valid_sets=lgb_eval, verbose_eval=100)\n",
        "\n",
        "    feature_importances['fold_{}'.format(i)] = lgb_model.feature_importance()\n",
        "\n",
        "    y_pred = lgb_model.predict(X_val)\n",
        "    score_fold = roc_auc_score(y_val, y_pred)\n",
        "    scores.append(score_fold)\n",
        "    y_test_pred = lgb_model.predict(df_test)\n",
        "    test_preds.append(y_test_pred)\n",
        "\n",
        "for i in range(len(scores)):\n",
        "    print('Fold {}, AUC-ROC: {:.5f}'.format(i, scores[i]))\n",
        "print('CV AUC-ROC: {:.5f}'.format(np.mean(scores)))"
      ],
      "execution_count": null,
      "outputs": [
        {
          "output_type": "stream",
          "text": [
            "/usr/local/lib/python3.6/dist-packages/lightgbm/engine.py:118: UserWarning: Found `n_estimators` in params. Will use it instead of argument\n",
            "  warnings.warn(\"Found `{}` in params. Will use it instead of argument\".format(alias))\n",
            "/usr/local/lib/python3.6/dist-packages/lightgbm/engine.py:123: UserWarning: Found `early_stopping_rounds` in params. Will use it instead of argument\n",
            "  warnings.warn(\"Found `{}` in params. Will use it instead of argument\".format(alias))\n",
            "/usr/local/lib/python3.6/dist-packages/lightgbm/basic.py:762: UserWarning: categorical_feature in param dict is overridden.\n",
            "  warnings.warn('categorical_feature in param dict is overridden.')\n"
          ],
          "name": "stderr"
        },
        {
          "output_type": "stream",
          "text": [
            "Training until validation scores don't improve for 200 rounds.\n",
            "[100]\tvalid_0's auc: 0.890765\n",
            "[200]\tvalid_0's auc: 0.898799\n",
            "[300]\tvalid_0's auc: 0.901688\n",
            "[400]\tvalid_0's auc: 0.903123\n",
            "[500]\tvalid_0's auc: 0.903721\n",
            "[600]\tvalid_0's auc: 0.902649\n",
            "Early stopping, best iteration is:\n",
            "[466]\tvalid_0's auc: 0.903829\n"
          ],
          "name": "stdout"
        },
        {
          "output_type": "stream",
          "text": [
            "/usr/local/lib/python3.6/dist-packages/lightgbm/engine.py:118: UserWarning: Found `n_estimators` in params. Will use it instead of argument\n",
            "  warnings.warn(\"Found `{}` in params. Will use it instead of argument\".format(alias))\n",
            "/usr/local/lib/python3.6/dist-packages/lightgbm/engine.py:123: UserWarning: Found `early_stopping_rounds` in params. Will use it instead of argument\n",
            "  warnings.warn(\"Found `{}` in params. Will use it instead of argument\".format(alias))\n",
            "/usr/local/lib/python3.6/dist-packages/lightgbm/basic.py:762: UserWarning: categorical_feature in param dict is overridden.\n",
            "  warnings.warn('categorical_feature in param dict is overridden.')\n"
          ],
          "name": "stderr"
        },
        {
          "output_type": "stream",
          "text": [
            "Training until validation scores don't improve for 200 rounds.\n",
            "[100]\tvalid_0's auc: 0.910762\n",
            "[200]\tvalid_0's auc: 0.918973\n",
            "[300]\tvalid_0's auc: 0.921807\n",
            "[400]\tvalid_0's auc: 0.924414\n",
            "[500]\tvalid_0's auc: 0.924671\n",
            "[600]\tvalid_0's auc: 0.925739\n",
            "[700]\tvalid_0's auc: 0.926105\n",
            "[800]\tvalid_0's auc: 0.926323\n",
            "[900]\tvalid_0's auc: 0.925741\n",
            "[1000]\tvalid_0's auc: 0.924811\n",
            "Early stopping, best iteration is:\n",
            "[827]\tvalid_0's auc: 0.926876\n"
          ],
          "name": "stdout"
        },
        {
          "output_type": "stream",
          "text": [
            "/usr/local/lib/python3.6/dist-packages/lightgbm/engine.py:118: UserWarning: Found `n_estimators` in params. Will use it instead of argument\n",
            "  warnings.warn(\"Found `{}` in params. Will use it instead of argument\".format(alias))\n",
            "/usr/local/lib/python3.6/dist-packages/lightgbm/engine.py:123: UserWarning: Found `early_stopping_rounds` in params. Will use it instead of argument\n",
            "  warnings.warn(\"Found `{}` in params. Will use it instead of argument\".format(alias))\n",
            "/usr/local/lib/python3.6/dist-packages/lightgbm/basic.py:762: UserWarning: categorical_feature in param dict is overridden.\n",
            "  warnings.warn('categorical_feature in param dict is overridden.')\n"
          ],
          "name": "stderr"
        },
        {
          "output_type": "stream",
          "text": [
            "Training until validation scores don't improve for 200 rounds.\n",
            "[100]\tvalid_0's auc: 0.916296\n",
            "[200]\tvalid_0's auc: 0.922257\n",
            "[300]\tvalid_0's auc: 0.922209\n",
            "[400]\tvalid_0's auc: 0.920929\n",
            "Early stopping, best iteration is:\n",
            "[256]\tvalid_0's auc: 0.922604\n"
          ],
          "name": "stdout"
        },
        {
          "output_type": "stream",
          "text": [
            "/usr/local/lib/python3.6/dist-packages/lightgbm/engine.py:118: UserWarning: Found `n_estimators` in params. Will use it instead of argument\n",
            "  warnings.warn(\"Found `{}` in params. Will use it instead of argument\".format(alias))\n",
            "/usr/local/lib/python3.6/dist-packages/lightgbm/engine.py:123: UserWarning: Found `early_stopping_rounds` in params. Will use it instead of argument\n",
            "  warnings.warn(\"Found `{}` in params. Will use it instead of argument\".format(alias))\n",
            "/usr/local/lib/python3.6/dist-packages/lightgbm/basic.py:762: UserWarning: categorical_feature in param dict is overridden.\n",
            "  warnings.warn('categorical_feature in param dict is overridden.')\n"
          ],
          "name": "stderr"
        },
        {
          "output_type": "stream",
          "text": [
            "Training until validation scores don't improve for 200 rounds.\n",
            "[100]\tvalid_0's auc: 0.902159\n",
            "[200]\tvalid_0's auc: 0.907356\n",
            "[300]\tvalid_0's auc: 0.908941\n",
            "[400]\tvalid_0's auc: 0.908928\n",
            "[500]\tvalid_0's auc: 0.907346\n",
            "Early stopping, best iteration is:\n",
            "[348]\tvalid_0's auc: 0.910146\n",
            "Fold 0, AUC-ROC: 0.90383\n",
            "Fold 1, AUC-ROC: 0.92688\n",
            "Fold 2, AUC-ROC: 0.92260\n",
            "Fold 3, AUC-ROC: 0.91015\n",
            "CV AUC-ROC: 0.91586\n",
            "CPU times: user 41min 17s, sys: 1.97 s, total: 41min 18s\n",
            "Wall time: 21min 4s\n"
          ],
          "name": "stdout"
        }
      ]
    },
    {
      "cell_type": "code",
      "metadata": {
        "id": "sUdFuyekTXPk",
        "colab": {
          "base_uri": "https://localhost:8080/",
          "height": 204
        },
        "outputId": "7ec77633-27d5-4021-f069-6354ffbd6ad7"
      },
      "source": [
        "feature_importances.head()"
      ],
      "execution_count": null,
      "outputs": [
        {
          "output_type": "execute_result",
          "data": {
            "text/html": [
              "<div>\n",
              "<style scoped>\n",
              "    .dataframe tbody tr th:only-of-type {\n",
              "        vertical-align: middle;\n",
              "    }\n",
              "\n",
              "    .dataframe tbody tr th {\n",
              "        vertical-align: top;\n",
              "    }\n",
              "\n",
              "    .dataframe thead th {\n",
              "        text-align: right;\n",
              "    }\n",
              "</style>\n",
              "<table border=\"1\" class=\"dataframe\">\n",
              "  <thead>\n",
              "    <tr style=\"text-align: right;\">\n",
              "      <th></th>\n",
              "      <th>feature</th>\n",
              "      <th>fold_0</th>\n",
              "      <th>fold_1</th>\n",
              "      <th>fold_2</th>\n",
              "      <th>fold_3</th>\n",
              "    </tr>\n",
              "  </thead>\n",
              "  <tbody>\n",
              "    <tr>\n",
              "      <th>0</th>\n",
              "      <td>TransactionAmt</td>\n",
              "      <td>746</td>\n",
              "      <td>1364</td>\n",
              "      <td>291</td>\n",
              "      <td>442</td>\n",
              "    </tr>\n",
              "    <tr>\n",
              "      <th>1</th>\n",
              "      <td>ProductCD</td>\n",
              "      <td>34</td>\n",
              "      <td>43</td>\n",
              "      <td>35</td>\n",
              "      <td>41</td>\n",
              "    </tr>\n",
              "    <tr>\n",
              "      <th>2</th>\n",
              "      <td>card1</td>\n",
              "      <td>855</td>\n",
              "      <td>1709</td>\n",
              "      <td>410</td>\n",
              "      <td>646</td>\n",
              "    </tr>\n",
              "    <tr>\n",
              "      <th>3</th>\n",
              "      <td>card2</td>\n",
              "      <td>736</td>\n",
              "      <td>1344</td>\n",
              "      <td>365</td>\n",
              "      <td>502</td>\n",
              "    </tr>\n",
              "    <tr>\n",
              "      <th>4</th>\n",
              "      <td>card3</td>\n",
              "      <td>106</td>\n",
              "      <td>143</td>\n",
              "      <td>68</td>\n",
              "      <td>68</td>\n",
              "    </tr>\n",
              "  </tbody>\n",
              "</table>\n",
              "</div>"
            ],
            "text/plain": [
              "          feature  fold_0  fold_1  fold_2  fold_3\n",
              "0  TransactionAmt     746    1364     291     442\n",
              "1       ProductCD      34      43      35      41\n",
              "2           card1     855    1709     410     646\n",
              "3           card2     736    1344     365     502\n",
              "4           card3     106     143      68      68"
            ]
          },
          "metadata": {
            "tags": []
          },
          "execution_count": 18
        }
      ]
    },
    {
      "cell_type": "markdown",
      "metadata": {
        "id": "tyK0tMleTrT0"
      },
      "source": [
        "Для итоговой оценки важности признаков усредним важности признаков на фолдах."
      ]
    },
    {
      "cell_type": "code",
      "metadata": {
        "id": "hA4MCAafTkOT",
        "colab": {
          "base_uri": "https://localhost:8080/",
          "height": 204
        },
        "outputId": "35bc3dec-4ae8-4403-b487-9aa20f07b43c"
      },
      "source": [
        "fold_cols = [col for col in feature_importances.columns if col.startswith('fold_')]\n",
        "feature_importances['average'] = feature_importances[fold_cols].mean(axis=1)\n",
        "feature_importances.head()"
      ],
      "execution_count": null,
      "outputs": [
        {
          "output_type": "execute_result",
          "data": {
            "text/html": [
              "<div>\n",
              "<style scoped>\n",
              "    .dataframe tbody tr th:only-of-type {\n",
              "        vertical-align: middle;\n",
              "    }\n",
              "\n",
              "    .dataframe tbody tr th {\n",
              "        vertical-align: top;\n",
              "    }\n",
              "\n",
              "    .dataframe thead th {\n",
              "        text-align: right;\n",
              "    }\n",
              "</style>\n",
              "<table border=\"1\" class=\"dataframe\">\n",
              "  <thead>\n",
              "    <tr style=\"text-align: right;\">\n",
              "      <th></th>\n",
              "      <th>feature</th>\n",
              "      <th>fold_0</th>\n",
              "      <th>fold_1</th>\n",
              "      <th>fold_2</th>\n",
              "      <th>fold_3</th>\n",
              "      <th>average</th>\n",
              "    </tr>\n",
              "  </thead>\n",
              "  <tbody>\n",
              "    <tr>\n",
              "      <th>0</th>\n",
              "      <td>TransactionAmt</td>\n",
              "      <td>746</td>\n",
              "      <td>1364</td>\n",
              "      <td>291</td>\n",
              "      <td>442</td>\n",
              "      <td>710.75</td>\n",
              "    </tr>\n",
              "    <tr>\n",
              "      <th>1</th>\n",
              "      <td>ProductCD</td>\n",
              "      <td>34</td>\n",
              "      <td>43</td>\n",
              "      <td>35</td>\n",
              "      <td>41</td>\n",
              "      <td>38.25</td>\n",
              "    </tr>\n",
              "    <tr>\n",
              "      <th>2</th>\n",
              "      <td>card1</td>\n",
              "      <td>855</td>\n",
              "      <td>1709</td>\n",
              "      <td>410</td>\n",
              "      <td>646</td>\n",
              "      <td>905.00</td>\n",
              "    </tr>\n",
              "    <tr>\n",
              "      <th>3</th>\n",
              "      <td>card2</td>\n",
              "      <td>736</td>\n",
              "      <td>1344</td>\n",
              "      <td>365</td>\n",
              "      <td>502</td>\n",
              "      <td>736.75</td>\n",
              "    </tr>\n",
              "    <tr>\n",
              "      <th>4</th>\n",
              "      <td>card3</td>\n",
              "      <td>106</td>\n",
              "      <td>143</td>\n",
              "      <td>68</td>\n",
              "      <td>68</td>\n",
              "      <td>96.25</td>\n",
              "    </tr>\n",
              "  </tbody>\n",
              "</table>\n",
              "</div>"
            ],
            "text/plain": [
              "          feature  fold_0  fold_1  fold_2  fold_3  average\n",
              "0  TransactionAmt     746    1364     291     442   710.75\n",
              "1       ProductCD      34      43      35      41    38.25\n",
              "2           card1     855    1709     410     646   905.00\n",
              "3           card2     736    1344     365     502   736.75\n",
              "4           card3     106     143      68      68    96.25"
            ]
          },
          "metadata": {
            "tags": []
          },
          "execution_count": 19
        }
      ]
    },
    {
      "cell_type": "code",
      "metadata": {
        "id": "WGRvRqBoTuOd",
        "colab": {
          "base_uri": "https://localhost:8080/",
          "height": 899
        },
        "outputId": "b2ed5b58-4551-453a-c7a1-2c33394a3f13"
      },
      "source": [
        "plt.figure(figsize=(15, 15))\n",
        "sns.barplot(data=feature_importances.sort_values(by='average', ascending=False).head(50), x='average', y='feature', palette=\"BuGn_r\")\n",
        "plt.title('Top feature importances')\n",
        "plt.show()"
      ],
      "execution_count": null,
      "outputs": [
        {
          "output_type": "display_data",
          "data": {
            "image/png": "[encoded data removed]",
            "text/plain": [
              "<Figure size 1080x1080 with 1 Axes>"
            ]
          },
          "metadata": {
            "tags": [],
            "needs_background": "light"
          }
        }
      ]
    },
    {
      "cell_type": "markdown",
      "metadata": {
        "id": "mjuaHlVwY0uq"
      },
      "source": [
        "Для получения итогового предсказания на тестовой выборке усредним предсказания моделей с разных фолдов."
      ]
    },
    {
      "cell_type": "code",
      "metadata": {
        "id": "s_zK4A1sYwza",
        "colab": {
          "base_uri": "https://localhost:8080/",
          "height": 34
        },
        "outputId": "5536f430-9ef9-4cd5-9965-7d45c59d9575"
      },
      "source": [
        "np.array(test_preds).shape"
      ],
      "execution_count": null,
      "outputs": [
        {
          "output_type": "execute_result",
          "data": {
            "text/plain": [
              "(4, 172981)"
            ]
          },
          "metadata": {
            "tags": []
          },
          "execution_count": 21
        }
      ]
    },
    {
      "cell_type": "code",
      "metadata": {
        "id": "anvL7VKgY1qB",
        "colab": {
          "base_uri": "https://localhost:8080/",
          "height": 51
        },
        "outputId": "4221e8c6-8d80-48d2-9268-f33574364f19"
      },
      "source": [
        "final_pred = np.average(test_preds, axis=0)\n",
        "final_pred"
      ],
      "execution_count": null,
      "outputs": [
        {
          "output_type": "execute_result",
          "data": {
            "text/plain": [
              "array([0.06674811, 0.05404055, 0.21179866, ..., 0.02268264, 0.02132404,\n",
              "       0.04760948])"
            ]
          },
          "metadata": {
            "tags": []
          },
          "execution_count": 22
        }
      ]
    },
    {
      "cell_type": "code",
      "metadata": {
        "id": "Z-LPStWaY2bK",
        "colab": {
          "base_uri": "https://localhost:8080/",
          "height": 204
        },
        "outputId": "b94ea65d-47e3-4303-9c61-2c071f140985"
      },
      "source": [
        "sub = pd.DataFrame({'TransactionID': sample_submission['TransactionID'], 'isFraud': final_pred})\n",
        "sub.head()"
      ],
      "execution_count": null,
      "outputs": [
        {
          "output_type": "execute_result",
          "data": {
            "text/html": [
              "<div>\n",
              "<style scoped>\n",
              "    .dataframe tbody tr th:only-of-type {\n",
              "        vertical-align: middle;\n",
              "    }\n",
              "\n",
              "    .dataframe tbody tr th {\n",
              "        vertical-align: top;\n",
              "    }\n",
              "\n",
              "    .dataframe thead th {\n",
              "        text-align: right;\n",
              "    }\n",
              "</style>\n",
              "<table border=\"1\" class=\"dataframe\">\n",
              "  <thead>\n",
              "    <tr style=\"text-align: right;\">\n",
              "      <th></th>\n",
              "      <th>TransactionID</th>\n",
              "      <th>isFraud</th>\n",
              "    </tr>\n",
              "  </thead>\n",
              "  <tbody>\n",
              "    <tr>\n",
              "      <th>0</th>\n",
              "      <td>3404559</td>\n",
              "      <td>0.066748</td>\n",
              "    </tr>\n",
              "    <tr>\n",
              "      <th>1</th>\n",
              "      <td>3404560</td>\n",
              "      <td>0.054041</td>\n",
              "    </tr>\n",
              "    <tr>\n",
              "      <th>2</th>\n",
              "      <td>3404561</td>\n",
              "      <td>0.211799</td>\n",
              "    </tr>\n",
              "    <tr>\n",
              "      <th>3</th>\n",
              "      <td>3404562</td>\n",
              "      <td>0.315280</td>\n",
              "    </tr>\n",
              "    <tr>\n",
              "      <th>4</th>\n",
              "      <td>3404563</td>\n",
              "      <td>0.382806</td>\n",
              "    </tr>\n",
              "  </tbody>\n",
              "</table>\n",
              "</div>"
            ],
            "text/plain": [
              "   TransactionID   isFraud\n",
              "0        3404559  0.066748\n",
              "1        3404560  0.054041\n",
              "2        3404561  0.211799\n",
              "3        3404562  0.315280\n",
              "4        3404563  0.382806"
            ]
          },
          "metadata": {
            "tags": []
          },
          "execution_count": 23
        }
      ]
    },
    {
      "cell_type": "code",
      "metadata": {
        "id": "7gy2H_XkY4JZ",
        "colab": {
          "base_uri": "https://localhost:8080/",
          "height": 204
        },
        "outputId": "f469a6f7-dd95-4dd9-9341-9e4e086e2412"
      },
      "source": [
        "sub.tail()"
      ],
      "execution_count": null,
      "outputs": [
        {
          "output_type": "execute_result",
          "data": {
            "text/html": [
              "<div>\n",
              "<style scoped>\n",
              "    .dataframe tbody tr th:only-of-type {\n",
              "        vertical-align: middle;\n",
              "    }\n",
              "\n",
              "    .dataframe tbody tr th {\n",
              "        vertical-align: top;\n",
              "    }\n",
              "\n",
              "    .dataframe thead th {\n",
              "        text-align: right;\n",
              "    }\n",
              "</style>\n",
              "<table border=\"1\" class=\"dataframe\">\n",
              "  <thead>\n",
              "    <tr style=\"text-align: right;\">\n",
              "      <th></th>\n",
              "      <th>TransactionID</th>\n",
              "      <th>isFraud</th>\n",
              "    </tr>\n",
              "  </thead>\n",
              "  <tbody>\n",
              "    <tr>\n",
              "      <th>172976</th>\n",
              "      <td>3577535</td>\n",
              "      <td>0.020500</td>\n",
              "    </tr>\n",
              "    <tr>\n",
              "      <th>172977</th>\n",
              "      <td>3577536</td>\n",
              "      <td>0.046832</td>\n",
              "    </tr>\n",
              "    <tr>\n",
              "      <th>172978</th>\n",
              "      <td>3577537</td>\n",
              "      <td>0.022683</td>\n",
              "    </tr>\n",
              "    <tr>\n",
              "      <th>172979</th>\n",
              "      <td>3577538</td>\n",
              "      <td>0.021324</td>\n",
              "    </tr>\n",
              "    <tr>\n",
              "      <th>172980</th>\n",
              "      <td>3577539</td>\n",
              "      <td>0.047609</td>\n",
              "    </tr>\n",
              "  </tbody>\n",
              "</table>\n",
              "</div>"
            ],
            "text/plain": [
              "        TransactionID   isFraud\n",
              "172976        3577535  0.020500\n",
              "172977        3577536  0.046832\n",
              "172978        3577537  0.022683\n",
              "172979        3577538  0.021324\n",
              "172980        3577539  0.047609"
            ]
          },
          "metadata": {
            "tags": []
          },
          "execution_count": 24
        }
      ]
    },
    {
      "cell_type": "markdown",
      "metadata": {
        "id": "hpK7-FSkgQ4Y"
      },
      "source": [
        "Сохраняем файл с предсказаниями - теперь его можно отправить в соревнование и посмотреть результат на публичной части."
      ]
    },
    {
      "cell_type": "code",
      "metadata": {
        "id": "VZaOYJR5ZDY1"
      },
      "source": [
        "sub.to_csv('submission_baseline.csv', index=False)"
      ],
      "execution_count": null,
      "outputs": []
    },
    {
      "cell_type": "markdown",
      "metadata": {
        "id": "JVVBk2XoZBA0"
      },
      "source": [
        "Наконец, построим распределение предсказаний для целевой переменной на тестовой выборке."
      ]
    },
    {
      "cell_type": "code",
      "metadata": {
        "id": "59JXv7XLZCEw",
        "colab": {
          "base_uri": "https://localhost:8080/",
          "height": 501
        },
        "outputId": "51cc4ef6-b802-4b19-aa57-ffc38f29f905"
      },
      "source": [
        "plt.figure(figsize=(11, 8))\n",
        "plt.hist(sub['isFraud'], bins=30)\n",
        "plt.title('Distribution of isFraud prediction on test')\n",
        "plt.show()"
      ],
      "execution_count": null,
      "outputs": [
        {
          "output_type": "display_data",
          "data": {
            "image/png": "[encoded data removed]",
            "text/plain": [
              "<Figure size 792x576 with 1 Axes>"
            ]
          },
          "metadata": {
            "tags": [],
            "needs_background": "light"
          }
        }
      ]
    }
  ]
}