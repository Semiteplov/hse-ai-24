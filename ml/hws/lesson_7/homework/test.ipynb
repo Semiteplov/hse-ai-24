{
 "cells": [
  {
   "cell_type": "code",
   "execution_count": null,
   "id": "initial_id",
   "metadata": {
    "collapsed": true
   },
   "outputs": [],
   "source": [
    "def evaluate_model_cv_lgbm(model, X, y, n_folds=5):\n",
    "    kf = KFold(n_splits=n_folds, shuffle=True, random_state=RANDOM_STATE)\n",
    "    scores = []\n",
    "\n",
    "    for train_idx, val_idx in kf.split(X):\n",
    "        X_train, X_val = X.iloc[train_idx], X.iloc[val_idx]\n",
    "        y_train, y_val = y.iloc[train_idx], y.iloc[val_idx]\n",
    "\n",
    "        train_data = lgb.Dataset(X_train, label=y_train)\n",
    "        val_data = lgb.Dataset(X_val, label=y_val, reference=train_data)\n",
    "\n",
    "        model.fit(\n",
    "            X_train, y_train,\n",
    "            eval_set=[(X_val, y_val)],\n",
    "            eval_metric='auc',\n",
    "        )\n",
    "\n",
    "        y_pred = model.predict_proba(X_val)[:, 1]\n",
    "        scores.append(roc_auc_score(y_val, y_pred))\n",
    "\n",
    "    return np.mean(scores), np.std(scores)\n",
    "\n",
    "\n",
    "lgbm_cv_score, lgbm_cv_std = evaluate_model_cv_lgbm(lgbm_model, X_train, y_train)"
   ]
  },
  {
   "metadata": {},
   "cell_type": "code",
   "outputs": [],
   "execution_count": null,
   "source": [
    "def evaluate_model_cv_catboost(model, X, y, n_folds=5):\n",
    "    kf = KFold(n_splits=n_folds, shuffle=True, random_state=RANDOM_STATE)\n",
    "    scores = []\n",
    "\n",
    "    for train_idx, val_idx in kf.split(X):\n",
    "        X_train, X_val = X.iloc[train_idx], X.iloc[val_idx]\n",
    "        y_train, y_val = y.iloc[train_idx], y.iloc[val_idx]\n",
    "\n",
    "        model.fit(\n",
    "            X_train, y_train,\n",
    "            eval_set=[(X_val, y_val)],\n",
    "        )\n",
    "\n",
    "        y_pred = model.predict_proba(X_val)[:, 1]\n",
    "        scores.append(roc_auc_score(y_val, y_pred))\n",
    "\n",
    "    return np.mean(scores), np.std(scores)\n",
    "\n",
    "\n",
    "catboost_cv_score, catboost_cv_std = evaluate_model_cv_catboost(catboost_model, X_train, y_train)"
   ],
   "id": "f97dc52bd2cbc6cf"
  },
  {
   "metadata": {},
   "cell_type": "code",
   "outputs": [],
   "execution_count": null,
   "source": [
    "50\n",
    "iters\n",
    "optuna\n",
    "\n",
    "lgbm_best_params = {'num_leaves': 175, 'learning_rate': 0.010203959463015153, 'max_depth': 11, 'min_child_samples': 29,\n",
    "                    'subsample': 0.9595377318249911, 'colsample_bytree': 0.7008023302141809,\n",
    "                    'reg_alpha': 0.7369604631780851,\n",
    "                    'reg_lambda': 0.6668252470437909, 'n_estimators': 3000,\n",
    "                    'objective': 'binary',\n",
    "                    'boosting_type': 'gbdt',\n",
    "                    'metric': 'auc',\n",
    "                    'n_jobs': -1,\n",
    "                    'random_state': 42,\n",
    "                    'verbose': -1, }"
   ],
   "id": "eb6379f530de23f3"
  },
  {
   "metadata": {},
   "cell_type": "code",
   "outputs": [],
   "execution_count": null,
   "source": [
    "catboost_best_params = {'iterations': 1661, 'learning_rate': 0.028239830074159606, 'depth': 10, 'eval_metric': 'AUC',\n",
    "                        'random_seed': RANDOM_SEED,\n",
    "                        'verbose': False,\n",
    "                        'cat_features': df_train_new.select_dtypes(exclude='number').columns.to_list(),\n",
    "                        'task_type': 'GPU',\n",
    "                        'devices': '0', }"
   ],
   "id": "f16a3fdf0d2e6b47"
  },
  {
   "metadata": {},
   "cell_type": "code",
   "outputs": [],
   "execution_count": null,
   "source": [
    "rf_best_params = {\n",
    "    'n_estimators': 441, 'max_depth': 26, 'max_features': 'sqrt',\n",
    "    'random_state': RANDOM_STATE,\n",
    "    'n_jobs': -1,\n",
    "    'verbose': 0,\n",
    "}"
   ],
   "id": "89562e32e16d985d"
  },
  {
   "metadata": {},
   "cell_type": "code",
   "outputs": [],
   "execution_count": null,
   "source": [
    "first_model = predictor.model_names()[0]  # Берем первую модель\n",
    "test_proba_first_model = predictor.predict_proba(df_test_new, model=first_model)\n",
    "\n",
    "if isinstance(test_proba_first_model, pd.DataFrame):\n",
    "    test_predictions = test_proba_first_model.iloc[:, 1]  # Вероятность класса 1\n",
    "else:\n",
    "    test_predictions = test_proba_first_model\n",
    "\n",
    "pd.DataFrame({\n",
    "    'TransactionID': sample_submission['TransactionID'],\n",
    "    'isFraud': test_predictions\n",
    "}).to_csv('autogluon_submission.csv', index=False)"
   ],
   "id": "a50c508e4970960c"
  }
 ],
 "metadata": {
  "kernelspec": {
   "display_name": "Python 3",
   "language": "python",
   "name": "python3"
  },
  "language_info": {
   "codemirror_mode": {
    "name": "ipython",
    "version": 2
   },
   "file_extension": ".py",
   "mimetype": "text/x-python",
   "name": "python",
   "nbconvert_exporter": "python",
   "pygments_lexer": "ipython2",
   "version": "2.7.6"
  }
 },
 "nbformat": 4,
 "nbformat_minor": 5
}
