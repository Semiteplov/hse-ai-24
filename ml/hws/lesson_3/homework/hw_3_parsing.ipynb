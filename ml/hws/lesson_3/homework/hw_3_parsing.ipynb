{
 "cells": [
  {
   "metadata": {
    "ExecuteTime": {
     "end_time": "2024-12-23T05:42:49.959880Z",
     "start_time": "2024-12-23T05:42:49.296664Z"
    }
   },
   "cell_type": "code",
   "source": [
    "import logging\n",
    "import time\n",
    "from concurrent.futures import ThreadPoolExecutor\n",
    "\n",
    "import requests as rq\n",
    "import pandas as pd"
   ],
   "id": "d7a1bf11a1aaa91d",
   "outputs": [],
   "execution_count": 1
  },
  {
   "metadata": {
    "ExecuteTime": {
     "end_time": "2024-12-23T05:42:49.974657Z",
     "start_time": "2024-12-23T05:42:49.971806Z"
    }
   },
   "cell_type": "code",
   "source": "logging.basicConfig(level=logging.INFO, format='%(asctime)s - %(levelname)s - %(message)s')",
   "id": "4741ebf553b39834",
   "outputs": [],
   "execution_count": 2
  },
  {
   "metadata": {
    "ExecuteTime": {
     "end_time": "2024-12-23T05:42:50.166481Z",
     "start_time": "2024-12-23T05:42:50.162500Z"
    }
   },
   "cell_type": "code",
   "source": [
    "# лист категорий (блоков) для статей в Ленте\n",
    "lenta_blocs_indexes = [1,   # Общество/Россия\n",
    "                       3,   # Бывший СССР\n",
    "                       4,   # Экономика\n",
    "                       5,   # Наука и техника\n",
    "                       8,   # Спорт\n",
    "                       37,  # Силовые структуры\n",
    "                       48,  # Туризм/Путешествия\n",
    "                       87]  # Забота о себе"
   ],
   "id": "a99fab9832457362",
   "outputs": [],
   "execution_count": 3
  },
  {
   "metadata": {},
   "cell_type": "markdown",
   "source": "Ниже представлены вспомогательные классы: ParamsDictType для параметров поиска и абстрактный класс для парсеров NewsParser. Изначально хотел использовать несколько источников, но потом отказался от этой идеи.",
   "id": "e76454ea7b5e3e26"
  },
  {
   "cell_type": "code",
   "id": "initial_id",
   "metadata": {
    "collapsed": true,
    "ExecuteTime": {
     "end_time": "2024-12-23T05:42:50.183991Z",
     "start_time": "2024-12-23T05:42:50.178359Z"
    }
   },
   "source": [
    "from abc import ABC, abstractmethod\n",
    "from typing import TypedDict, NotRequired\n",
    "\n",
    "\n",
    "class ParamsDictType(TypedDict):\n",
    "    size: int\n",
    "    search_from: int\n",
    "    bloc: NotRequired[int]\n",
    "    query: NotRequired[str]\n",
    "\n",
    "\n",
    "class NewsParser(ABC):\n",
    "    @abstractmethod\n",
    "    def parse_category(self, bloc: int = None, query: str = None) -> pd.DataFrame:\n",
    "        pass\n",
    "\n",
    "    @abstractmethod\n",
    "    def parse(self) -> pd.DataFrame:\n",
    "        pass\n",
    "\n",
    "    @abstractmethod\n",
    "    def _get_page_data(self, url: str) -> pd.DataFrame:\n",
    "        pass\n"
   ],
   "outputs": [],
   "execution_count": 4
  },
  {
   "metadata": {
    "ExecuteTime": {
     "end_time": "2024-12-23T05:42:50.204860Z",
     "start_time": "2024-12-23T05:42:50.194235Z"
    }
   },
   "cell_type": "code",
   "source": [
    "class LentaParser(NewsParser):\n",
    "    @staticmethod\n",
    "    def _get_url(params: ParamsDictType) -> str:\n",
    "        base_url = (\n",
    "            f\"https://lenta.ru/search/v2/process?size={params['size']}&from={params['search_from']}\"\n",
    "            f\"&sort=2&domain=1&modified,format=yyyy-MM-dd&modified,from=2023-01-01&type=1\"\n",
    "        )\n",
    "\n",
    "        if 'query' in params and params['query']:\n",
    "            base_url += f\"&query={params['query']}\"\n",
    "        if 'bloc' in params and params['bloc']:\n",
    "            base_url += f\"&bloc={params['bloc']}\"\n",
    "\n",
    "        return base_url\n",
    "\n",
    "    def _get_page_data(self, url: str) -> pd.DataFrame:\n",
    "        \"\"\"\n",
    "        Возвращает pd.DataFrame со списком статей по текущему url\n",
    "        \"\"\"\n",
    "        try:\n",
    "            time.sleep(2)\n",
    "            response = rq.get(url, timeout=10)\n",
    "            response.raise_for_status()\n",
    "            data = response.json()\n",
    "            if 'matches' in data:\n",
    "                return pd.DataFrame(data['matches'])\n",
    "\n",
    "            logging.warning(f\"Статьи не найдены: {url}\")\n",
    "            return pd.DataFrame()\n",
    "        except Exception as e:\n",
    "            logging.error(f\"Ошибка при загрузке url {url}: {e}\")\n",
    "            return pd.DataFrame()\n",
    "\n",
    "    def parse_category(self, bloc: int = None, query: str = None) -> pd.DataFrame:\n",
    "        \"\"\"\n",
    "        Парсит переданную категорию и возвращает pd.DataFrame\n",
    "        \"\"\"\n",
    "        size = 250  # скачиванием батчами, чтобы не вылететь по таймауту\n",
    "        search_from = 1\n",
    "        articles_df = pd.DataFrame()\n",
    "\n",
    "        while search_from < 20000:\n",
    "            params = {\n",
    "                'size': size,\n",
    "                'search_from': search_from,\n",
    "            }\n",
    "            if query:\n",
    "                params['query'] = query\n",
    "            if bloc:\n",
    "                params['bloc'] = bloc\n",
    "\n",
    "            url = self._get_url(params)\n",
    "            page_data = self._get_page_data(url)\n",
    "\n",
    "            if page_data.empty:\n",
    "                logging.info(f\"Не найдено данных для категории {bloc}\")\n",
    "                break\n",
    "\n",
    "            articles_df = pd.concat([articles_df, page_data], ignore_index=True)\n",
    "            search_from += size\n",
    "\n",
    "        logging.info(f\"Для категории {bloc} найдено {articles_df.shape[0]} статей\")\n",
    "        return articles_df\n",
    "\n",
    "    def parse(self) -> pd.DataFrame:\n",
    "        \"\"\"\n",
    "        Парсит все переданные категории и возвращает обший pd.DataFrame\n",
    "        \"\"\"\n",
    "        df = pd.DataFrame()\n",
    "\n",
    "        with ThreadPoolExecutor() as executor:\n",
    "            results = list(executor.map(self.parse_category, lenta_blocs_indexes))\n",
    "\n",
    "        for result in results:\n",
    "            df = pd.concat([df, result], ignore_index=True)\n",
    "\n",
    "        # Тема \"Строительство\" парсится отдельно через query, так как такого отдельного блока тем на Ленте нет\n",
    "        query_results = self.parse_category(query='Строительство')\n",
    "        query_results['bloc'] = 6\n",
    "        df = pd.concat([df, query_results], ignore_index=True)\n",
    "\n",
    "        logging.info(f\"Всего статей: {df.shape[0]}\")\n",
    "        return df"
   ],
   "id": "128178402bcc5324",
   "outputs": [],
   "execution_count": 5
  },
  {
   "metadata": {
    "ExecuteTime": {
     "end_time": "2024-12-23T05:47:08.731118Z",
     "start_time": "2024-12-23T05:42:50.213503Z"
    }
   },
   "cell_type": "code",
   "source": [
    "lenta_parser = LentaParser()\n",
    "lenta_df = lenta_parser.parse()\n",
    "lenta_df.shape"
   ],
   "id": "f51a57bb36e21ad",
   "outputs": [
    {
     "name": "stderr",
     "output_type": "stream",
     "text": [
      "2024-12-23 08:45:19,140 - INFO - Не найдено данных для категории 8\n",
      "2024-12-23 08:45:19,142 - INFO - Для категории 8 найдено 9999 статей\n",
      "2024-12-23 08:45:20,732 - INFO - Не найдено данных для категории 3\n",
      "2024-12-23 08:45:20,735 - INFO - Для категории 3 найдено 9999 статей\n",
      "2024-12-23 08:45:23,727 - INFO - Не найдено данных для категории 48\n",
      "2024-12-23 08:45:23,730 - INFO - Для категории 48 найдено 9999 статей\n",
      "2024-12-23 08:45:23,911 - INFO - Не найдено данных для категории 37\n",
      "2024-12-23 08:45:23,914 - INFO - Для категории 37 найдено 9999 статей\n",
      "2024-12-23 08:45:24,119 - INFO - Не найдено данных для категории 87\n",
      "2024-12-23 08:45:24,121 - INFO - Для категории 87 найдено 9132 статей\n",
      "2024-12-23 08:45:31,615 - INFO - Не найдено данных для категории 1\n",
      "2024-12-23 08:45:31,617 - INFO - Для категории 1 найдено 9999 статей\n",
      "2024-12-23 08:45:33,674 - INFO - Не найдено данных для категории 5\n",
      "2024-12-23 08:45:33,676 - INFO - Для категории 5 найдено 9999 статей\n",
      "2024-12-23 08:45:35,168 - INFO - Не найдено данных для категории 4\n",
      "2024-12-23 08:45:35,169 - INFO - Для категории 4 найдено 9999 статей\n",
      "2024-12-23 08:47:08,694 - INFO - Не найдено данных для категории None\n",
      "2024-12-23 08:47:08,695 - INFO - Для категории None найдено 5804 статей\n",
      "2024-12-23 08:47:08,717 - INFO - Всего статей: 84929\n"
     ]
    },
    {
     "data": {
      "text/plain": [
       "(84929, 16)"
      ]
     },
     "execution_count": 6,
     "metadata": {},
     "output_type": "execute_result"
    }
   ],
   "execution_count": 6
  },
  {
   "metadata": {
    "ExecuteTime": {
     "end_time": "2024-12-23T05:47:08.777231Z",
     "start_time": "2024-12-23T05:47:08.763906Z"
    }
   },
   "cell_type": "code",
   "source": "lenta_df.head()",
   "id": "e1bbc279ee1884dc",
   "outputs": [
    {
     "data": {
      "text/plain": [
       "     docid                                                url  \\\n",
       "0  1754207  https://lenta.ru/news/2024/12/23/v-rossii-nach...   \n",
       "1  1754198  https://lenta.ru/news/2024/12/23/mladshiy-serz...   \n",
       "2  1754194  https://lenta.ru/news/2024/12/23/minoborony-za...   \n",
       "3  1754193         https://lenta.ru/news/2024/12/23/gruzovik/   \n",
       "4  1754188  https://lenta.ru/news/2024/12/23/propavshuyu-z...   \n",
       "\n",
       "                                               title    modified  lastmodtime  \\\n",
       "0      В России началась шестидневная рабочая неделя  1734931866   1734931867   \n",
       "1  Младший сержант под обстрелом удержал участок ...  1734931020   1734931206   \n",
       "2   Минобороны заявило о попытке удара ВСУ по России  1734929938   1734929939   \n",
       "3  Грузовик c водкой попал в ДТП и перевернулся н...  1734929305   1734929372   \n",
       "4  Пропавшую жительницу Луганска нашли без призна...  1734928745   1734929026   \n",
       "\n",
       "   type  domain  status  part  bloc tags  \\\n",
       "0     1       1       0     0     1  [2]   \n",
       "1     1       1       0     0     1  [4]   \n",
       "2     1       1       0     0     1  [4]   \n",
       "3     1       1       0     0     1  [4]   \n",
       "4     1       1       0     0     1  [4]   \n",
       "\n",
       "                                           image_url     pubdate  \\\n",
       "0  https://icdn.lenta.ru/images/2024/12/23/08/202...  1734931866   \n",
       "1  https://icdn.lenta.ru/images/2024/12/23/08/202...  1734931020   \n",
       "2  https://icdn.lenta.ru/images/2024/12/23/07/202...  1734929938   \n",
       "3  https://icdn.lenta.ru/images/2024/12/23/07/202...  1734929305   \n",
       "4  https://icdn.lenta.ru/images/2024/12/23/07/202...  1734928745   \n",
       "\n",
       "                                                text  \\\n",
       "0  Фото: Konstantin Kokoshkin / Global Look Press...   \n",
       "1  Фото: Алексей Коновалов / ТАСС Анастасия Шейки...   \n",
       "2  Фото: Власов Сергей / Globallook Press Анастас...   \n",
       "3  Фото: Sergey Elagin / Business Online / Global...   \n",
       "4  Фото: Konstantin Kokoshkin / Global Look Press...   \n",
       "\n",
       "                                            rightcol  \\\n",
       "0      В России началась шестидневная рабочая неделя   \n",
       "1  Младший сержант под обстрелом удержал участок ...   \n",
       "2   Минобороны заявило о попытке удара ВСУ по России   \n",
       "3  Грузовик c водкой попал в ДТП и перевернулся н...   \n",
       "4  Пропавшую жительницу Луганска нашли без призна...   \n",
       "\n",
       "                                             snippet  \n",
       "0  Фото: Konstantin Kokoshkin / Global Look ..., ...  \n",
       "1  Фото: Алексей Коновалов / ТАСС Анастасия ... о...  \n",
       "2  Фото: Власов Сергей / Globallook Press ...) пы...  \n",
       "3  Фото: Sergey Elagin / Business Online / ... с ...  \n",
       "4  Фото: Konstantin Kokoshkin / Global Look ... к...  "
      ],
      "text/html": [
       "<div>\n",
       "<style scoped>\n",
       "    .dataframe tbody tr th:only-of-type {\n",
       "        vertical-align: middle;\n",
       "    }\n",
       "\n",
       "    .dataframe tbody tr th {\n",
       "        vertical-align: top;\n",
       "    }\n",
       "\n",
       "    .dataframe thead th {\n",
       "        text-align: right;\n",
       "    }\n",
       "</style>\n",
       "<table border=\"1\" class=\"dataframe\">\n",
       "  <thead>\n",
       "    <tr style=\"text-align: right;\">\n",
       "      <th></th>\n",
       "      <th>docid</th>\n",
       "      <th>url</th>\n",
       "      <th>title</th>\n",
       "      <th>modified</th>\n",
       "      <th>lastmodtime</th>\n",
       "      <th>type</th>\n",
       "      <th>domain</th>\n",
       "      <th>status</th>\n",
       "      <th>part</th>\n",
       "      <th>bloc</th>\n",
       "      <th>tags</th>\n",
       "      <th>image_url</th>\n",
       "      <th>pubdate</th>\n",
       "      <th>text</th>\n",
       "      <th>rightcol</th>\n",
       "      <th>snippet</th>\n",
       "    </tr>\n",
       "  </thead>\n",
       "  <tbody>\n",
       "    <tr>\n",
       "      <th>0</th>\n",
       "      <td>1754207</td>\n",
       "      <td>https://lenta.ru/news/2024/12/23/v-rossii-nach...</td>\n",
       "      <td>В России началась шестидневная рабочая неделя</td>\n",
       "      <td>1734931866</td>\n",
       "      <td>1734931867</td>\n",
       "      <td>1</td>\n",
       "      <td>1</td>\n",
       "      <td>0</td>\n",
       "      <td>0</td>\n",
       "      <td>1</td>\n",
       "      <td>[2]</td>\n",
       "      <td>https://icdn.lenta.ru/images/2024/12/23/08/202...</td>\n",
       "      <td>1734931866</td>\n",
       "      <td>Фото: Konstantin Kokoshkin / Global Look Press...</td>\n",
       "      <td>В России началась шестидневная рабочая неделя</td>\n",
       "      <td>Фото: Konstantin Kokoshkin / Global Look ..., ...</td>\n",
       "    </tr>\n",
       "    <tr>\n",
       "      <th>1</th>\n",
       "      <td>1754198</td>\n",
       "      <td>https://lenta.ru/news/2024/12/23/mladshiy-serz...</td>\n",
       "      <td>Младший сержант под обстрелом удержал участок ...</td>\n",
       "      <td>1734931020</td>\n",
       "      <td>1734931206</td>\n",
       "      <td>1</td>\n",
       "      <td>1</td>\n",
       "      <td>0</td>\n",
       "      <td>0</td>\n",
       "      <td>1</td>\n",
       "      <td>[4]</td>\n",
       "      <td>https://icdn.lenta.ru/images/2024/12/23/08/202...</td>\n",
       "      <td>1734931020</td>\n",
       "      <td>Фото: Алексей Коновалов / ТАСС Анастасия Шейки...</td>\n",
       "      <td>Младший сержант под обстрелом удержал участок ...</td>\n",
       "      <td>Фото: Алексей Коновалов / ТАСС Анастасия ... о...</td>\n",
       "    </tr>\n",
       "    <tr>\n",
       "      <th>2</th>\n",
       "      <td>1754194</td>\n",
       "      <td>https://lenta.ru/news/2024/12/23/minoborony-za...</td>\n",
       "      <td>Минобороны заявило о попытке удара ВСУ по России</td>\n",
       "      <td>1734929938</td>\n",
       "      <td>1734929939</td>\n",
       "      <td>1</td>\n",
       "      <td>1</td>\n",
       "      <td>0</td>\n",
       "      <td>0</td>\n",
       "      <td>1</td>\n",
       "      <td>[4]</td>\n",
       "      <td>https://icdn.lenta.ru/images/2024/12/23/07/202...</td>\n",
       "      <td>1734929938</td>\n",
       "      <td>Фото: Власов Сергей / Globallook Press Анастас...</td>\n",
       "      <td>Минобороны заявило о попытке удара ВСУ по России</td>\n",
       "      <td>Фото: Власов Сергей / Globallook Press ...) пы...</td>\n",
       "    </tr>\n",
       "    <tr>\n",
       "      <th>3</th>\n",
       "      <td>1754193</td>\n",
       "      <td>https://lenta.ru/news/2024/12/23/gruzovik/</td>\n",
       "      <td>Грузовик c водкой попал в ДТП и перевернулся н...</td>\n",
       "      <td>1734929305</td>\n",
       "      <td>1734929372</td>\n",
       "      <td>1</td>\n",
       "      <td>1</td>\n",
       "      <td>0</td>\n",
       "      <td>0</td>\n",
       "      <td>1</td>\n",
       "      <td>[4]</td>\n",
       "      <td>https://icdn.lenta.ru/images/2024/12/23/07/202...</td>\n",
       "      <td>1734929305</td>\n",
       "      <td>Фото: Sergey Elagin / Business Online / Global...</td>\n",
       "      <td>Грузовик c водкой попал в ДТП и перевернулся н...</td>\n",
       "      <td>Фото: Sergey Elagin / Business Online / ... с ...</td>\n",
       "    </tr>\n",
       "    <tr>\n",
       "      <th>4</th>\n",
       "      <td>1754188</td>\n",
       "      <td>https://lenta.ru/news/2024/12/23/propavshuyu-z...</td>\n",
       "      <td>Пропавшую жительницу Луганска нашли без призна...</td>\n",
       "      <td>1734928745</td>\n",
       "      <td>1734929026</td>\n",
       "      <td>1</td>\n",
       "      <td>1</td>\n",
       "      <td>0</td>\n",
       "      <td>0</td>\n",
       "      <td>1</td>\n",
       "      <td>[4]</td>\n",
       "      <td>https://icdn.lenta.ru/images/2024/12/23/07/202...</td>\n",
       "      <td>1734928745</td>\n",
       "      <td>Фото: Konstantin Kokoshkin / Global Look Press...</td>\n",
       "      <td>Пропавшую жительницу Луганска нашли без призна...</td>\n",
       "      <td>Фото: Konstantin Kokoshkin / Global Look ... к...</td>\n",
       "    </tr>\n",
       "  </tbody>\n",
       "</table>\n",
       "</div>"
      ]
     },
     "execution_count": 7,
     "metadata": {},
     "output_type": "execute_result"
    }
   ],
   "execution_count": 7
  },
  {
   "metadata": {
    "ExecuteTime": {
     "end_time": "2024-12-23T05:47:08.867356Z",
     "start_time": "2024-12-23T05:47:08.860827Z"
    }
   },
   "cell_type": "code",
   "source": "lenta_df['bloc'].value_counts(normalize=True)",
   "id": "79c49f46e3a1df4e",
   "outputs": [
    {
     "data": {
      "text/plain": [
       "bloc\n",
       "1     0.117734\n",
       "3     0.117734\n",
       "4     0.117734\n",
       "5     0.117734\n",
       "8     0.117734\n",
       "37    0.117734\n",
       "48    0.117734\n",
       "87    0.107525\n",
       "6     0.068339\n",
       "Name: proportion, dtype: float64"
      ]
     },
     "execution_count": 8,
     "metadata": {},
     "output_type": "execute_result"
    }
   ],
   "execution_count": 8
  },
  {
   "metadata": {
    "ExecuteTime": {
     "end_time": "2024-12-23T05:47:11.547657Z",
     "start_time": "2024-12-23T05:47:08.928375Z"
    }
   },
   "cell_type": "code",
   "source": [
    "df = lenta_df[['bloc', 'text']] # оставляем только признак текст и таргет тему (блок)\n",
    "df = df[df['text'].notnull() & (df['text'].str.split().str.len() > 5)] # удаляем короткие и отсутствующие тексты\n",
    "df = df.drop_duplicates() # удаляем дубликаты\n",
    "\n",
    "df.shape"
   ],
   "id": "b11560b752cba553",
   "outputs": [
    {
     "data": {
      "text/plain": [
       "(84929, 2)"
      ]
     },
     "execution_count": 9,
     "metadata": {},
     "output_type": "execute_result"
    }
   ],
   "execution_count": 9
  },
  {
   "metadata": {
    "ExecuteTime": {
     "end_time": "2024-12-23T05:47:11.929747Z",
     "start_time": "2024-12-23T05:47:11.913801Z"
    }
   },
   "cell_type": "code",
   "source": [
    "# Маппим индексы тем с сайта Ленты с названиями\n",
    "lenta_categories = {\n",
    "    1: 'Общество/Россия',\n",
    "    3: 'Бывший СССР',\n",
    "    4: 'Экономика',\n",
    "    5: 'Наука и техника',\n",
    "    8: 'Спорт',\n",
    "    37: 'Силовые структуры',\n",
    "    48: 'Туризм/Путешествия',\n",
    "    87: 'Забота о себе',\n",
    "    6: 'Строительство'\n",
    "}\n",
    "\n",
    "# Маппим индексы тем из задания с названиями\n",
    "article_categories = {\n",
    "    0: 'Общество/Россия',\n",
    "    1: 'Экономика',\n",
    "    2: 'Силовые структуры',\n",
    "    3: 'Бывший СССР',\n",
    "    4: 'Спорт',\n",
    "    5: 'Забота о себе',\n",
    "    6: 'Строительство',\n",
    "    7: 'Туризм/Путешествия',\n",
    "    8: 'Наука и техника'\n",
    "}\n",
    "\n",
    "new_mapping = {v: k for k, v in article_categories.items()}\n",
    "\n",
    "# Подменяем индексы тем на нужные по заданию\n",
    "df['bloc'] = df['bloc'].dropna().map(lenta_categories).map(new_mapping)\n",
    "df['bloc'].value_counts(normalize=True)"
   ],
   "id": "8f3810b324a33038",
   "outputs": [
    {
     "data": {
      "text/plain": [
       "bloc\n",
       "0    0.117734\n",
       "3    0.117734\n",
       "1    0.117734\n",
       "8    0.117734\n",
       "4    0.117734\n",
       "2    0.117734\n",
       "7    0.117734\n",
       "5    0.107525\n",
       "6    0.068339\n",
       "Name: proportion, dtype: float64"
      ]
     },
     "execution_count": 10,
     "metadata": {},
     "output_type": "execute_result"
    }
   ],
   "execution_count": 10
  },
  {
   "metadata": {
    "ExecuteTime": {
     "end_time": "2024-12-23T05:47:14.351279Z",
     "start_time": "2024-12-23T05:47:11.968460Z"
    }
   },
   "cell_type": "code",
   "source": "df.to_csv('./lenta_df.csv')",
   "id": "cd94327c47f81359",
   "outputs": [],
   "execution_count": 11
  }
 ],
 "metadata": {
  "kernelspec": {
   "display_name": "Python 3",
   "language": "python",
   "name": "python3"
  },
  "language_info": {
   "codemirror_mode": {
    "name": "ipython",
    "version": 2
   },
   "file_extension": ".py",
   "mimetype": "text/x-python",
   "name": "python",
   "nbconvert_exporter": "python",
   "pygments_lexer": "ipython2",
   "version": "2.7.6"
  }
 },
 "nbformat": 4,
 "nbformat_minor": 5
}
