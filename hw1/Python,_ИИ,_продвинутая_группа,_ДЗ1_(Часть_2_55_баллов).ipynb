{
 "nbformat": 4,
 "nbformat_minor": 0,
 "metadata": {
  "colab": {
   "provenance": []
  },
  "kernelspec": {
   "name": "python3",
   "language": "python",
   "display_name": "Python 3 (ipykernel)"
  },
  "language_info": {
   "name": "python"
  }
 },
 "cells": [
  {
   "cell_type": "markdown",
   "source": [
    "Первая часть ДЗ находится здесь: https://official.contest.yandex.ru/contest/67840/enter\n",
    "\n",
    "Эта часть будет проверяться полностью вручную.\n",
    "За качество кода баллы могут быть снижены."
   ],
   "metadata": {
    "id": "3l-0ahLPQQd3"
   }
  },
  {
   "cell_type": "markdown",
   "source": [
    "### Задача 1. Декоратор. (15)\n",
    "\n",
    "Напишите декоратор, который будет выполнять функцию трижды, делая между выполнениями перерыв в 2 секунды. После каждого выполнения декоратор должен выводить на экран аргументы функции и результат работы (возвращаемое значение)"
   ],
   "metadata": {
    "id": "Kr8O7js8QdFD"
   }
  },
  {
   "cell_type": "code",
   "source": [
    "import time\n",
    "\n",
    "\n",
    "def repeat_three_times_with_pause(func):\n",
    "    def wrapper(*args, **kwargs):\n",
    "        for _ in range(3):\n",
    "            result = func(*args, **kwargs)\n",
    "            print(f\"Аргументы: {args}, {kwargs}\")\n",
    "            print(f\"Результат: {result}\")\n",
    "            time.sleep(2)\n",
    "        return result\n",
    "\n",
    "    return wrapper\n",
    "\n",
    "\n",
    "@repeat_three_times_with_pause\n",
    "def example_function(x, y, default_string):\n",
    "    return x * y\n",
    "\n",
    "\n",
    "example_function(2, 3, default_string=\"Переданная строка\")"
   ],
   "metadata": {
    "id": "8rnqhsSGQfPR",
    "ExecuteTime": {
     "end_time": "2024-09-13T15:47:41.352608400Z",
     "start_time": "2024-09-13T15:47:35.338540400Z"
    }
   },
   "execution_count": 11,
   "outputs": [
    {
     "name": "stdout",
     "output_type": "stream",
     "text": [
      "Аргументы: (2, 3), {'default_string': 'Переданная строка'}\n",
      "Результат: 6\n",
      "Аргументы: (2, 3), {'default_string': 'Переданная строка'}\n",
      "Результат: 6\n",
      "Аргументы: (2, 3), {'default_string': 'Переданная строка'}\n",
      "Результат: 6\n"
     ]
    },
    {
     "data": {
      "text/plain": "6"
     },
     "execution_count": 11,
     "metadata": {},
     "output_type": "execute_result"
    }
   ]
  },
  {
   "cell_type": "markdown",
   "source": [
    "### Задача 2. Генератор. (20)\n",
    "\n",
    "Напишите генератор, который принимает коллекцию с вложенными итерируемыми объектами, а возвращает каждый элемент последовательно.Если \"распаковать\" все получаемые значения в list, получится \"сплющенный\" список. Например:\n",
    "\n",
    "[[1, 2, 3], [4, [5, 6, [7, 8]]]] -> [1, 2, 3, 4, 5, 6, 7, 8]"
   ],
   "metadata": {
    "id": "MqYm6QvUSko4"
   }
  },
  {
   "cell_type": "code",
   "source": [
    "def flatten(collection):\n",
    "    for item in collection:\n",
    "        if isinstance(item, list):\n",
    "            for inner_item in flatten(item):\n",
    "                yield inner_item\n",
    "        else:\n",
    "            yield item\n",
    "\n",
    "\n",
    "nested_list = [[1, 2, 3], [4, [5, 6, [7, 8]]]]\n",
    "flattened_list = list(flatten(nested_list))\n",
    "print(flattened_list)"
   ],
   "metadata": {
    "id": "0jam99w5WHA2",
    "ExecuteTime": {
     "end_time": "2024-09-13T15:50:16.806318800Z",
     "start_time": "2024-09-13T15:50:16.795962600Z"
    }
   },
   "execution_count": 12,
   "outputs": [
    {
     "name": "stdout",
     "output_type": "stream",
     "text": [
      "[1, 2, 3, 4, 5, 6, 7, 8]\n"
     ]
    }
   ]
  },
  {
   "cell_type": "markdown",
   "source": [
    "### Задача 3. itertools (15)\n",
    "\n",
    "Модуль itertools представляет много инструментов для работы с итераторами.\n",
    "\n",
    "Ознакомиться с ними можно здесь: https://docs.python.org/3/library/itertools.html\n",
    "\n",
    "Вводится числа через пробел с одной строке. Затем вводится число n.\n",
    "\n",
    "Напишите программу, которая находит все уникальные пары чисел из списка, где сумма каждой пары равна числу n. Можете использовать itertools.\n",
    "\n",
    "Например, списка [1, 2, 3, 4, 5, 6] и n=7 программа должна вывести пары чисел, которые в сумме дают 7: [(1, 6), (2, 5), (3, 4)]."
   ],
   "metadata": {
    "id": "oMq97028UDAG"
   }
  },
  {
   "cell_type": "code",
   "source": [
    "import itertools\n",
    "\n",
    "numbers = list(map(int, input().split()))\n",
    "n = int(input())\n",
    "\n",
    "pairs = list(itertools.combinations(numbers, 2))\n",
    "\n",
    "result = [pair for pair in pairs if sum(pair) == n]\n",
    "\n",
    "print(result)"
   ],
   "metadata": {
    "id": "VN20gozgWHiy",
    "ExecuteTime": {
     "end_time": "2024-09-13T15:52:35.321442600Z",
     "start_time": "2024-09-13T15:52:25.420633100Z"
    }
   },
   "execution_count": 13,
   "outputs": [
    {
     "name": "stdout",
     "output_type": "stream",
     "text": [
      "[(1, 6), (2, 5), (3, 4)]\n"
     ]
    }
   ]
  },
  {
   "cell_type": "markdown",
   "source": [
    "## Задача 4.1 Очень функциональное программирование (2).\n",
    "\n",
    "Вводятся числа в одной строке через пробел.\n",
    "\n",
    "Например, '4 2 5 2 5 1'\n",
    "\n",
    "Необходимо найти наименьшее нечетное число. Например, для примера выше это 1.\n",
    "\n",
    "Решение должно занимать ровно одну строку любой длины.\n",
    "\n",
    "Запрещено использовать циклы, условные операторы и list comprehension.\n"
   ],
   "metadata": {
    "id": "_jSc7xl-VCCq"
   }
  },
  {
   "cell_type": "code",
   "source": [
    "print(min(filter(lambda x: x % 2 != 0, map(int, input().split()))))"
   ],
   "metadata": {
    "id": "ido4_rnfWSJa",
    "ExecuteTime": {
     "end_time": "2024-09-13T15:56:37.486930600Z",
     "start_time": "2024-09-13T15:56:32.647667500Z"
    }
   },
   "execution_count": 14,
   "outputs": [
    {
     "name": "stdout",
     "output_type": "stream",
     "text": [
      "1\n"
     ]
    }
   ]
  },
  {
   "cell_type": "markdown",
   "source": [
    "## Задача 4.2 itertools и очень функциональное программирование (3)."
   ],
   "metadata": {
    "id": "i-CiF6O9WS2q"
   }
  },
  {
   "cell_type": "markdown",
   "source": [
    "Вводится одно число n.\n",
    "\n",
    "Используя модуль itertools, выведите в одной строке через запятую и пробел факториалы чисел от 0 до n.\n",
    "\n",
    "\n",
    "Запрещено использовать циклы, условные операторы и list comprehension.\n",
    "\n",
    "Например, для n = 7 на экран надо вывести:\n",
    "\n",
    "1, 1, 2, 6, 24, 120, 720, 5040"
   ],
   "metadata": {
    "id": "qs75u_OVWjd2"
   }
  },
  {
   "cell_type": "code",
   "source": [
    "import itertools\n",
    "\n",
    "print(', '.join(['1'] + list(map(str, itertools.accumulate(range(1, int(input()) + 1), lambda x, y: x * y)))))"
   ],
   "metadata": {
    "id": "q1dFCXhOW8ah",
    "ExecuteTime": {
     "end_time": "2024-09-13T15:59:55.448991Z",
     "start_time": "2024-09-13T15:59:53.818605600Z"
    }
   },
   "execution_count": 18,
   "outputs": [
    {
     "name": "stdout",
     "output_type": "stream",
     "text": [
      "1, 1, 2, 6, 24, 120, 720, 5040\n"
     ]
    }
   ]
  }
 ]
}
