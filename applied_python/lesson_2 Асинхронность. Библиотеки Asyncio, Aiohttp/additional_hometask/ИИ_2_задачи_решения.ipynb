{
  "nbformat": 4,
  "nbformat_minor": 0,
  "metadata": {
    "colab": {
      "provenance": []
    },
    "kernelspec": {
      "name": "python3",
      "display_name": "Python 3"
    },
    "language_info": {
      "name": "python"
    }
  },
  "cells": [
    {
      "cell_type": "markdown",
      "source": [
        "1. **Асинхронная фильтрация данных с использованием `yield` (0.5б)**\n",
        "\n",
        "   Реализуйте генератор `async_filtered_numbers`, который принимает числа и фильтрует их по условию. Используйте `yield`, чтобы передать только те числа, которые соответствуют условию (например, четные).\n",
        "\n",
        "   **Пример использования:**\n",
        "   ```python\n",
        "   async def async_filtered_numbers(numbers, filter_func):\n",
        "       pass  # Реализуйте фильтрацию чисел с помощью yield\n",
        "\n",
        "   async for number in async_filtered_numbers([1, 2, 3, 4, 5, 6], lambda x: x % 2 == 0):\n",
        "       print(number)  # Ожидаемый вывод: 2, 4, 6\n",
        "   ```\n",
        "\n",
        "\n",
        "2. **Асинхронное вычисление факториалов с ограничением по времени (1б)**\n",
        "\n",
        "   Создайте корутину `async_factorial`, которая принимает целое число и возвращает его факториал. Используйте цикл для выполнения вычислений. На каждой итерации цикла добавьте небольшую задержку, чтобы дать другим задачам возможность выполняться, с помощью `await asyncio.sleep(0)`. Если выполнение займет больше 0.1 секунды, корутина должна прерывать вычисления и выбросить исключение `asyncio.TimeoutError`. Необходимо, чтобы сначала было напечатано успешно вычисленное значение (все значения), и только потом выброшено исключение.\n",
        "\n",
        "   **Пример использования:**\n",
        "   ```python\n",
        "   async def async_factorial(n):\n",
        "       # Реализуйте вычисление факториала с ограничением времени. Можно начать так...\n",
        "       result = 1\n",
        "       start_time = asyncio.get_event_loop().time()  # Текущее время\n",
        "\n",
        "       for i in range(1, n + 1):\n",
        "            result *= i\n",
        "            # Добавим небольшую задержку, чтобы дать другим задачам возможность выполняться\n",
        "            await asyncio.sleep(0)\n",
        "\n",
        "            # Ваш код\n",
        "   \n",
        "   # Реорганизуйте код ниже, чтобы было выполнено последнее условие\n",
        "   print(await async_factorial(10000))\n",
        "   print(await async_factorial(5))\n",
        "   ```\n",
        "\n",
        "   3. **Асинхронная обработка задач с управлением через `asyncio.wait` (1б)**\n",
        "\n",
        "   Напишите корутину `task_handler`, которая принимает несколько задач и управляет их выполнением, используя `asyncio.wait`. Обратите внимание, что возвращает `asyncio.wait`. Пусть задачи завершаются только, когда будут выполнены три самые короткие по времени задачи. Остальные задачи должны остаться в состоянии ожидания.\n",
        "\n",
        "   **Пример использования:**\n",
        "   ```python\n",
        "   async def sample_task(name, delay):\n",
        "       await asyncio.sleep(delay)\n",
        "       print(f\"{name} завершена после {delay} секунд\")\n",
        "\n",
        "   await task_handler([\n",
        "       sample_task(\"Task1\", 5),\n",
        "       sample_task(\"Task2\", 3),\n",
        "       sample_task(\"Task3\", 1),\n",
        "       sample_task(\"Task4\", 4),\n",
        "       sample_task(\"Task5\", 2)\n",
        "   ])\n",
        "   # Ожидаемый вывод: Выполнение трех задач с наименьшим временем, остальные задачи не завершаются\n",
        "   ```\n",
        "\n",
        "   4. **Асинхронная очередь с приоритетом и таймаутом (2б)**\n",
        "\n",
        "   Создайте асинхронную очередь с приоритетом. Пусть `producer` добавляет в очередь задачи с разным приоритетом, а `consumer` обрабатывает задачи в порядке приоритета. При этом задачи, которые находятся в очереди более 3 секунд, должны удаляться без обработки. Если очередь пуста в течение времени ожидания в 1 секунду, завершаем с сообщением \"No tasks left to process.\" Это должно происходить в конце (потому что priority_producer не будет писать в конце). Убедитесь, что это сработает и в середине, использовав закомментированное `# await asyncio.sleep(3)`. Считайте, что `priority_consumer` требует 1.5 секунды на обработку одной задачи (вставьте `await asyncio.sleep(1.5)` после операции получения очередного запроса из очереди с учетом таймаута).\n",
        "\n",
        "   **Пример использования:**\n",
        "   ```python\n",
        "   async def priority_producer(queue):\n",
        "       # Добавляем задачи с приоритетами и временной меткой (чем меньше приоритет, тем выше он в очереди)\n",
        "       await queue.put((1, time.time(), \"High Priority Task\"))\n",
        "       await asyncio.sleep(1)\n",
        "       await queue.put((3, time.time(), \"Low Priority Task\"))\n",
        "       await asyncio.sleep(1) # await asyncio.sleep(3)\n",
        "       await queue.put((2, time.time(), \"Medium Priority Task\"))\n",
        "       await asyncio.sleep(1)\n",
        "       await queue.put((0, time.time(), \"Very High Priority Task\"))\n",
        "\n",
        "   async def priority_consumer(queue):\n",
        "       pass  # Извлекайте задачи из очереди в порядке приоритета с учетом таймаута. Не забудьте отмечать выполненные задачи через queue.task_done()\n",
        "\n",
        "   queue = asyncio.PriorityQueue()\n",
        "   await asyncio.gather(priority_producer(queue), priority_consumer(queue))\n",
        "   ```\n",
        "\n",
        "   Ожидаемый вывод\n",
        "   ```\n",
        "   Processing High Priority Task with priority 1\n",
        "   Processing Low Priority Task with priority 3\n",
        "   Processing Medium Priority Task with priority 2\n",
        "   Task 'Very High Priority Task' was discarded due to timeout.\n",
        "   No tasks left to process.\n",
        "   ```\n",
        "\n",
        "   5. **Асинхронный объединитель данных из нескольких источников с фильтрацией (0.5б)**\n",
        "\n",
        "   Реализуйте `merge_data_sources`, который объединяет данные из нескольких асинхронных источников. Используйте `yield from`, чтобы делегировать обработку данных. Добавьте фильтр, который будет удалять пустые данные.\n",
        "\n",
        "   **Пример использования:**\n",
        "   ```python\n",
        "   async def data_source_one():\n",
        "      for data in [\"Data1\", None, \"Data3\", \"\"]:\n",
        "        await asyncio.sleep(1)\n",
        "        yield data\n",
        "\n",
        "   async def data_source_two():\n",
        "      for data in [\"Valid1\", \"\", \"Valid3\"]:\n",
        "        await asyncio.sleep(1)\n",
        "        yield data\n",
        "\n",
        "   async def merge_data_sources():\n",
        "       pass  # Объедините данные из нескольких источников с фильтрацией и обработкой ошибок\n",
        "\n",
        "   async for data in merge_data_sources(data_source_one, data_source_two):\n",
        "       print(data)  # Ожидаемый вывод: Только непустые и валидные строки\n",
        "   ```\n",
        "\n",
        "   6. **Асинхронный агрегатор данных из API с несколькими типами запросов (3б)**\n",
        "\n",
        "   Реализуйте корутину `api_aggregator`, которая отправляет асинхронные запросы к нескольким API. Пусть будут три типа запросов:\n",
        "   - **Запросы типа \"fast\"** обрабатываются без задержки,\n",
        "   - **Запросы типа \"slow\"** обрабатываются с задержкой 3 секунды,\n",
        "   - **Запросы типа \"unstable\"** могут завершиться ошибкой с вероятностью 50%.\n",
        "\n",
        "   `api_aggregator` должен запускать все запросы параллельно и обрабатывать результаты по мере их поступления. При ошибке запросов \"unstable\" должен происходить повторный запрос до трех раз. Запустите своё решение несколько раз и убедитесь, что все сценарии корректно отрабатывают\n",
        "\n",
        "   **Пример использования:**\n",
        "   ```python\n",
        "   async def fast_request():\n",
        "       return \"Fast result\"\n",
        "\n",
        "   async def slow_request():\n",
        "       await asyncio.sleep(3)\n",
        "       return \"Slow result\"\n",
        "\n",
        "   async def unstable_request():\n",
        "       if random.random() > 0.5:\n",
        "           raise ValueError(\"Unstable request failed\")\n",
        "       return \"Unstable result\"\n",
        "\n",
        "   async def api_aggregator():\n",
        "       pass  # Реализуйте агрегатор для запуска всех запросов и обработки результатов\n",
        "\n",
        "   await api_aggregator()\n",
        "   ```\n"
      ],
      "metadata": {
        "id": "sAZOZx3TT1P2"
      }
    },
    {
      "cell_type": "markdown",
      "source": [
        "Задача 1"
      ],
      "metadata": {
        "id": "af5XJScIhUPw"
      }
    },
    {
      "cell_type": "code",
      "source": [
        "import nest_asyncio\n",
        "nest_asyncio.apply()"
      ],
      "metadata": {
        "id": "kkvXhqOeiQ-O"
      },
      "execution_count": null,
      "outputs": []
    },
    {
      "cell_type": "code",
      "source": [
        "async def async_filtered_numbers(numbers, filter_func):\n",
        "    # Фильтруем числа и передаем подходящие значения с помощью yield\n",
        "    for number in numbers:\n",
        "        if filter_func(number):\n",
        "            yield number\n",
        "\n",
        "# Пример использования\n",
        "async for number in async_filtered_numbers([1, 2, 3, 4, 5, 6], lambda x: x % 2 == 0):\n",
        "    print(number)  # Ожидаемый вывод: 2, 4, 6\n"
      ],
      "metadata": {
        "colab": {
          "base_uri": "https://localhost:8080/"
        },
        "id": "EkOMEyqBhVQ6",
        "outputId": "421e64da-b083-4eb1-bc9e-672e0f328550"
      },
      "execution_count": null,
      "outputs": [
        {
          "output_type": "stream",
          "name": "stdout",
          "text": [
            "2\n",
            "4\n",
            "6\n"
          ]
        }
      ]
    },
    {
      "cell_type": "markdown",
      "source": [
        "Задача 2"
      ],
      "metadata": {
        "id": "zto9-O-rhUJU"
      }
    },
    {
      "cell_type": "code",
      "source": [
        "import sys\n",
        "sys.set_int_max_str_digits(100000)\n",
        "import asyncio\n",
        "\n",
        "async def async_factorial(n):\n",
        "    result = 1\n",
        "    start_time = asyncio.get_event_loop().time()  # Текущее время\n",
        "\n",
        "    for i in range(1, n + 1):\n",
        "        result *= i\n",
        "        # Добавим небольшую задержку, чтобы дать другим задачам возможность выполняться\n",
        "        await asyncio.sleep(0)\n",
        "\n",
        "        # Проверим, не истекло ли время\n",
        "        if asyncio.get_event_loop().time() - start_time > 0.1:\n",
        "            raise asyncio.TimeoutError\n",
        "\n",
        "    return result\n",
        "\n",
        "# Пример использования\n",
        "async def main():\n",
        "    task1 = asyncio.create_task(async_factorial(10000))  # Ожидаемый вывод: \"Время истекло\"\n",
        "    task2 = asyncio.create_task(async_factorial(5))      # Ожидаемый вывод: 120\n",
        "    for task in asyncio.as_completed([task1, task2]):\n",
        "        result = await task\n",
        "        print(result)\n",
        "\n",
        "# Запуск корутины\n",
        "asyncio.run(main())\n"
      ],
      "metadata": {
        "colab": {
          "base_uri": "https://localhost:8080/",
          "height": 391
        },
        "id": "33E2e4-QiIhp",
        "outputId": "1085ad64-fb9e-4e2d-ba76-640d79775137"
      },
      "execution_count": null,
      "outputs": [
        {
          "output_type": "stream",
          "name": "stdout",
          "text": [
            "120\n"
          ]
        },
        {
          "output_type": "stream",
          "name": "stderr",
          "text": [
            "/usr/lib/python3.10/linecache.py:72: RuntimeWarning: coroutine 'main' was never awaited\n",
            "  stat = os.stat(fullname)\n",
            "RuntimeWarning: Enable tracemalloc to get the object allocation traceback\n"
          ]
        },
        {
          "output_type": "error",
          "ename": "TimeoutError",
          "evalue": "",
          "traceback": [
            "\u001b[0;31m---------------------------------------------------------------------------\u001b[0m",
            "\u001b[0;31mTimeoutError\u001b[0m                              Traceback (most recent call last)",
            "\u001b[0;32m<ipython-input-4-23e56d97060e>\u001b[0m in \u001b[0;36m<cell line: 29>\u001b[0;34m()\u001b[0m\n\u001b[1;32m     27\u001b[0m \u001b[0;34m\u001b[0m\u001b[0m\n\u001b[1;32m     28\u001b[0m \u001b[0;31m# Запуск корутины\u001b[0m\u001b[0;34m\u001b[0m\u001b[0;34m\u001b[0m\u001b[0m\n\u001b[0;32m---> 29\u001b[0;31m \u001b[0masyncio\u001b[0m\u001b[0;34m.\u001b[0m\u001b[0mrun\u001b[0m\u001b[0;34m(\u001b[0m\u001b[0mmain\u001b[0m\u001b[0;34m(\u001b[0m\u001b[0;34m)\u001b[0m\u001b[0;34m)\u001b[0m\u001b[0;34m\u001b[0m\u001b[0;34m\u001b[0m\u001b[0m\n\u001b[0m",
            "\u001b[0;32m/usr/local/lib/python3.10/dist-packages/nest_asyncio.py\u001b[0m in \u001b[0;36mrun\u001b[0;34m(main, debug)\u001b[0m\n\u001b[1;32m     28\u001b[0m         \u001b[0mtask\u001b[0m \u001b[0;34m=\u001b[0m \u001b[0masyncio\u001b[0m\u001b[0;34m.\u001b[0m\u001b[0mensure_future\u001b[0m\u001b[0;34m(\u001b[0m\u001b[0mmain\u001b[0m\u001b[0;34m)\u001b[0m\u001b[0;34m\u001b[0m\u001b[0;34m\u001b[0m\u001b[0m\n\u001b[1;32m     29\u001b[0m         \u001b[0;32mtry\u001b[0m\u001b[0;34m:\u001b[0m\u001b[0;34m\u001b[0m\u001b[0;34m\u001b[0m\u001b[0m\n\u001b[0;32m---> 30\u001b[0;31m             \u001b[0;32mreturn\u001b[0m \u001b[0mloop\u001b[0m\u001b[0;34m.\u001b[0m\u001b[0mrun_until_complete\u001b[0m\u001b[0;34m(\u001b[0m\u001b[0mtask\u001b[0m\u001b[0;34m)\u001b[0m\u001b[0;34m\u001b[0m\u001b[0;34m\u001b[0m\u001b[0m\n\u001b[0m\u001b[1;32m     31\u001b[0m         \u001b[0;32mfinally\u001b[0m\u001b[0;34m:\u001b[0m\u001b[0;34m\u001b[0m\u001b[0;34m\u001b[0m\u001b[0m\n\u001b[1;32m     32\u001b[0m             \u001b[0;32mif\u001b[0m \u001b[0;32mnot\u001b[0m \u001b[0mtask\u001b[0m\u001b[0;34m.\u001b[0m\u001b[0mdone\u001b[0m\u001b[0;34m(\u001b[0m\u001b[0;34m)\u001b[0m\u001b[0;34m:\u001b[0m\u001b[0;34m\u001b[0m\u001b[0;34m\u001b[0m\u001b[0m\n",
            "\u001b[0;32m/usr/local/lib/python3.10/dist-packages/nest_asyncio.py\u001b[0m in \u001b[0;36mrun_until_complete\u001b[0;34m(self, future)\u001b[0m\n\u001b[1;32m     96\u001b[0m                 raise RuntimeError(\n\u001b[1;32m     97\u001b[0m                     'Event loop stopped before Future completed.')\n\u001b[0;32m---> 98\u001b[0;31m             \u001b[0;32mreturn\u001b[0m \u001b[0mf\u001b[0m\u001b[0;34m.\u001b[0m\u001b[0mresult\u001b[0m\u001b[0;34m(\u001b[0m\u001b[0;34m)\u001b[0m\u001b[0;34m\u001b[0m\u001b[0;34m\u001b[0m\u001b[0m\n\u001b[0m\u001b[1;32m     99\u001b[0m \u001b[0;34m\u001b[0m\u001b[0m\n\u001b[1;32m    100\u001b[0m     \u001b[0;32mdef\u001b[0m \u001b[0m_run_once\u001b[0m\u001b[0;34m(\u001b[0m\u001b[0mself\u001b[0m\u001b[0;34m)\u001b[0m\u001b[0;34m:\u001b[0m\u001b[0;34m\u001b[0m\u001b[0;34m\u001b[0m\u001b[0m\n",
            "\u001b[0;32m/usr/lib/python3.10/asyncio/futures.py\u001b[0m in \u001b[0;36mresult\u001b[0;34m(self)\u001b[0m\n\u001b[1;32m    199\u001b[0m         \u001b[0mself\u001b[0m\u001b[0;34m.\u001b[0m\u001b[0m__log_traceback\u001b[0m \u001b[0;34m=\u001b[0m \u001b[0;32mFalse\u001b[0m\u001b[0;34m\u001b[0m\u001b[0;34m\u001b[0m\u001b[0m\n\u001b[1;32m    200\u001b[0m         \u001b[0;32mif\u001b[0m \u001b[0mself\u001b[0m\u001b[0;34m.\u001b[0m\u001b[0m_exception\u001b[0m \u001b[0;32mis\u001b[0m \u001b[0;32mnot\u001b[0m \u001b[0;32mNone\u001b[0m\u001b[0;34m:\u001b[0m\u001b[0;34m\u001b[0m\u001b[0;34m\u001b[0m\u001b[0m\n\u001b[0;32m--> 201\u001b[0;31m             \u001b[0;32mraise\u001b[0m \u001b[0mself\u001b[0m\u001b[0;34m.\u001b[0m\u001b[0m_exception\u001b[0m\u001b[0;34m.\u001b[0m\u001b[0mwith_traceback\u001b[0m\u001b[0;34m(\u001b[0m\u001b[0mself\u001b[0m\u001b[0;34m.\u001b[0m\u001b[0m_exception_tb\u001b[0m\u001b[0;34m)\u001b[0m\u001b[0;34m\u001b[0m\u001b[0;34m\u001b[0m\u001b[0m\n\u001b[0m\u001b[1;32m    202\u001b[0m         \u001b[0;32mreturn\u001b[0m \u001b[0mself\u001b[0m\u001b[0;34m.\u001b[0m\u001b[0m_result\u001b[0m\u001b[0;34m\u001b[0m\u001b[0;34m\u001b[0m\u001b[0m\n\u001b[1;32m    203\u001b[0m \u001b[0;34m\u001b[0m\u001b[0m\n",
            "\u001b[0;32m/usr/lib/python3.10/asyncio/tasks.py\u001b[0m in \u001b[0;36m__step\u001b[0;34m(***failed resolving arguments***)\u001b[0m\n\u001b[1;32m    230\u001b[0m                 \u001b[0;31m# We use the `send` method directly, because coroutines\u001b[0m\u001b[0;34m\u001b[0m\u001b[0;34m\u001b[0m\u001b[0m\n\u001b[1;32m    231\u001b[0m                 \u001b[0;31m# don't have `__iter__` and `__next__` methods.\u001b[0m\u001b[0;34m\u001b[0m\u001b[0;34m\u001b[0m\u001b[0m\n\u001b[0;32m--> 232\u001b[0;31m                 \u001b[0mresult\u001b[0m \u001b[0;34m=\u001b[0m \u001b[0mcoro\u001b[0m\u001b[0;34m.\u001b[0m\u001b[0msend\u001b[0m\u001b[0;34m(\u001b[0m\u001b[0;32mNone\u001b[0m\u001b[0;34m)\u001b[0m\u001b[0;34m\u001b[0m\u001b[0;34m\u001b[0m\u001b[0m\n\u001b[0m\u001b[1;32m    233\u001b[0m             \u001b[0;32melse\u001b[0m\u001b[0;34m:\u001b[0m\u001b[0;34m\u001b[0m\u001b[0;34m\u001b[0m\u001b[0m\n\u001b[1;32m    234\u001b[0m                 \u001b[0mresult\u001b[0m \u001b[0;34m=\u001b[0m \u001b[0mcoro\u001b[0m\u001b[0;34m.\u001b[0m\u001b[0mthrow\u001b[0m\u001b[0;34m(\u001b[0m\u001b[0mexc\u001b[0m\u001b[0;34m)\u001b[0m\u001b[0;34m\u001b[0m\u001b[0;34m\u001b[0m\u001b[0m\n",
            "\u001b[0;32m<ipython-input-4-23e56d97060e>\u001b[0m in \u001b[0;36mmain\u001b[0;34m()\u001b[0m\n\u001b[1;32m     23\u001b[0m     \u001b[0mtask2\u001b[0m \u001b[0;34m=\u001b[0m \u001b[0masyncio\u001b[0m\u001b[0;34m.\u001b[0m\u001b[0mcreate_task\u001b[0m\u001b[0;34m(\u001b[0m\u001b[0masync_factorial\u001b[0m\u001b[0;34m(\u001b[0m\u001b[0;36m5\u001b[0m\u001b[0;34m)\u001b[0m\u001b[0;34m)\u001b[0m      \u001b[0;31m# Ожидаемый вывод: 120\u001b[0m\u001b[0;34m\u001b[0m\u001b[0;34m\u001b[0m\u001b[0m\n\u001b[1;32m     24\u001b[0m     \u001b[0;32mfor\u001b[0m \u001b[0mtask\u001b[0m \u001b[0;32min\u001b[0m \u001b[0masyncio\u001b[0m\u001b[0;34m.\u001b[0m\u001b[0mas_completed\u001b[0m\u001b[0;34m(\u001b[0m\u001b[0;34m[\u001b[0m\u001b[0mtask1\u001b[0m\u001b[0;34m,\u001b[0m \u001b[0mtask2\u001b[0m\u001b[0;34m]\u001b[0m\u001b[0;34m)\u001b[0m\u001b[0;34m:\u001b[0m\u001b[0;34m\u001b[0m\u001b[0;34m\u001b[0m\u001b[0m\n\u001b[0;32m---> 25\u001b[0;31m         \u001b[0mresult\u001b[0m \u001b[0;34m=\u001b[0m \u001b[0;32mawait\u001b[0m \u001b[0mtask\u001b[0m\u001b[0;34m\u001b[0m\u001b[0;34m\u001b[0m\u001b[0m\n\u001b[0m\u001b[1;32m     26\u001b[0m         \u001b[0mprint\u001b[0m\u001b[0;34m(\u001b[0m\u001b[0mresult\u001b[0m\u001b[0;34m)\u001b[0m\u001b[0;34m\u001b[0m\u001b[0;34m\u001b[0m\u001b[0m\n\u001b[1;32m     27\u001b[0m \u001b[0;34m\u001b[0m\u001b[0m\n",
            "\u001b[0;32m/usr/lib/python3.10/asyncio/tasks.py\u001b[0m in \u001b[0;36m_wait_for_one\u001b[0;34m()\u001b[0m\n\u001b[1;32m    569\u001b[0m             \u001b[0;31m# Dummy value from _on_timeout().\u001b[0m\u001b[0;34m\u001b[0m\u001b[0;34m\u001b[0m\u001b[0m\n\u001b[1;32m    570\u001b[0m             \u001b[0;32mraise\u001b[0m \u001b[0mexceptions\u001b[0m\u001b[0;34m.\u001b[0m\u001b[0mTimeoutError\u001b[0m\u001b[0;34m\u001b[0m\u001b[0;34m\u001b[0m\u001b[0m\n\u001b[0;32m--> 571\u001b[0;31m         \u001b[0;32mreturn\u001b[0m \u001b[0mf\u001b[0m\u001b[0;34m.\u001b[0m\u001b[0mresult\u001b[0m\u001b[0;34m(\u001b[0m\u001b[0;34m)\u001b[0m  \u001b[0;31m# May raise f.exception().\u001b[0m\u001b[0;34m\u001b[0m\u001b[0;34m\u001b[0m\u001b[0m\n\u001b[0m\u001b[1;32m    572\u001b[0m \u001b[0;34m\u001b[0m\u001b[0m\n\u001b[1;32m    573\u001b[0m     \u001b[0;32mfor\u001b[0m \u001b[0mf\u001b[0m \u001b[0;32min\u001b[0m \u001b[0mtodo\u001b[0m\u001b[0;34m:\u001b[0m\u001b[0;34m\u001b[0m\u001b[0;34m\u001b[0m\u001b[0m\n",
            "\u001b[0;32m/usr/lib/python3.10/asyncio/futures.py\u001b[0m in \u001b[0;36mresult\u001b[0;34m(self)\u001b[0m\n\u001b[1;32m    199\u001b[0m         \u001b[0mself\u001b[0m\u001b[0;34m.\u001b[0m\u001b[0m__log_traceback\u001b[0m \u001b[0;34m=\u001b[0m \u001b[0;32mFalse\u001b[0m\u001b[0;34m\u001b[0m\u001b[0;34m\u001b[0m\u001b[0m\n\u001b[1;32m    200\u001b[0m         \u001b[0;32mif\u001b[0m \u001b[0mself\u001b[0m\u001b[0;34m.\u001b[0m\u001b[0m_exception\u001b[0m \u001b[0;32mis\u001b[0m \u001b[0;32mnot\u001b[0m \u001b[0;32mNone\u001b[0m\u001b[0;34m:\u001b[0m\u001b[0;34m\u001b[0m\u001b[0;34m\u001b[0m\u001b[0m\n\u001b[0;32m--> 201\u001b[0;31m             \u001b[0;32mraise\u001b[0m \u001b[0mself\u001b[0m\u001b[0;34m.\u001b[0m\u001b[0m_exception\u001b[0m\u001b[0;34m.\u001b[0m\u001b[0mwith_traceback\u001b[0m\u001b[0;34m(\u001b[0m\u001b[0mself\u001b[0m\u001b[0;34m.\u001b[0m\u001b[0m_exception_tb\u001b[0m\u001b[0;34m)\u001b[0m\u001b[0;34m\u001b[0m\u001b[0;34m\u001b[0m\u001b[0m\n\u001b[0m\u001b[1;32m    202\u001b[0m         \u001b[0;32mreturn\u001b[0m \u001b[0mself\u001b[0m\u001b[0;34m.\u001b[0m\u001b[0m_result\u001b[0m\u001b[0;34m\u001b[0m\u001b[0;34m\u001b[0m\u001b[0m\n\u001b[1;32m    203\u001b[0m \u001b[0;34m\u001b[0m\u001b[0m\n",
            "\u001b[0;32m/usr/lib/python3.10/asyncio/tasks.py\u001b[0m in \u001b[0;36m__step\u001b[0;34m(***failed resolving arguments***)\u001b[0m\n\u001b[1;32m    230\u001b[0m                 \u001b[0;31m# We use the `send` method directly, because coroutines\u001b[0m\u001b[0;34m\u001b[0m\u001b[0;34m\u001b[0m\u001b[0m\n\u001b[1;32m    231\u001b[0m                 \u001b[0;31m# don't have `__iter__` and `__next__` methods.\u001b[0m\u001b[0;34m\u001b[0m\u001b[0;34m\u001b[0m\u001b[0m\n\u001b[0;32m--> 232\u001b[0;31m                 \u001b[0mresult\u001b[0m \u001b[0;34m=\u001b[0m \u001b[0mcoro\u001b[0m\u001b[0;34m.\u001b[0m\u001b[0msend\u001b[0m\u001b[0;34m(\u001b[0m\u001b[0;32mNone\u001b[0m\u001b[0;34m)\u001b[0m\u001b[0;34m\u001b[0m\u001b[0;34m\u001b[0m\u001b[0m\n\u001b[0m\u001b[1;32m    233\u001b[0m             \u001b[0;32melse\u001b[0m\u001b[0;34m:\u001b[0m\u001b[0;34m\u001b[0m\u001b[0;34m\u001b[0m\u001b[0m\n\u001b[1;32m    234\u001b[0m                 \u001b[0mresult\u001b[0m \u001b[0;34m=\u001b[0m \u001b[0mcoro\u001b[0m\u001b[0;34m.\u001b[0m\u001b[0mthrow\u001b[0m\u001b[0;34m(\u001b[0m\u001b[0mexc\u001b[0m\u001b[0;34m)\u001b[0m\u001b[0;34m\u001b[0m\u001b[0;34m\u001b[0m\u001b[0m\n",
            "\u001b[0;32m<ipython-input-4-23e56d97060e>\u001b[0m in \u001b[0;36masync_factorial\u001b[0;34m(n)\u001b[0m\n\u001b[1;32m     14\u001b[0m         \u001b[0;31m# Проверим, не истекло ли время\u001b[0m\u001b[0;34m\u001b[0m\u001b[0;34m\u001b[0m\u001b[0m\n\u001b[1;32m     15\u001b[0m         \u001b[0;32mif\u001b[0m \u001b[0masyncio\u001b[0m\u001b[0;34m.\u001b[0m\u001b[0mget_event_loop\u001b[0m\u001b[0;34m(\u001b[0m\u001b[0;34m)\u001b[0m\u001b[0;34m.\u001b[0m\u001b[0mtime\u001b[0m\u001b[0;34m(\u001b[0m\u001b[0;34m)\u001b[0m \u001b[0;34m-\u001b[0m \u001b[0mstart_time\u001b[0m \u001b[0;34m>\u001b[0m \u001b[0;36m0.1\u001b[0m\u001b[0;34m:\u001b[0m\u001b[0;34m\u001b[0m\u001b[0;34m\u001b[0m\u001b[0m\n\u001b[0;32m---> 16\u001b[0;31m             \u001b[0;32mraise\u001b[0m \u001b[0masyncio\u001b[0m\u001b[0;34m.\u001b[0m\u001b[0mTimeoutError\u001b[0m\u001b[0;34m\u001b[0m\u001b[0;34m\u001b[0m\u001b[0m\n\u001b[0m\u001b[1;32m     17\u001b[0m \u001b[0;34m\u001b[0m\u001b[0m\n\u001b[1;32m     18\u001b[0m     \u001b[0;32mreturn\u001b[0m \u001b[0mresult\u001b[0m\u001b[0;34m\u001b[0m\u001b[0;34m\u001b[0m\u001b[0m\n",
            "\u001b[0;31mTimeoutError\u001b[0m: "
          ]
        }
      ]
    },
    {
      "cell_type": "markdown",
      "source": [
        "Задача 3"
      ],
      "metadata": {
        "id": "kl1og-LnhUDP"
      }
    },
    {
      "cell_type": "code",
      "source": [
        "import asyncio\n",
        "\n",
        "async def task_handler(tasks):\n",
        "    running_tasks = [asyncio.create_task(task) for task in tasks]\n",
        "    completed_tasks = set()\n",
        "\n",
        "    while len(completed_tasks) < 3:\n",
        "        done, pending = await asyncio.wait(running_tasks, return_when=asyncio.FIRST_COMPLETED)\n",
        "\n",
        "        completed_tasks.update(done)\n",
        "\n",
        "        running_tasks = list(pending)\n",
        "\n",
        "async def sample_task(name, delay):\n",
        "    await asyncio.sleep(delay)\n",
        "    print(f\"{name} завершена после {delay} секунд\")\n",
        "\n",
        "async def main():\n",
        "    await task_handler([\n",
        "        sample_task(\"Task1\", 5),\n",
        "        sample_task(\"Task2\", 3),\n",
        "        sample_task(\"Task3\", 1),\n",
        "        sample_task(\"Task4\", 4),\n",
        "        sample_task(\"Task5\", 2)\n",
        "    ])\n",
        "\n",
        "# Запуск корутины main\n",
        "asyncio.run(main())\n"
      ],
      "metadata": {
        "colab": {
          "base_uri": "https://localhost:8080/"
        },
        "id": "cfmXIsREiM3R",
        "outputId": "a9c269c4-0fb5-47d5-e265-a794b9972d67"
      },
      "execution_count": null,
      "outputs": [
        {
          "output_type": "stream",
          "name": "stdout",
          "text": [
            "Task3 завершена после 1 секунд\n",
            "Task5 завершена после 2 секунд\n",
            "Task2 завершена после 3 секунд\n"
          ]
        }
      ]
    },
    {
      "cell_type": "markdown",
      "source": [
        "Задача 4"
      ],
      "metadata": {
        "id": "uSzA4fmVhT-D"
      }
    },
    {
      "cell_type": "code",
      "source": [
        "import asyncio\n",
        "import time\n",
        "\n",
        "async def priority_producer(queue):\n",
        "    # Добавляем задачи с приоритетами и временной меткой (чем меньше приоритет, тем выше он в очереди)\n",
        "    await queue.put((1, time.time(), \"High Priority Task\"))\n",
        "    await asyncio.sleep(1)\n",
        "    await queue.put((3, time.time(), \"Low Priority Task\"))\n",
        "    await asyncio.sleep(1)\n",
        "    await queue.put((2, time.time(), \"Medium Priority Task\"))\n",
        "    await asyncio.sleep(1)\n",
        "    await queue.put((0, time.time(), \"Very High Priority Task\"))\n",
        "\n",
        "async def priority_consumer(queue):\n",
        "    while True:\n",
        "        try:\n",
        "            # Ожидаем задачи с таймаутом на извлечение\n",
        "            priority, timestamp, task = await asyncio.wait_for(queue.get(), timeout=1)\n",
        "            await asyncio.sleep(1.5)\n",
        "\n",
        "            # Проверяем, не истекло ли время ожидания задачи\n",
        "            if time.time() - timestamp > 3:\n",
        "                print(f\"Task '{task}' was discarded due to timeout.\")\n",
        "            else:\n",
        "                print(f\"Processing {task} with priority {priority}\")\n",
        "\n",
        "            queue.task_done()  # Отмечаем задачу как выполненную\n",
        "\n",
        "        except asyncio.TimeoutError:\n",
        "            # Если очередь пуста в течение времени ожидания, завершаем\n",
        "            if queue.empty():\n",
        "                print(\"No tasks left to process.\")\n",
        "                break\n",
        "\n",
        "async def main():\n",
        "    queue = asyncio.PriorityQueue()\n",
        "    await asyncio.gather(priority_producer(queue), priority_consumer(queue))\n",
        "\n",
        "# Запуск корутин main\n",
        "asyncio.run(main())\n"
      ],
      "metadata": {
        "colab": {
          "base_uri": "https://localhost:8080/"
        },
        "id": "1OCp4AMKiWgI",
        "outputId": "8799b325-4304-4380-9c02-90024174c4d6"
      },
      "execution_count": null,
      "outputs": [
        {
          "output_type": "stream",
          "name": "stdout",
          "text": [
            "Processing High Priority Task with priority 1\n",
            "Processing Low Priority Task with priority 3\n",
            "Processing Very High Priority Task with priority 0\n",
            "Task 'Medium Priority Task' was discarded due to timeout.\n",
            "No tasks left to process.\n"
          ]
        }
      ]
    },
    {
      "cell_type": "markdown",
      "source": [
        "Задача 5"
      ],
      "metadata": {
        "id": "VbZXsS26hTYZ"
      }
    },
    {
      "cell_type": "code",
      "source": [
        "import asyncio\n",
        "import random\n",
        "\n",
        "async def data_source_one():\n",
        "    for data in [\"Data1\", None, \"Data3\", \"\"]:\n",
        "        await asyncio.sleep(1)\n",
        "        yield data\n",
        "\n",
        "async def data_source_two():\n",
        "    for data in [\"Valid1\", \"\", \"Valid3\"]:\n",
        "        await asyncio.sleep(1)\n",
        "        yield data\n",
        "\n",
        "async def merge_data_sources(*sources):\n",
        "    for source in sources:\n",
        "        async for data in source():\n",
        "            if data:  # Фильтрация пустых данных\n",
        "                yield data\n",
        "\n",
        "# Пример использования\n",
        "async def main():\n",
        "    async for data in merge_data_sources(data_source_one, data_source_two):\n",
        "        print(f\"Полученные данные: {data}\")\n",
        "\n",
        "asyncio.run(main())\n"
      ],
      "metadata": {
        "colab": {
          "base_uri": "https://localhost:8080/"
        },
        "id": "1c8rn3dLiZOo",
        "outputId": "27debf6a-49f1-4f4c-c9d6-39ef0da5c3ab"
      },
      "execution_count": null,
      "outputs": [
        {
          "output_type": "stream",
          "name": "stdout",
          "text": [
            "Полученные данные: Data1\n",
            "Полученные данные: Data3\n",
            "Полученные данные: Valid1\n",
            "Полученные данные: Valid3\n"
          ]
        }
      ]
    },
    {
      "cell_type": "markdown",
      "source": [
        "Задача 6"
      ],
      "metadata": {
        "id": "FkKeY0xShTKx"
      }
    },
    {
      "cell_type": "code",
      "source": [
        "import asyncio\n",
        "import random\n",
        "\n",
        "async def fast_request():\n",
        "    return \"Fast result\"\n",
        "\n",
        "async def slow_request():\n",
        "    await asyncio.sleep(3)\n",
        "    return \"Slow result\"\n",
        "\n",
        "async def unstable_request():\n",
        "    if random.random() > 0.5:\n",
        "        raise ValueError(\"Unstable request failed\")\n",
        "    return \"Unstable result\"\n",
        "\n",
        "async def retry_unstable_request(attempts=3):\n",
        "    for attempt in range(attempts):\n",
        "        try:\n",
        "            result = await unstable_request()\n",
        "            return result\n",
        "        except ValueError as e:\n",
        "            print(f\"Attempt {attempt + 1} failed: {e}\")\n",
        "            if attempt == attempts - 1:\n",
        "                return \"Unstable request failed after 3 attempts\"\n",
        "\n",
        "async def api_aggregator():\n",
        "    tasks = [\n",
        "        asyncio.create_task(fast_request()),\n",
        "        asyncio.create_task(slow_request()),\n",
        "        asyncio.create_task(retry_unstable_request())\n",
        "    ]\n",
        "\n",
        "    for task in asyncio.as_completed(tasks):\n",
        "        try:\n",
        "            result = await task\n",
        "            print(f\"Result: {result}\")\n",
        "        except Exception as e:\n",
        "            print(f\"Task failed with error: {e}\")\n",
        "\n",
        "# Запуск api_aggregator\n",
        "asyncio.run(api_aggregator())\n"
      ],
      "metadata": {
        "colab": {
          "base_uri": "https://localhost:8080/"
        },
        "id": "u873gEzniZh7",
        "outputId": "1ad48798-ebf6-48b1-ce79-94d50f6d0d75"
      },
      "execution_count": null,
      "outputs": [
        {
          "output_type": "stream",
          "name": "stdout",
          "text": [
            "Attempt 1 failed: Unstable request failed\n",
            "Attempt 2 failed: Unstable request failed\n",
            "Attempt 3 failed: Unstable request failed\n",
            "Result: Fast result\n",
            "Result: Unstable request failed after 3 attempts\n",
            "Result: Slow result\n"
          ]
        }
      ]
    },
    {
      "cell_type": "code",
      "source": [],
      "metadata": {
        "id": "0oOLeLfKifkn"
      },
      "execution_count": null,
      "outputs": []
    }
  ]
}