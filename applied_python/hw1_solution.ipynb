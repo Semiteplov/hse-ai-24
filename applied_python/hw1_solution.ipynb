{
 "cells": [
  {
   "cell_type": "markdown",
   "metadata": {},
   "source": [
    "1. **Корутина для подсчета уникальных слов (0.5б)**  \n",
    "   Напишите корутину `unique_word_counter`, которая принимает строки (предложения), разбивает их на слова и подсчитывает уникальные слова. При отправке `None` корутина завершает выполнение и печатает итоговое количество уникальных слов.  \n",
    "   **Пример:**  \n",
    "   ```python\n",
    "   coro = unique_word_counter()\n",
    "   next(coro)\n",
    "   coro.send(\"hello world\")\n",
    "   coro.send(\"hello again\")\n",
    "   coro.send(None)  # -> должно печатать 3, так как слова \"hello\", \"world\" и \"again\" уникальны. Это должно быть только число, подумайте как возвращать значение и обрабатывать результат вызова coro.send(None)\n",
    "   ```\n"
   ]
  },
  {
   "cell_type": "code",
   "execution_count": 119,
   "metadata": {},
   "outputs": [],
   "source": [
    "def unique_word_counter():\n",
    "    unique_words = set()\n",
    "    while True:\n",
    "        sentence = yield\n",
    "        if sentence is None:\n",
    "            print(len(unique_words))\n",
    "            continue\n",
    "        words = sentence.split()\n",
    "        unique_words.update(words)"
   ]
  },
  {
   "cell_type": "code",
   "execution_count": 120,
   "metadata": {},
   "outputs": [
    {
     "name": "stdout",
     "output_type": "stream",
     "text": [
      "3\n"
     ]
    }
   ],
   "source": [
    "coro = unique_word_counter()\n",
    "next(coro)\n",
    "coro.send(\"hello world\")\n",
    "coro.send(\"hello again\")\n",
    "coro.send(None)"
   ]
  },
  {
   "cell_type": "markdown",
   "metadata": {},
   "source": [
    "2. **Корутина с ограничением по времени выполнения (1б)**  \n",
    "   Реализуйте корутину `timed_collector`, которая принимает целые числа и добавляет их к сумме. Если время выполнения корутины с момента ее запуска превышает заданное значение `time_limit` (в секундах), корутина завершается и возвращает текущую сумму. Считайте, что каждый yield значения из корутины занимает время, случайно распределенное между 1 и 3 секундами (реализуйте функцию для этого).\n",
    "   **Пример использования:**  \n",
    "   ```python\n",
    "   coro = timed_collector(time_limit=5)\n",
    "   next(coro)\n",
    "   coro.send(10)\n",
    "   coro.send(20)\n",
    "   coro.send(30)\n",
    "   coro.send(40)\n",
    "   coro.send(50)\n",
    "   # Через 5 секунд выполнения:\n",
    "   # Завершение, возвращает текущую сумму: 30, 60 или 100. А может, и 150?\n",
    "   # Запустите код несколько раз, убедитесь, что возвращаются разные числа!\n",
    "   # Используйте корректную обработку строк формата coro.send(...)\n",
    "   ```"
   ]
  },
  {
   "cell_type": "code",
   "execution_count": 121,
   "metadata": {},
   "outputs": [],
   "source": [
    "import time\n",
    "import random\n",
    "\n",
    "\n",
    "def timed_collector(time_limit):\n",
    "    sum = 0\n",
    "    start_time = time.time()\n",
    "    while True:\n",
    "        current_time = time.time()\n",
    "        if current_time - start_time >= time_limit:\n",
    "            return sum\n",
    "\n",
    "        number = yield\n",
    "        sum += int(number)\n",
    "        delay = random.uniform(1, 3)\n",
    "        print(f\"Задержка: {delay:.2f} сек\")\n",
    "        time.sleep(delay)"
   ]
  },
  {
   "cell_type": "code",
   "execution_count": 122,
   "metadata": {},
   "outputs": [
    {
     "name": "stdout",
     "output_type": "stream",
     "text": [
      "Задержка: 1.20 сек\n",
      "Задержка: 2.02 сек\n",
      "Задержка: 1.40 сек\n",
      "Задержка: 1.21 сек\n",
      "100\n"
     ]
    }
   ],
   "source": [
    "try:\n",
    "    coro = timed_collector(time_limit=5)\n",
    "    next(coro)\n",
    "    coro.send(10)\n",
    "    coro.send(20)\n",
    "    coro.send(30)\n",
    "    coro.send(40)\n",
    "    coro.send(50)\n",
    "except StopIteration as e:\n",
    "    print(e.value)"
   ]
  },
  {
   "cell_type": "markdown",
   "metadata": {},
   "source": [
    "3. **Корутина для динамической фильтрации данных с прерыванием (1б)**  \n",
    "   Напишите корутину `dynamic_filter`, которая принимает числовые значения и фильтрует их по условию, переданному как лямбда-функция. Если отправить значение `None`, корутина завершает выполнение и возвращает список всех значений, прошедших фильтр. Если передать новое условие (новую лямбда-функцию), оно заменяет предыдущее.  \n",
    "   **Пример использования:**  \n",
    "   ```python\n",
    "   coro = dynamic_filter(lambda x: x % 2 == 0)\n",
    "   next(coro)\n",
    "   coro.send(10)  # Проходит фильтр\n",
    "   coro.send(15)  # Не проходит фильтр\n",
    "   coro.send(lambda x: x > 10)  # Изменение условия фильтрации\n",
    "   coro.send(15)  # Проходит новый фильтр\n",
    "   coro.send(None)  # Завершение, возвращает [10, 15]\n",
    "   ```"
   ]
  },
  {
   "cell_type": "code",
   "execution_count": 123,
   "metadata": {},
   "outputs": [],
   "source": [
    "def dynamic_filter(condition):\n",
    "    current_condition = condition\n",
    "    filtered_values = []\n",
    "\n",
    "    while True:\n",
    "        value = yield\n",
    "\n",
    "        if value is None:\n",
    "            return filtered_values\n",
    "\n",
    "        if callable(value):\n",
    "            current_condition = value\n",
    "        else:\n",
    "            if current_condition(value):\n",
    "                filtered_values.append(value)"
   ]
  },
  {
   "cell_type": "code",
   "execution_count": 124,
   "metadata": {},
   "outputs": [
    {
     "name": "stdout",
     "output_type": "stream",
     "text": [
      "[10, 15]\n"
     ]
    }
   ],
   "source": [
    "try:\n",
    "    coro = dynamic_filter(lambda x: x % 2 == 0)\n",
    "    next(coro)\n",
    "    coro.send(10)  # Проходит фильтр\n",
    "    coro.send(15)  # Не проходит фильтр\n",
    "    coro.send(lambda x: x > 10)  # Изменение условия фильтрации\n",
    "    coro.send(15)  # Проходит новый фильтр\n",
    "    coro.send(None)  # Завершение, возвращает [10, 15]\n",
    "except StopIteration as e:\n",
    "    print(e.value)"
   ]
  },
  {
   "cell_type": "markdown",
   "metadata": {},
   "source": [
    "4. **Циклический генератор с обработкой исключений для отдельных заданий (0.5б)**  \n",
    "   Создайте очередь заданий с помощью `deque`, где каждое задание — генератор, возвращающий числа. Реализуйте корутину `cycle_task_queue`, которая поочередно обрабатывает задания, пока очередь не опустеет. Если задание выбрасывает `StopIteration`, оно должно удаляться из очереди. Если задание выбрасывает `ValueError`, корутина должна просто пропустить это задание и перейти к следующему.  \n",
    "   **Пример использования:**  \n",
    "   ```python\n",
    "   from collections import deque\n",
    "\n",
    "   def task_1():\n",
    "       yield 1\n",
    "       yield 2\n",
    "       raise ValueError(\"Task 1 error\")\n",
    "\n",
    "   def task_2():\n",
    "       yield 3\n",
    "       yield 4\n",
    "       yield 5\n",
    "\n",
    "   tasks = deque([task_1(), task_2()])\n",
    "   coro = cycle_task_queue(tasks)\n",
    "   for item in coro:\n",
    "       print(item)\n",
    "   ```"
   ]
  },
  {
   "cell_type": "code",
   "execution_count": 125,
   "metadata": {},
   "outputs": [],
   "source": [
    "from collections import deque\n",
    "\n",
    "\n",
    "def cycle_task_queue(tasks):\n",
    "    while tasks:\n",
    "        task = tasks.popleft()\n",
    "        try:\n",
    "            result = next(task)\n",
    "            yield result\n",
    "            tasks.append(task)\n",
    "        except StopIteration:\n",
    "            continue\n",
    "        except ValueError as e:\n",
    "            continue"
   ]
  },
  {
   "cell_type": "code",
   "execution_count": 126,
   "metadata": {},
   "outputs": [
    {
     "name": "stdout",
     "output_type": "stream",
     "text": [
      "1\n",
      "3\n",
      "2\n",
      "4\n",
      "5\n"
     ]
    }
   ],
   "source": [
    "def task_1():\n",
    "    yield 1\n",
    "    yield 2\n",
    "    raise ValueError(\"Task 1 error\")\n",
    "\n",
    "\n",
    "def task_2():\n",
    "    yield 3\n",
    "    yield 4\n",
    "    yield 5\n",
    "\n",
    "\n",
    "tasks = deque([task_1(), task_2()])\n",
    "coro = cycle_task_queue(tasks)\n",
    "for item in coro:\n",
    "    print(item)"
   ]
  },
  {
   "cell_type": "markdown",
   "metadata": {},
   "source": [
    "6. **Рекурсивное объединение и фильтрация вложенных данных (3б)**  \n",
    "\n",
    "У вас есть вложенные структуры данных, состоящие из списков и словарей, которые могут содержать строки, а могут — другие списки и словари. Ваша цель — рекурсивно пройти по всей этой структуре и получить только те строки, которые соответствуют заданной функции фильтрации `filter_func`.\n",
    "\n",
    "Реализуйте функцию `recursive_extract` — генератор, который рекурсивно обходит вложенные списки и словари, используя `yield from` для делегирования обработки вложенных структур, и возвращает строки.\n",
    "\n",
    "```python\n",
    "# Функция фильтрации\n",
    "def contains_keyword(s):\n",
    "    return \"keyword\" in s\n",
    "\n",
    "# Генератор для рекурсивного обхода и извлечения всех строк\n",
    "def recursive_extract(data):\n",
    "    # Проверяет тип data:\n",
    "    # - Если data — строка, возвращает её\n",
    "    # - Если data — словарь, рекурсивно обходит все значения словаря\n",
    "    # - Если data — список, рекурсивно обходит все элементы списка\n",
    "    # Использует yield from для делегирования обработки вложенных структур\n",
    "    pass\n",
    "\n",
    "# Функция для фильтрации строк с использованием yield from\n",
    "def filtered_strings(data, filter_func):\n",
    "    for string in recursive_extract(data):\n",
    "        if filter_func(string):\n",
    "            yield string\n",
    "\n",
    "# Вложенная структура данных\n",
    "nested_data = {\n",
    "    \"messages\": [\n",
    "        \"This is a message with keyword.\",\n",
    "        \"Just a simple message.\",\n",
    "        {\"comments\": [\"Another keyword here.\", \"Nothing here.\"]},\n",
    "        [\"List with keyword.\", \"Another list entry.\"]\n",
    "    ],\n",
    "    \"notes\": \"This is a single note without the word.\",\n",
    "    \"logs\": {\n",
    "        \"entries\": [\n",
    "            \"Log entry with keyword.\",\n",
    "            {\"subentry\": \"A nested keyword here.\"}\n",
    "        ]\n",
    "    }\n",
    "}\n",
    "\n",
    "# Итерируемся по отфильтрованным строкам\n",
    "for line in filtered_strings(nested_data, contains_keyword):\n",
    "    print(line)\n",
    "```\n",
    "\n",
    "### Ожидаемый вывод\n",
    "\n",
    "```\n",
    "This is a message with keyword.\n",
    "Another keyword here.\n",
    "List with keyword.\n",
    "Log entry with keyword.\n",
    "A nested keyword here.\n",
    "```"
   ]
  },
  {
   "cell_type": "code",
   "execution_count": 127,
   "metadata": {},
   "outputs": [],
   "source": [
    "def recursive_extract(data):\n",
    "    if isinstance(data, str):\n",
    "        yield data\n",
    "    elif isinstance(data, dict):\n",
    "        for value in data.values():\n",
    "            yield from recursive_extract(value)\n",
    "    elif isinstance(data, list):\n",
    "        for item in data:\n",
    "            yield from recursive_extract(item)"
   ]
  },
  {
   "cell_type": "code",
   "execution_count": 128,
   "metadata": {},
   "outputs": [
    {
     "name": "stdout",
     "output_type": "stream",
     "text": [
      "This is a message with keyword.\n",
      "Another keyword here.\n",
      "List with keyword.\n",
      "Log entry with keyword.\n",
      "A nested keyword here.\n"
     ]
    }
   ],
   "source": [
    "# Функция фильтрации\n",
    "def contains_keyword(s):\n",
    "    return \"keyword\" in s\n",
    "\n",
    "\n",
    "def filtered_strings(data, filter_func):\n",
    "    for string in recursive_extract(data):\n",
    "        if filter_func(string):\n",
    "            yield string\n",
    "\n",
    "\n",
    "# Вложенная структура данных\n",
    "nested_data = {\n",
    "    \"messages\": [\n",
    "        \"This is a message with keyword.\",\n",
    "        \"Just a simple message.\",\n",
    "        {\"comments\": [\"Another keyword here.\", \"Nothing here.\"]},\n",
    "        [\"List with keyword.\", \"Another list entry.\"]\n",
    "    ],\n",
    "    \"notes\": \"This is a single note without the word.\",\n",
    "    \"logs\": {\n",
    "        \"entries\": [\n",
    "            \"Log entry with keyword.\",\n",
    "            {\"subentry\": \"A nested keyword here.\"}\n",
    "        ]\n",
    "    }\n",
    "}\n",
    "\n",
    "# Итерируемся по отфильтрованным строкам\n",
    "for line in filtered_strings(nested_data, contains_keyword):\n",
    "    print(line)"
   ]
  }
 ],
 "metadata": {
  "kernelspec": {
   "display_name": ".venv",
   "language": "python",
   "name": "python3"
  },
  "language_info": {
   "codemirror_mode": {
    "name": "ipython",
    "version": 3
   },
   "file_extension": ".py",
   "mimetype": "text/x-python",
   "name": "python",
   "nbconvert_exporter": "python",
   "pygments_lexer": "ipython3",
   "version": "3.12.0"
  }
 },
 "nbformat": 4,
 "nbformat_minor": 2
}
