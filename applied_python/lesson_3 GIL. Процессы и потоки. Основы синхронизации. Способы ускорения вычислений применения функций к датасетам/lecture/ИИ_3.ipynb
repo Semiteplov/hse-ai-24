{
  "nbformat": 4,
  "nbformat_minor": 0,
  "metadata": {
    "colab": {
      "provenance": []
    },
    "kernelspec": {
      "name": "python3",
      "display_name": "Python 3"
    },
    "language_info": {
      "name": "python"
    }
  },
  "cells": [
    {
      "cell_type": "code",
      "source": [
        "import threading\n",
        "import time\n",
        "\n",
        "def cpu_task():\n",
        "    total = 0\n",
        "    for i in range(10**7):\n",
        "        total += i\n",
        "\n",
        "threads = [threading.Thread(target=cpu_task) for _ in range(4)]\n"
      ],
      "metadata": {
        "id": "FYE6Bg6_TtYT"
      },
      "execution_count": null,
      "outputs": []
    },
    {
      "cell_type": "code",
      "source": [
        "start = time.time()\n",
        "for t in threads:\n",
        "    t.start()\n",
        "for t in threads:\n",
        "    t.join()\n",
        "end = time.time()\n",
        "\n",
        "print(f\"Время выполнения с потоками: {end - start:.2f} секунд\")"
      ],
      "metadata": {
        "colab": {
          "base_uri": "https://localhost:8080/"
        },
        "id": "GyIa5qgOVRD2",
        "outputId": "4e45eef4-dc89-4503-8ea9-ed0f80865850"
      },
      "execution_count": null,
      "outputs": [
        {
          "output_type": "stream",
          "name": "stdout",
          "text": [
            "Время выполнения с потоками: 3.83 секунд\n"
          ]
        }
      ]
    },
    {
      "cell_type": "code",
      "source": [
        "start = time.time()\n",
        "[cpu_task() for _ in range(4)]\n",
        "end = time.time()\n",
        "\n",
        "print(f\"Время выполнения без потоков: {end - start:.2f} секунд\")"
      ],
      "metadata": {
        "colab": {
          "base_uri": "https://localhost:8080/"
        },
        "id": "AoBy0kRLVSDw",
        "outputId": "45ffffb3-8801-4971-9db8-263fd19fe1d2"
      },
      "execution_count": null,
      "outputs": [
        {
          "output_type": "stream",
          "name": "stdout",
          "text": [
            "Время выполнения без потоков: 2.69 секунд\n"
          ]
        }
      ]
    },
    {
      "cell_type": "code",
      "source": [
        "from multiprocessing import Process\n",
        "\n",
        "def print_task(n):\n",
        "    print(f\"Процесс {n} начал выполнение\")\n",
        "    time.sleep(1)\n",
        "    print(f\"Процесс {n} завершился\")\n",
        "\n",
        "processes = [Process(target=print_task, args=(i,)) for i in range(3)]\n",
        "for p in processes:\n",
        "    p.start()\n",
        "for p in processes:\n",
        "    p.join()"
      ],
      "metadata": {
        "colab": {
          "base_uri": "https://localhost:8080/"
        },
        "id": "-oueGZg-VeVC",
        "outputId": "222a013f-aac7-41c5-d737-9cae9f9d89af"
      },
      "execution_count": null,
      "outputs": [
        {
          "output_type": "stream",
          "name": "stdout",
          "text": [
            "Процесс 0 начал выполнение\n",
            "Процесс 1 начал выполнениеПроцесс 2 начал выполнение\n",
            "\n",
            "Процесс 0 завершился\n",
            "Процесс 1 завершился\n",
            "Процесс 2 завершился\n"
          ]
        }
      ]
    },
    {
      "cell_type": "code",
      "source": [
        "import multiprocessing\n",
        "\n",
        "def increment(counter, lock):\n",
        "    for _ in range(10**6):\n",
        "        with lock:\n",
        "        # lock.acquire()\n",
        "            counter.value += 1\n",
        "        # lock.release()\n",
        "\n",
        "if __name__ == \"__main__\":\n",
        "    counter = multiprocessing.Value('i', 0)\n",
        "    lock = multiprocessing.Lock()\n",
        "\n",
        "    processes = [multiprocessing.Process(target=increment, args=(counter, lock)) for _ in range(2)]\n",
        "\n",
        "    for p in processes:\n",
        "        p.start()\n",
        "    for p in processes:\n",
        "        p.join()\n",
        "\n",
        "    print(f\"Result: {counter.value}\")\n"
      ],
      "metadata": {
        "colab": {
          "base_uri": "https://localhost:8080/"
        },
        "id": "FzFItV_jXXoR",
        "outputId": "df1ce617-f193-46f3-fe6b-e899a5e1b642"
      },
      "execution_count": null,
      "outputs": [
        {
          "output_type": "stream",
          "name": "stdout",
          "text": [
            "Result: 2000000\n"
          ]
        }
      ]
    },
    {
      "cell_type": "code",
      "source": [
        "import threading\n",
        "\n",
        "counter = 0\n",
        "\n",
        "def increment():\n",
        "    global counter\n",
        "    for _ in range(10**6):\n",
        "        temp = counter\n",
        "        temp += 1\n",
        "        counter = temp\n",
        "\n",
        "threads = [threading.Thread(target=increment) for _ in range(2)]\n",
        "for t in threads:\n",
        "    t.start()\n",
        "for t in threads:\n",
        "    t.join()\n",
        "\n",
        "print(f\"Result: {counter}\")\n"
      ],
      "metadata": {
        "colab": {
          "base_uri": "https://localhost:8080/"
        },
        "id": "wiRVowLxYmz-",
        "outputId": "cc97b4d6-f9be-4dc0-a1d1-ab07c4f20740"
      },
      "execution_count": null,
      "outputs": [
        {
          "output_type": "stream",
          "name": "stdout",
          "text": [
            "Result: 2000000\n"
          ]
        }
      ]
    },
    {
      "cell_type": "code",
      "source": [
        "import threading\n",
        "\n",
        "event = threading.Event()\n",
        "\n",
        "def waiter():\n",
        "    print(\"Жду события...\")\n",
        "    event.wait()  # Блокируем поток, пока событие не установлено\n",
        "    print(\"Событие произошло!\")\n",
        "\n",
        "def setter():\n",
        "    print(\"Готовлюсь установить событие...\")\n",
        "    event.set()  # Устанавливаем событие, разблокируя ожидающий поток\n",
        "\n",
        "thread1 = threading.Thread(target=waiter)\n",
        "thread2 = threading.Thread(target=setter)\n",
        "\n",
        "thread1.start()\n",
        "thread2.start()\n",
        "\n",
        "thread1.join()\n",
        "thread2.join()"
      ],
      "metadata": {
        "colab": {
          "base_uri": "https://localhost:8080/"
        },
        "id": "-mBXQFhRZxb6",
        "outputId": "c0a0aab4-cf00-474b-b699-f9b8ff44232b"
      },
      "execution_count": null,
      "outputs": [
        {
          "output_type": "stream",
          "name": "stdout",
          "text": [
            "Жду события...\n",
            "Готовлюсь установить событие...\n",
            "Событие произошло!\n"
          ]
        }
      ]
    },
    {
      "cell_type": "code",
      "source": [
        "import threading\n",
        "from queue import Queue\n",
        "\n",
        "queue = Queue()\n",
        "\n",
        "def producer():\n",
        "    for i in range(5):\n",
        "        queue.put(i)\n",
        "        print(f\"Производитель добавил: {i}\")\n",
        "\n",
        "def consumer():\n",
        "    while not queue.empty():\n",
        "        item = queue.get()\n",
        "        print(f\"Потребитель взял: {item}\")\n",
        "        queue.task_done()\n",
        "\n",
        "producer_thread = threading.Thread(target=producer)\n",
        "consumer_thread = threading.Thread(target=consumer)\n",
        "\n",
        "producer_thread.start()\n",
        "producer_thread.join()\n",
        "\n",
        "consumer_thread.start()\n",
        "consumer_thread.join()"
      ],
      "metadata": {
        "colab": {
          "base_uri": "https://localhost:8080/"
        },
        "id": "M6HhmFYJbU7Z",
        "outputId": "e681c2fd-c1bc-49f8-8dcb-7616753f3b0b"
      },
      "execution_count": null,
      "outputs": [
        {
          "output_type": "stream",
          "name": "stdout",
          "text": [
            "Производитель добавил: 0\n",
            "Производитель добавил: 1\n",
            "Производитель добавил: 2\n",
            "Производитель добавил: 3\n",
            "Производитель добавил: 4\n",
            "Потребитель взял: 0\n",
            "Потребитель взял: 1\n",
            "Потребитель взял: 2\n",
            "Потребитель взял: 3\n",
            "Потребитель взял: 4\n"
          ]
        }
      ]
    },
    {
      "cell_type": "code",
      "source": [
        "import multiprocessing\n",
        "import time\n",
        "\n",
        "semaphore = multiprocessing.Semaphore(2)\n",
        "\n",
        "def task(n):\n",
        "    with semaphore:  # Гарантируем, что только 2 процесса выполняют эту секцию\n",
        "        print(f\"Процесс {n} начал выполнение\")\n",
        "        time.sleep(1)\n",
        "        print(f\"Процесс {n} завершил выполнение\")\n",
        "\n",
        "if __name__ == \"__main__\":\n",
        "    processes = [multiprocessing.Process(target=task, args=(i,)) for i in range(5)]\n",
        "\n",
        "    for p in processes:\n",
        "        p.start()\n",
        "    for p in processes:\n",
        "        p.join()\n"
      ],
      "metadata": {
        "colab": {
          "base_uri": "https://localhost:8080/"
        },
        "id": "fg2pGr6vbkno",
        "outputId": "b4ac4c90-59e4-4d03-c20d-6a7aee5ebf56"
      },
      "execution_count": null,
      "outputs": [
        {
          "output_type": "stream",
          "name": "stdout",
          "text": [
            "Процесс 0 начал выполнение\n",
            "Процесс 1 начал выполнение\n",
            "Процесс 0 завершил выполнение\n",
            "Процесс 2 начал выполнение\n",
            "Процесс 1 завершил выполнение\n",
            "Процесс 3 начал выполнение\n",
            "Процесс 2 завершил выполнение\n",
            "Процесс 4 начал выполнение\n",
            "Процесс 3 завершил выполнение\n",
            "Процесс 4 завершил выполнение\n"
          ]
        }
      ]
    },
    {
      "cell_type": "code",
      "source": [
        "import threading\n",
        "\n",
        "barrier = threading.Barrier(3)\n",
        "\n",
        "def worker(n):\n",
        "    print(f\"Поток {n} достиг барьера\")\n",
        "    barrier.wait()  # Ожидание других потоков\n",
        "    print(f\"Поток {n} продолжил выполнение\")\n",
        "\n",
        "threads = [threading.Thread(target=worker, args=(i,)) for i in range(3)]\n",
        "\n",
        "for t in threads:\n",
        "    t.start()\n",
        "for t in threads:\n",
        "    t.join()"
      ],
      "metadata": {
        "id": "i2uUTKMAcdeL"
      },
      "execution_count": null,
      "outputs": []
    },
    {
      "cell_type": "code",
      "source": [
        "import threading\n",
        "import requests\n",
        "\n",
        "def fetch_data(url):\n",
        "    response = requests.get(url)\n",
        "    print(f\"Получены данные с {url}: {len(response.text)} символов\")\n",
        "\n",
        "urls = ['https://example.com', 'https://httpbin.org/get', 'https://api.github.com']\n",
        "threads = [threading.Thread(target=fetch_data, args=(url,)) for url in urls]\n",
        "\n",
        "for thread in threads:\n",
        "    thread.start()\n",
        "for thread in threads:\n",
        "    thread.join()"
      ],
      "metadata": {
        "colab": {
          "base_uri": "https://localhost:8080/"
        },
        "id": "xvtPjunmdUdv",
        "outputId": "ebfa91e8-c94b-4eb5-b0d3-9b6b8ee4441b"
      },
      "execution_count": null,
      "outputs": [
        {
          "output_type": "stream",
          "name": "stdout",
          "text": [
            "Получены данные с https://example.com: 1256 символов\n",
            "Получены данные с https://api.github.com: 2262 символов\n",
            "Получены данные с https://httpbin.org/get: 308 символов\n"
          ]
        }
      ]
    },
    {
      "cell_type": "code",
      "source": [
        "import nest_asyncio\n",
        "nest_asyncio.apply()"
      ],
      "metadata": {
        "id": "0EuD6EOhd6ff"
      },
      "execution_count": null,
      "outputs": []
    },
    {
      "cell_type": "code",
      "source": [
        "import aiohttp\n",
        "import asyncio\n",
        "\n",
        "async def fetch_data(url):\n",
        "    async with aiohttp.ClientSession() as session:\n",
        "        async with session.get(url) as response:\n",
        "            content = await response.text()\n",
        "            print(f\"Получены данные с {url}: {len(content)} символов\")\n",
        "\n",
        "async def main():\n",
        "    urls = ['https://example.com', 'https://httpbin.org/get', 'https://api.github.com']\n",
        "    tasks = [fetch_data(url) for url in urls]\n",
        "    await asyncio.gather(*tasks)\n",
        "\n",
        "asyncio.run(main())"
      ],
      "metadata": {
        "colab": {
          "base_uri": "https://localhost:8080/"
        },
        "id": "yBJDKa0OdURO",
        "outputId": "39ec868b-dc65-4b9a-ccb4-b77fe12f78a5"
      },
      "execution_count": null,
      "outputs": [
        {
          "output_type": "stream",
          "name": "stdout",
          "text": [
            "Получены данные с https://example.com: 1256 символов\n",
            "Получены данные с https://api.github.com: 2262 символов\n",
            "Получены данные с https://httpbin.org/get: 312 символов\n"
          ]
        }
      ]
    },
    {
      "cell_type": "code",
      "source": [
        "%%time\n",
        "from concurrent.futures import ProcessPoolExecutor\n",
        "import math\n",
        "\n",
        "def calculate_factorial(n):\n",
        "    print(f\"Вычисляю факториал для {n}\")\n",
        "    return math.factorial(n)\n",
        "\n",
        "numbers = [100000, 200000, 300000]\n",
        "\n",
        "with ProcessPoolExecutor(max_workers=2) as executor:\n",
        "    results = list(executor.map(calculate_factorial, numbers))\n",
        "\n",
        "# print(f\"Результаты: {[len(str(res)) for res in results]} цифр\")"
      ],
      "metadata": {
        "colab": {
          "base_uri": "https://localhost:8080/"
        },
        "id": "Ijpj1ST3d5H4",
        "outputId": "2edb6277-fdb8-4361-f358-5fab372d7a44"
      },
      "execution_count": null,
      "outputs": [
        {
          "output_type": "stream",
          "name": "stdout",
          "text": [
            "Вычисляю факториал для 100000\n",
            "Вычисляю факториал для 200000\n",
            "Вычисляю факториал для 300000\n",
            "CPU times: user 42.3 ms, sys: 29.5 ms, total: 71.7 ms\n",
            "Wall time: 2.92 s\n"
          ]
        }
      ]
    },
    {
      "cell_type": "code",
      "source": [
        "%%time\n",
        "from concurrent.futures import ProcessPoolExecutor\n",
        "import math\n",
        "\n",
        "def calculate_factorial(n):\n",
        "    print(f\"Вычисляю факториал для {n}\")\n",
        "    return math.factorial(n)\n",
        "\n",
        "numbers = [100000, 200000, 300000]\n",
        "\n",
        "with ProcessPoolExecutor(max_workers=3) as executor:\n",
        "    results = list(executor.map(calculate_factorial, numbers))\n",
        "\n",
        "# print(f\"Результаты: {[len(str(res)) for res in results]} цифр\")"
      ],
      "metadata": {
        "colab": {
          "base_uri": "https://localhost:8080/"
        },
        "id": "OZvjxUiMfBBj",
        "outputId": "0fc32276-a545-4fb5-d338-38986927a9a2"
      },
      "execution_count": null,
      "outputs": [
        {
          "output_type": "stream",
          "name": "stdout",
          "text": [
            "Вычисляю факториал для 100000Вычисляю факториал для 200000\n",
            "Вычисляю факториал для 300000\n",
            "\n",
            "CPU times: user 29.7 ms, sys: 38.5 ms, total: 68.2 ms\n",
            "Wall time: 1.85 s\n"
          ]
        }
      ]
    },
    {
      "cell_type": "code",
      "source": [
        "from multiprocessing import Pool\n",
        "\n",
        "def square(x):\n",
        "    return x * x\n",
        "\n",
        "numbers = [1, 2, 3, 4, 5]\n",
        "\n",
        "with Pool(4) as pool:\n",
        "    results = pool.map(square, numbers)\n",
        "\n",
        "print(f\"Квадраты чисел: {results}\")"
      ],
      "metadata": {
        "colab": {
          "base_uri": "https://localhost:8080/"
        },
        "id": "FmbuMMDjffAl",
        "outputId": "3eb6d978-368e-4699-987f-b31e8cee38f0"
      },
      "execution_count": null,
      "outputs": [
        {
          "output_type": "stream",
          "name": "stdout",
          "text": [
            "Квадраты чисел: [1, 4, 9, 16, 25]\n"
          ]
        }
      ]
    },
    {
      "cell_type": "code",
      "source": [
        "from multiprocessing import Process, Pipe\n",
        "\n",
        "def sender(pipe):\n",
        "    pipe.send(\"Сообщение из отправителя\")\n",
        "\n",
        "def receiver(pipe):\n",
        "    message = pipe.recv()\n",
        "    print(f\"Получено сообщение: {message}\")\n",
        "\n",
        "parent_conn, child_conn = Pipe()\n",
        "\n",
        "p1 = Process(target=sender, args=(child_conn,))\n",
        "p2 = Process(target=receiver, args=(parent_conn,))\n",
        "\n",
        "p1.start()\n",
        "p1.join()\n",
        "p2.start()\n",
        "p2.join()"
      ],
      "metadata": {
        "colab": {
          "base_uri": "https://localhost:8080/"
        },
        "id": "BjuxYRbXfqa-",
        "outputId": "3bf135ff-c1cf-4866-d915-77dcadabce26"
      },
      "execution_count": null,
      "outputs": [
        {
          "output_type": "stream",
          "name": "stdout",
          "text": [
            "Получено сообщение: Сообщение из отправителя\n"
          ]
        }
      ]
    },
    {
      "cell_type": "code",
      "source": [
        "from multiprocessing.dummy import Pool\n",
        "\n",
        "def fetch_url(url):\n",
        "    import requests\n",
        "    response = requests.get(url)\n",
        "    return len(response.text)\n",
        "\n",
        "urls = ['https://example.com', 'https://httpbin.org/get', 'https://api.github.com']\n",
        "\n",
        "with Pool(4) as pool:\n",
        "    results = pool.map(fetch_url, urls)\n",
        "\n",
        "print(f\"Размеры ответов: {results}\")"
      ],
      "metadata": {
        "colab": {
          "base_uri": "https://localhost:8080/"
        },
        "id": "br-DJfRKfzMB",
        "outputId": "76da908b-a8a5-4a78-c8d4-f25cc6367b1d"
      },
      "execution_count": null,
      "outputs": [
        {
          "output_type": "stream",
          "name": "stdout",
          "text": [
            "Размеры ответов: [1256, 308, 2262]\n"
          ]
        }
      ]
    },
    {
      "cell_type": "code",
      "source": [
        "import requests\n",
        "from concurrent.futures import ThreadPoolExecutor, ProcessPoolExecutor\n",
        "\n",
        "# Функция для загрузки данных\n",
        "def fetch_data(url):\n",
        "    response = requests.get(url)\n",
        "    return response.text\n",
        "\n",
        "# Функция для обработки данных\n",
        "def process_data(data):\n",
        "    return len(data)\n",
        "\n",
        "urls = ['https://example.com', 'https://httpbin.org/get', 'https://api.github.com']\n",
        "\n",
        "# Загрузка данных с помощью потоков\n",
        "with ThreadPoolExecutor(max_workers=3) as thread_executor:\n",
        "    raw_data = list(thread_executor.map(fetch_data, urls))\n",
        "\n",
        "# Обработка данных с помощью процессов\n",
        "with ProcessPoolExecutor(max_workers=3) as process_executor:\n",
        "    results = list(process_executor.map(process_data, raw_data))\n",
        "\n",
        "print(f\"Результаты обработки: {results}\")"
      ],
      "metadata": {
        "colab": {
          "base_uri": "https://localhost:8080/"
        },
        "id": "7CP76FEGf_vP",
        "outputId": "80621a3b-6be0-40f6-c9ec-a3644802f1a0"
      },
      "execution_count": null,
      "outputs": [
        {
          "output_type": "stream",
          "name": "stdout",
          "text": [
            "Результаты обработки: [1256, 308, 2262]\n"
          ]
        }
      ]
    },
    {
      "cell_type": "code",
      "source": [],
      "metadata": {
        "id": "xMp-VauygWlc"
      },
      "execution_count": null,
      "outputs": []
    },
    {
      "cell_type": "code",
      "source": [
        "import pandas as pd\n",
        "import numpy as np\n",
        "\n",
        "# Генерация большого DataFrame\n",
        "N_ROWS = 10**6\n",
        "df = pd.DataFrame({\n",
        "    'col1': np.random.randint(0, 100, N_ROWS),\n",
        "    'col2': np.random.rand(N_ROWS),\n",
        "    'col3': np.random.randint(0, 50, N_ROWS)\n",
        "})"
      ],
      "metadata": {
        "id": "pU4qUkyegudE"
      },
      "execution_count": null,
      "outputs": []
    },
    {
      "cell_type": "code",
      "source": [
        "from multiprocessing import Pool\n",
        "\n",
        "# Функция для обработки одной части DataFrame\n",
        "def process_chunk(chunk):\n",
        "    chunk['result'] = chunk['col1'] * chunk['col2'] + chunk['col3']\n",
        "    return chunk\n",
        "\n",
        "# Разделение DataFrame на части\n",
        "def parallel_apply(df, func, n_cores=4):\n",
        "    chunk_size = len(df) // n_cores\n",
        "    chunks = [df[i * chunk_size:(i + 1) * chunk_size] for i in range(n_cores)]\n",
        "\n",
        "    with Pool(n_cores) as pool:\n",
        "        results = pool.map(func, chunks)\n",
        "\n",
        "    return pd.concat(results)\n",
        "\n",
        "# Применение функции параллельно\n",
        "result_df = parallel_apply(df, process_chunk, n_cores=4)"
      ],
      "metadata": {
        "id": "-nvfAwkBguhf"
      },
      "execution_count": null,
      "outputs": []
    },
    {
      "cell_type": "code",
      "source": [
        "! pip install \"modin[dask]\""
      ],
      "metadata": {
        "colab": {
          "base_uri": "https://localhost:8080/"
        },
        "id": "bFBE64aGhLdH",
        "outputId": "969bd316-03c3-4c44-bb5f-8c70ecd657f7"
      },
      "execution_count": null,
      "outputs": [
        {
          "output_type": "stream",
          "name": "stdout",
          "text": [
            "Collecting modin[dask]\n",
            "  Downloading modin-0.32.0-py3-none-any.whl.metadata (17 kB)\n",
            "Requirement already satisfied: pandas<2.3,>=2.2 in /usr/local/lib/python3.10/dist-packages (from modin[dask]) (2.2.2)\n",
            "Requirement already satisfied: packaging>=21.0 in /usr/local/lib/python3.10/dist-packages (from modin[dask]) (24.2)\n",
            "Requirement already satisfied: numpy>=1.22.4 in /usr/local/lib/python3.10/dist-packages (from modin[dask]) (1.26.4)\n",
            "Requirement already satisfied: fsspec>=2022.11.0 in /usr/local/lib/python3.10/dist-packages (from modin[dask]) (2024.10.0)\n",
            "Requirement already satisfied: psutil>=5.8.0 in /usr/local/lib/python3.10/dist-packages (from modin[dask]) (5.9.5)\n",
            "Requirement already satisfied: dask>=2.22.0 in /usr/local/lib/python3.10/dist-packages (from modin[dask]) (2024.10.0)\n",
            "Collecting distributed>=2.22.0 (from modin[dask])\n",
            "  Downloading distributed-2024.11.2-py3-none-any.whl.metadata (3.3 kB)\n",
            "Requirement already satisfied: click>=8.1 in /usr/local/lib/python3.10/dist-packages (from dask>=2.22.0->modin[dask]) (8.1.7)\n",
            "Requirement already satisfied: cloudpickle>=3.0.0 in /usr/local/lib/python3.10/dist-packages (from dask>=2.22.0->modin[dask]) (3.1.0)\n",
            "Requirement already satisfied: partd>=1.4.0 in /usr/local/lib/python3.10/dist-packages (from dask>=2.22.0->modin[dask]) (1.4.2)\n",
            "Requirement already satisfied: pyyaml>=5.3.1 in /usr/local/lib/python3.10/dist-packages (from dask>=2.22.0->modin[dask]) (6.0.2)\n",
            "Requirement already satisfied: toolz>=0.10.0 in /usr/local/lib/python3.10/dist-packages (from dask>=2.22.0->modin[dask]) (0.12.1)\n",
            "Requirement already satisfied: importlib-metadata>=4.13.0 in /usr/local/lib/python3.10/dist-packages (from dask>=2.22.0->modin[dask]) (8.5.0)\n",
            "Collecting dask>=2.22.0 (from modin[dask])\n",
            "  Downloading dask-2024.11.2-py3-none-any.whl.metadata (3.7 kB)\n",
            "Requirement already satisfied: jinja2>=2.10.3 in /usr/local/lib/python3.10/dist-packages (from distributed>=2.22.0->modin[dask]) (3.1.4)\n",
            "Requirement already satisfied: locket>=1.0.0 in /usr/local/lib/python3.10/dist-packages (from distributed>=2.22.0->modin[dask]) (1.0.0)\n",
            "Requirement already satisfied: msgpack>=1.0.2 in /usr/local/lib/python3.10/dist-packages (from distributed>=2.22.0->modin[dask]) (1.1.0)\n",
            "Collecting sortedcontainers>=2.0.5 (from distributed>=2.22.0->modin[dask])\n",
            "  Downloading sortedcontainers-2.4.0-py2.py3-none-any.whl.metadata (10 kB)\n",
            "Collecting tblib>=1.6.0 (from distributed>=2.22.0->modin[dask])\n",
            "  Downloading tblib-3.0.0-py3-none-any.whl.metadata (25 kB)\n",
            "Requirement already satisfied: tornado>=6.2.0 in /usr/local/lib/python3.10/dist-packages (from distributed>=2.22.0->modin[dask]) (6.3.3)\n",
            "Requirement already satisfied: urllib3>=1.26.5 in /usr/local/lib/python3.10/dist-packages (from distributed>=2.22.0->modin[dask]) (2.2.3)\n",
            "Collecting zict>=3.0.0 (from distributed>=2.22.0->modin[dask])\n",
            "  Downloading zict-3.0.0-py2.py3-none-any.whl.metadata (899 bytes)\n",
            "Requirement already satisfied: python-dateutil>=2.8.2 in /usr/local/lib/python3.10/dist-packages (from pandas<2.3,>=2.2->modin[dask]) (2.8.2)\n",
            "Requirement already satisfied: pytz>=2020.1 in /usr/local/lib/python3.10/dist-packages (from pandas<2.3,>=2.2->modin[dask]) (2024.2)\n",
            "Requirement already satisfied: tzdata>=2022.7 in /usr/local/lib/python3.10/dist-packages (from pandas<2.3,>=2.2->modin[dask]) (2024.2)\n",
            "Requirement already satisfied: zipp>=3.20 in /usr/local/lib/python3.10/dist-packages (from importlib-metadata>=4.13.0->dask>=2.22.0->modin[dask]) (3.21.0)\n",
            "Requirement already satisfied: MarkupSafe>=2.0 in /usr/local/lib/python3.10/dist-packages (from jinja2>=2.10.3->distributed>=2.22.0->modin[dask]) (3.0.2)\n",
            "Requirement already satisfied: six>=1.5 in /usr/local/lib/python3.10/dist-packages (from python-dateutil>=2.8.2->pandas<2.3,>=2.2->modin[dask]) (1.16.0)\n",
            "Downloading distributed-2024.11.2-py3-none-any.whl (1.0 MB)\n",
            "\u001b[2K   \u001b[90m━━━━━━━━━━━━━━━━━━━━━━━━━━━━━━━━━━━━━━━━\u001b[0m \u001b[32m1.0/1.0 MB\u001b[0m \u001b[31m13.5 MB/s\u001b[0m eta \u001b[36m0:00:00\u001b[0m\n",
            "\u001b[?25hDownloading dask-2024.11.2-py3-none-any.whl (1.3 MB)\n",
            "\u001b[2K   \u001b[90m━━━━━━━━━━━━━━━━━━━━━━━━━━━━━━━━━━━━━━━━\u001b[0m \u001b[32m1.3/1.3 MB\u001b[0m \u001b[31m48.7 MB/s\u001b[0m eta \u001b[36m0:00:00\u001b[0m\n",
            "\u001b[?25hDownloading modin-0.32.0-py3-none-any.whl (1.1 MB)\n",
            "\u001b[2K   \u001b[90m━━━━━━━━━━━━━━━━━━━━━━━━━━━━━━━━━━━━━━━━\u001b[0m \u001b[32m1.1/1.1 MB\u001b[0m \u001b[31m50.8 MB/s\u001b[0m eta \u001b[36m0:00:00\u001b[0m\n",
            "\u001b[?25hDownloading sortedcontainers-2.4.0-py2.py3-none-any.whl (29 kB)\n",
            "Downloading tblib-3.0.0-py3-none-any.whl (12 kB)\n",
            "Downloading zict-3.0.0-py2.py3-none-any.whl (43 kB)\n",
            "\u001b[2K   \u001b[90m━━━━━━━━━━━━━━━━━━━━━━━━━━━━━━━━━━━━━━━━\u001b[0m \u001b[32m43.3/43.3 kB\u001b[0m \u001b[31m3.8 MB/s\u001b[0m eta \u001b[36m0:00:00\u001b[0m\n",
            "\u001b[?25hInstalling collected packages: sortedcontainers, zict, tblib, dask, modin, distributed\n",
            "  Attempting uninstall: dask\n",
            "    Found existing installation: dask 2024.10.0\n",
            "    Uninstalling dask-2024.10.0:\n",
            "      Successfully uninstalled dask-2024.10.0\n",
            "Successfully installed dask-2024.11.2 distributed-2024.11.2 modin-0.32.0 sortedcontainers-2.4.0 tblib-3.0.0 zict-3.0.0\n"
          ]
        }
      ]
    },
    {
      "cell_type": "code",
      "source": [
        "import modin.pandas as mpd\n",
        "\n",
        "# Преобразование pandas DataFrame в modin DataFrame\n",
        "modin_df = mpd.DataFrame(df)\n",
        "\n",
        "# Выполнение вычислений\n",
        "modin_df['result'] = modin_df['col1'] * modin_df['col2'] + modin_df['col3']"
      ],
      "metadata": {
        "colab": {
          "base_uri": "https://localhost:8080/"
        },
        "id": "q_ZqQyuphfrL",
        "outputId": "94e10fa3-0c7c-46d0-92ef-53d71aada90f"
      },
      "execution_count": null,
      "outputs": [
        {
          "output_type": "stream",
          "name": "stderr",
          "text": [
            "RuntimeWarning: coroutine 'main' was never awaited\n",
            "INFO:distributed.http.proxy:To route to workers diagnostics web server please install jupyter-server-proxy: python -m pip install jupyter-server-proxy\n",
            "INFO:distributed.scheduler:State start\n",
            "INFO:distributed.scheduler:  Scheduler at:     tcp://127.0.0.1:42893\n",
            "INFO:distributed.scheduler:  dashboard at:  http://127.0.0.1:8787/status\n",
            "INFO:distributed.scheduler:Registering Worker plugin shuffle\n",
            "INFO:distributed.nanny:        Start Nanny at: 'tcp://127.0.0.1:44473'\n",
            "INFO:distributed.nanny:        Start Nanny at: 'tcp://127.0.0.1:38903'\n",
            "INFO:distributed.scheduler:Register worker <WorkerState 'tcp://127.0.0.1:43345', name: 0, status: init, memory: 0, processing: 0>\n",
            "INFO:distributed.scheduler:Starting worker compute stream, tcp://127.0.0.1:43345\n",
            "INFO:distributed.core:Starting established connection to tcp://127.0.0.1:50270\n",
            "INFO:distributed.scheduler:Register worker <WorkerState 'tcp://127.0.0.1:40697', name: 1, status: init, memory: 0, processing: 0>\n",
            "INFO:distributed.scheduler:Starting worker compute stream, tcp://127.0.0.1:40697\n",
            "INFO:distributed.core:Starting established connection to tcp://127.0.0.1:50256\n",
            "INFO:distributed.scheduler:Receive client connection: Client-84852415-a824-11ef-80c7-0242ac1c000c\n",
            "INFO:distributed.core:Starting established connection to tcp://127.0.0.1:50284\n",
            "UserWarning: Distributing <class 'pandas.core.frame.DataFrame'> object. This may take some time.\n"
          ]
        }
      ]
    },
    {
      "cell_type": "code",
      "source": [
        "import polars as pl\n",
        "\n",
        "# Преобразование pandas DataFrame в polars DataFrame\n",
        "polars_df = pl.from_pandas(df)\n",
        "\n",
        "# Выполнение вычислений\n",
        "polars_df = polars_df.with_columns((pl.col(\"col1\") * pl.col(\"col2\") + pl.col(\"col3\")).alias(\"result\"))"
      ],
      "metadata": {
        "id": "2Cn50KnChlMi"
      },
      "execution_count": null,
      "outputs": []
    },
    {
      "cell_type": "code",
      "source": [
        "import time\n",
        "\n",
        "# Функция для измерения времени выполнения\n",
        "def benchmark(func, *args, **kwargs):\n",
        "    start_time = time.time()\n",
        "    result = func(*args, **kwargs)\n",
        "    end_time = time.time()\n",
        "    print(f\"{func.__name__} выполнено за {end_time - start_time:.2f} секунд\")\n",
        "    return result\n",
        "\n",
        "# Тестовые функции\n",
        "def test_pandas_multiprocessing():\n",
        "    return parallel_apply(df, process_chunk, n_cores=4)\n",
        "\n",
        "# def test_modin():\n",
        "#     modin_df = mpd.DataFrame(df)\n",
        "#     modin_df['result'] = modin_df['col1'] * modin_df['col2'] + modin_df['col3']\n",
        "#     return modin_df\n",
        "\n",
        "def test_polars():\n",
        "    polars_df = pl.from_pandas(df)\n",
        "    return polars_df.with_columns((pl.col(\"col1\") * pl.col(\"col2\") + pl.col(\"col3\")).alias(\"result\"))\n",
        "\n",
        "# Запуск бенчмарка\n",
        "benchmark(test_pandas_multiprocessing)\n",
        "# benchmark(test_modin)\n",
        "benchmark(test_polars)\n",
        "pass"
      ],
      "metadata": {
        "colab": {
          "base_uri": "https://localhost:8080/"
        },
        "id": "VfLASFiuhwsg",
        "outputId": "c8c094b3-1a04-4679-d154-76b26e6936de"
      },
      "execution_count": null,
      "outputs": [
        {
          "output_type": "stream",
          "name": "stdout",
          "text": [
            "test_pandas_multiprocessing выполнено за 0.74 секунд\n",
            "test_polars выполнено за 0.09 секунд\n"
          ]
        }
      ]
    },
    {
      "cell_type": "code",
      "source": [
        "def process_pandas(chunk):\n",
        "    chunk['result'] = chunk['col1'] * chunk['col2'] + chunk['col3']\n",
        "    return chunk\n",
        "\n",
        "def test_pandas():\n",
        "    return process_pandas(df)\n",
        "\n",
        "\n",
        "benchmark(test_pandas)"
      ],
      "metadata": {
        "colab": {
          "base_uri": "https://localhost:8080/",
          "height": 442
        },
        "id": "VCiReP2Uh8ME",
        "outputId": "ef917ea5-7b21-4066-f76e-f3215acf0402"
      },
      "execution_count": null,
      "outputs": [
        {
          "output_type": "stream",
          "name": "stdout",
          "text": [
            "test_pandas выполнено за 0.01 секунд\n"
          ]
        },
        {
          "output_type": "execute_result",
          "data": {
            "text/plain": [
              "        col1      col2  col3      result\n",
              "0         77  0.965153    42  116.316808\n",
              "1         71  0.491469     6   40.894321\n",
              "2         85  0.928030     1   79.882522\n",
              "3         84  0.413701    33   67.750871\n",
              "4         59  0.012272    37   37.724064\n",
              "...      ...       ...   ...         ...\n",
              "999995    20  0.305980    49   55.119592\n",
              "999996    28  0.438685     3   15.283171\n",
              "999997    22  0.170794    19   22.757478\n",
              "999998    47  0.628686    27   56.548244\n",
              "999999    51  0.978666    24   73.911945\n",
              "\n",
              "[1000000 rows x 4 columns]"
            ],
            "text/html": [
              "\n",
              "  <div id=\"df-732bc662-7a38-4571-a890-f37cda1f4596\" class=\"colab-df-container\">\n",
              "    <div>\n",
              "<style scoped>\n",
              "    .dataframe tbody tr th:only-of-type {\n",
              "        vertical-align: middle;\n",
              "    }\n",
              "\n",
              "    .dataframe tbody tr th {\n",
              "        vertical-align: top;\n",
              "    }\n",
              "\n",
              "    .dataframe thead th {\n",
              "        text-align: right;\n",
              "    }\n",
              "</style>\n",
              "<table border=\"1\" class=\"dataframe\">\n",
              "  <thead>\n",
              "    <tr style=\"text-align: right;\">\n",
              "      <th></th>\n",
              "      <th>col1</th>\n",
              "      <th>col2</th>\n",
              "      <th>col3</th>\n",
              "      <th>result</th>\n",
              "    </tr>\n",
              "  </thead>\n",
              "  <tbody>\n",
              "    <tr>\n",
              "      <th>0</th>\n",
              "      <td>77</td>\n",
              "      <td>0.965153</td>\n",
              "      <td>42</td>\n",
              "      <td>116.316808</td>\n",
              "    </tr>\n",
              "    <tr>\n",
              "      <th>1</th>\n",
              "      <td>71</td>\n",
              "      <td>0.491469</td>\n",
              "      <td>6</td>\n",
              "      <td>40.894321</td>\n",
              "    </tr>\n",
              "    <tr>\n",
              "      <th>2</th>\n",
              "      <td>85</td>\n",
              "      <td>0.928030</td>\n",
              "      <td>1</td>\n",
              "      <td>79.882522</td>\n",
              "    </tr>\n",
              "    <tr>\n",
              "      <th>3</th>\n",
              "      <td>84</td>\n",
              "      <td>0.413701</td>\n",
              "      <td>33</td>\n",
              "      <td>67.750871</td>\n",
              "    </tr>\n",
              "    <tr>\n",
              "      <th>4</th>\n",
              "      <td>59</td>\n",
              "      <td>0.012272</td>\n",
              "      <td>37</td>\n",
              "      <td>37.724064</td>\n",
              "    </tr>\n",
              "    <tr>\n",
              "      <th>...</th>\n",
              "      <td>...</td>\n",
              "      <td>...</td>\n",
              "      <td>...</td>\n",
              "      <td>...</td>\n",
              "    </tr>\n",
              "    <tr>\n",
              "      <th>999995</th>\n",
              "      <td>20</td>\n",
              "      <td>0.305980</td>\n",
              "      <td>49</td>\n",
              "      <td>55.119592</td>\n",
              "    </tr>\n",
              "    <tr>\n",
              "      <th>999996</th>\n",
              "      <td>28</td>\n",
              "      <td>0.438685</td>\n",
              "      <td>3</td>\n",
              "      <td>15.283171</td>\n",
              "    </tr>\n",
              "    <tr>\n",
              "      <th>999997</th>\n",
              "      <td>22</td>\n",
              "      <td>0.170794</td>\n",
              "      <td>19</td>\n",
              "      <td>22.757478</td>\n",
              "    </tr>\n",
              "    <tr>\n",
              "      <th>999998</th>\n",
              "      <td>47</td>\n",
              "      <td>0.628686</td>\n",
              "      <td>27</td>\n",
              "      <td>56.548244</td>\n",
              "    </tr>\n",
              "    <tr>\n",
              "      <th>999999</th>\n",
              "      <td>51</td>\n",
              "      <td>0.978666</td>\n",
              "      <td>24</td>\n",
              "      <td>73.911945</td>\n",
              "    </tr>\n",
              "  </tbody>\n",
              "</table>\n",
              "<p>1000000 rows × 4 columns</p>\n",
              "</div>\n",
              "    <div class=\"colab-df-buttons\">\n",
              "\n",
              "  <div class=\"colab-df-container\">\n",
              "    <button class=\"colab-df-convert\" onclick=\"convertToInteractive('df-732bc662-7a38-4571-a890-f37cda1f4596')\"\n",
              "            title=\"Convert this dataframe to an interactive table.\"\n",
              "            style=\"display:none;\">\n",
              "\n",
              "  <svg xmlns=\"http://www.w3.org/2000/svg\" height=\"24px\" viewBox=\"0 -960 960 960\">\n",
              "    <path d=\"M120-120v-720h720v720H120Zm60-500h600v-160H180v160Zm220 220h160v-160H400v160Zm0 220h160v-160H400v160ZM180-400h160v-160H180v160Zm440 0h160v-160H620v160ZM180-180h160v-160H180v160Zm440 0h160v-160H620v160Z\"/>\n",
              "  </svg>\n",
              "    </button>\n",
              "\n",
              "  <style>\n",
              "    .colab-df-container {\n",
              "      display:flex;\n",
              "      gap: 12px;\n",
              "    }\n",
              "\n",
              "    .colab-df-convert {\n",
              "      background-color: #E8F0FE;\n",
              "      border: none;\n",
              "      border-radius: 50%;\n",
              "      cursor: pointer;\n",
              "      display: none;\n",
              "      fill: #1967D2;\n",
              "      height: 32px;\n",
              "      padding: 0 0 0 0;\n",
              "      width: 32px;\n",
              "    }\n",
              "\n",
              "    .colab-df-convert:hover {\n",
              "      background-color: #E2EBFA;\n",
              "      box-shadow: 0px 1px 2px rgba(60, 64, 67, 0.3), 0px 1px 3px 1px rgba(60, 64, 67, 0.15);\n",
              "      fill: #174EA6;\n",
              "    }\n",
              "\n",
              "    .colab-df-buttons div {\n",
              "      margin-bottom: 4px;\n",
              "    }\n",
              "\n",
              "    [theme=dark] .colab-df-convert {\n",
              "      background-color: #3B4455;\n",
              "      fill: #D2E3FC;\n",
              "    }\n",
              "\n",
              "    [theme=dark] .colab-df-convert:hover {\n",
              "      background-color: #434B5C;\n",
              "      box-shadow: 0px 1px 3px 1px rgba(0, 0, 0, 0.15);\n",
              "      filter: drop-shadow(0px 1px 2px rgba(0, 0, 0, 0.3));\n",
              "      fill: #FFFFFF;\n",
              "    }\n",
              "  </style>\n",
              "\n",
              "    <script>\n",
              "      const buttonEl =\n",
              "        document.querySelector('#df-732bc662-7a38-4571-a890-f37cda1f4596 button.colab-df-convert');\n",
              "      buttonEl.style.display =\n",
              "        google.colab.kernel.accessAllowed ? 'block' : 'none';\n",
              "\n",
              "      async function convertToInteractive(key) {\n",
              "        const element = document.querySelector('#df-732bc662-7a38-4571-a890-f37cda1f4596');\n",
              "        const dataTable =\n",
              "          await google.colab.kernel.invokeFunction('convertToInteractive',\n",
              "                                                    [key], {});\n",
              "        if (!dataTable) return;\n",
              "\n",
              "        const docLinkHtml = 'Like what you see? Visit the ' +\n",
              "          '<a target=\"_blank\" href=https://colab.research.google.com/notebooks/data_table.ipynb>data table notebook</a>'\n",
              "          + ' to learn more about interactive tables.';\n",
              "        element.innerHTML = '';\n",
              "        dataTable['output_type'] = 'display_data';\n",
              "        await google.colab.output.renderOutput(dataTable, element);\n",
              "        const docLink = document.createElement('div');\n",
              "        docLink.innerHTML = docLinkHtml;\n",
              "        element.appendChild(docLink);\n",
              "      }\n",
              "    </script>\n",
              "  </div>\n",
              "\n",
              "\n",
              "<div id=\"df-86cbca64-d45d-4a8d-8055-327e9d79df33\">\n",
              "  <button class=\"colab-df-quickchart\" onclick=\"quickchart('df-86cbca64-d45d-4a8d-8055-327e9d79df33')\"\n",
              "            title=\"Suggest charts\"\n",
              "            style=\"display:none;\">\n",
              "\n",
              "<svg xmlns=\"http://www.w3.org/2000/svg\" height=\"24px\"viewBox=\"0 0 24 24\"\n",
              "     width=\"24px\">\n",
              "    <g>\n",
              "        <path d=\"M19 3H5c-1.1 0-2 .9-2 2v14c0 1.1.9 2 2 2h14c1.1 0 2-.9 2-2V5c0-1.1-.9-2-2-2zM9 17H7v-7h2v7zm4 0h-2V7h2v10zm4 0h-2v-4h2v4z\"/>\n",
              "    </g>\n",
              "</svg>\n",
              "  </button>\n",
              "\n",
              "<style>\n",
              "  .colab-df-quickchart {\n",
              "      --bg-color: #E8F0FE;\n",
              "      --fill-color: #1967D2;\n",
              "      --hover-bg-color: #E2EBFA;\n",
              "      --hover-fill-color: #174EA6;\n",
              "      --disabled-fill-color: #AAA;\n",
              "      --disabled-bg-color: #DDD;\n",
              "  }\n",
              "\n",
              "  [theme=dark] .colab-df-quickchart {\n",
              "      --bg-color: #3B4455;\n",
              "      --fill-color: #D2E3FC;\n",
              "      --hover-bg-color: #434B5C;\n",
              "      --hover-fill-color: #FFFFFF;\n",
              "      --disabled-bg-color: #3B4455;\n",
              "      --disabled-fill-color: #666;\n",
              "  }\n",
              "\n",
              "  .colab-df-quickchart {\n",
              "    background-color: var(--bg-color);\n",
              "    border: none;\n",
              "    border-radius: 50%;\n",
              "    cursor: pointer;\n",
              "    display: none;\n",
              "    fill: var(--fill-color);\n",
              "    height: 32px;\n",
              "    padding: 0;\n",
              "    width: 32px;\n",
              "  }\n",
              "\n",
              "  .colab-df-quickchart:hover {\n",
              "    background-color: var(--hover-bg-color);\n",
              "    box-shadow: 0 1px 2px rgba(60, 64, 67, 0.3), 0 1px 3px 1px rgba(60, 64, 67, 0.15);\n",
              "    fill: var(--button-hover-fill-color);\n",
              "  }\n",
              "\n",
              "  .colab-df-quickchart-complete:disabled,\n",
              "  .colab-df-quickchart-complete:disabled:hover {\n",
              "    background-color: var(--disabled-bg-color);\n",
              "    fill: var(--disabled-fill-color);\n",
              "    box-shadow: none;\n",
              "  }\n",
              "\n",
              "  .colab-df-spinner {\n",
              "    border: 2px solid var(--fill-color);\n",
              "    border-color: transparent;\n",
              "    border-bottom-color: var(--fill-color);\n",
              "    animation:\n",
              "      spin 1s steps(1) infinite;\n",
              "  }\n",
              "\n",
              "  @keyframes spin {\n",
              "    0% {\n",
              "      border-color: transparent;\n",
              "      border-bottom-color: var(--fill-color);\n",
              "      border-left-color: var(--fill-color);\n",
              "    }\n",
              "    20% {\n",
              "      border-color: transparent;\n",
              "      border-left-color: var(--fill-color);\n",
              "      border-top-color: var(--fill-color);\n",
              "    }\n",
              "    30% {\n",
              "      border-color: transparent;\n",
              "      border-left-color: var(--fill-color);\n",
              "      border-top-color: var(--fill-color);\n",
              "      border-right-color: var(--fill-color);\n",
              "    }\n",
              "    40% {\n",
              "      border-color: transparent;\n",
              "      border-right-color: var(--fill-color);\n",
              "      border-top-color: var(--fill-color);\n",
              "    }\n",
              "    60% {\n",
              "      border-color: transparent;\n",
              "      border-right-color: var(--fill-color);\n",
              "    }\n",
              "    80% {\n",
              "      border-color: transparent;\n",
              "      border-right-color: var(--fill-color);\n",
              "      border-bottom-color: var(--fill-color);\n",
              "    }\n",
              "    90% {\n",
              "      border-color: transparent;\n",
              "      border-bottom-color: var(--fill-color);\n",
              "    }\n",
              "  }\n",
              "</style>\n",
              "\n",
              "  <script>\n",
              "    async function quickchart(key) {\n",
              "      const quickchartButtonEl =\n",
              "        document.querySelector('#' + key + ' button');\n",
              "      quickchartButtonEl.disabled = true;  // To prevent multiple clicks.\n",
              "      quickchartButtonEl.classList.add('colab-df-spinner');\n",
              "      try {\n",
              "        const charts = await google.colab.kernel.invokeFunction(\n",
              "            'suggestCharts', [key], {});\n",
              "      } catch (error) {\n",
              "        console.error('Error during call to suggestCharts:', error);\n",
              "      }\n",
              "      quickchartButtonEl.classList.remove('colab-df-spinner');\n",
              "      quickchartButtonEl.classList.add('colab-df-quickchart-complete');\n",
              "    }\n",
              "    (() => {\n",
              "      let quickchartButtonEl =\n",
              "        document.querySelector('#df-86cbca64-d45d-4a8d-8055-327e9d79df33 button');\n",
              "      quickchartButtonEl.style.display =\n",
              "        google.colab.kernel.accessAllowed ? 'block' : 'none';\n",
              "    })();\n",
              "  </script>\n",
              "</div>\n",
              "\n",
              "  <div id=\"id_eb0310e3-0cb1-4259-a9e2-67283b5b2afe\">\n",
              "    <style>\n",
              "      .colab-df-generate {\n",
              "        background-color: #E8F0FE;\n",
              "        border: none;\n",
              "        border-radius: 50%;\n",
              "        cursor: pointer;\n",
              "        display: none;\n",
              "        fill: #1967D2;\n",
              "        height: 32px;\n",
              "        padding: 0 0 0 0;\n",
              "        width: 32px;\n",
              "      }\n",
              "\n",
              "      .colab-df-generate:hover {\n",
              "        background-color: #E2EBFA;\n",
              "        box-shadow: 0px 1px 2px rgba(60, 64, 67, 0.3), 0px 1px 3px 1px rgba(60, 64, 67, 0.15);\n",
              "        fill: #174EA6;\n",
              "      }\n",
              "\n",
              "      [theme=dark] .colab-df-generate {\n",
              "        background-color: #3B4455;\n",
              "        fill: #D2E3FC;\n",
              "      }\n",
              "\n",
              "      [theme=dark] .colab-df-generate:hover {\n",
              "        background-color: #434B5C;\n",
              "        box-shadow: 0px 1px 3px 1px rgba(0, 0, 0, 0.15);\n",
              "        filter: drop-shadow(0px 1px 2px rgba(0, 0, 0, 0.3));\n",
              "        fill: #FFFFFF;\n",
              "      }\n",
              "    </style>\n",
              "    <button class=\"colab-df-generate\" onclick=\"generateWithVariable('df')\"\n",
              "            title=\"Generate code using this dataframe.\"\n",
              "            style=\"display:none;\">\n",
              "\n",
              "  <svg xmlns=\"http://www.w3.org/2000/svg\" height=\"24px\"viewBox=\"0 0 24 24\"\n",
              "       width=\"24px\">\n",
              "    <path d=\"M7,19H8.4L18.45,9,17,7.55,7,17.6ZM5,21V16.75L18.45,3.32a2,2,0,0,1,2.83,0l1.4,1.43a1.91,1.91,0,0,1,.58,1.4,1.91,1.91,0,0,1-.58,1.4L9.25,21ZM18.45,9,17,7.55Zm-12,3A5.31,5.31,0,0,0,4.9,8.1,5.31,5.31,0,0,0,1,6.5,5.31,5.31,0,0,0,4.9,4.9,5.31,5.31,0,0,0,6.5,1,5.31,5.31,0,0,0,8.1,4.9,5.31,5.31,0,0,0,12,6.5,5.46,5.46,0,0,0,6.5,12Z\"/>\n",
              "  </svg>\n",
              "    </button>\n",
              "    <script>\n",
              "      (() => {\n",
              "      const buttonEl =\n",
              "        document.querySelector('#id_eb0310e3-0cb1-4259-a9e2-67283b5b2afe button.colab-df-generate');\n",
              "      buttonEl.style.display =\n",
              "        google.colab.kernel.accessAllowed ? 'block' : 'none';\n",
              "\n",
              "      buttonEl.onclick = () => {\n",
              "        google.colab.notebook.generateWithVariable('df');\n",
              "      }\n",
              "      })();\n",
              "    </script>\n",
              "  </div>\n",
              "\n",
              "    </div>\n",
              "  </div>\n"
            ],
            "application/vnd.google.colaboratory.intrinsic+json": {
              "type": "dataframe",
              "variable_name": "df"
            }
          },
          "metadata": {},
          "execution_count": 65
        }
      ]
    },
    {
      "cell_type": "code",
      "source": [
        "from joblib import Parallel, delayed\n",
        "\n",
        "# Обработка частей DataFrame\n",
        "def process_chunk(chunk):\n",
        "    chunk['result'] = chunk['col1'] * chunk['col2'] + chunk['col3']\n",
        "    return chunk\n",
        "\n",
        "# Распараллеливание по частям DataFrame\n",
        "def parallel_apply_chunks(df, func, n_jobs=4):\n",
        "    chunks = np.array_split(df, n_jobs)\n",
        "    results = Parallel(n_jobs=n_jobs)(delayed(func)(chunk) for chunk in chunks)\n",
        "    return pd.concat(results)\n",
        "\n",
        "# Применение\n",
        "benchmark(parallel_apply_chunks, df, process_row, 4)"
      ],
      "metadata": {
        "id": "WRHXLVvniYXH"
      },
      "execution_count": null,
      "outputs": []
    }
  ]
}