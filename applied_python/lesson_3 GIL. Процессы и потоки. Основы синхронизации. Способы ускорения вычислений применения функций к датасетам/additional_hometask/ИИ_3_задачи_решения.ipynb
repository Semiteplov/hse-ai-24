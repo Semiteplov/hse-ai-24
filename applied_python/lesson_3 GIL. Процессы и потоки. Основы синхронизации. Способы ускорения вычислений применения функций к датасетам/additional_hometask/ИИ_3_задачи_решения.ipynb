{
  "nbformat": 4,
  "nbformat_minor": 0,
  "metadata": {
    "colab": {
      "provenance": []
    },
    "kernelspec": {
      "name": "python3",
      "display_name": "Python 3"
    },
    "language_info": {
      "name": "python"
    }
  },
  "cells": [
    {
      "cell_type": "markdown",
      "source": [
        "1. **Сравнение подходов для синхронизации потоков (1б)**\n",
        "\n",
        "Напишите программу, которая моделирует доступ к общему ресурсу из пяти потоков. Каждый поток должен:\n",
        "\n",
        "1. Заблокировать доступ к ресурсу.\n",
        "2. Печатать сообщение о начале работы.\n",
        "3. \"Использовать\" ресурс (симулируйте это с помощью `time.sleep(1)`).\n",
        "4. Печатать сообщение об окончании работы и освобождать ресурс.\n",
        "\n",
        "Сравните два подхода к синхронизации:\n",
        "\n",
        "1. Используя `threading.Lock`.\n",
        "2. Используя `threading.Semaphore`, где одновременно доступ к ресурсу могут иметь два потока.\n",
        "\n",
        "**Пример использования:**\n",
        "```python\n",
        "import threading\n",
        "import time\n",
        "\n",
        "def access_resource_with_lock(lock):\n",
        "    # Реализуйте доступ к ресурсу с использованием lock\n",
        "\n",
        "def access_resource_with_semaphore(semaphore):\n",
        "    # Реализуйте доступ к ресурсу с использованием semaphore\n",
        "\n",
        "# Запустите пять потоков с lock и пять потоков с semaphore\n",
        "```\n",
        "\n",
        "**Один из возможных выводов (недетерминированный результат):**\n",
        "```\n",
        "С lock:\n",
        "Поток 0 начал работу.\n",
        "Поток 0 завершил работу.\n",
        "Поток 1 начал работу.\n",
        "Поток 1 завершил работу.\n",
        "Поток 2 начал работу.\n",
        "Поток 2 завершил работу.\n",
        "Поток 3 начал работу.\n",
        "Поток 3 завершил работу.\n",
        "Поток 4 начал работу.\n",
        "Поток 4 завершил работу.\n",
        "\n",
        "С semaphore:\n",
        "Поток 0 начал работу.\n",
        "Поток 1 начал работу.\n",
        "Поток 0 завершил работу.\n",
        "Поток 2 начал работу.\n",
        "Поток 1 завершил работу.\n",
        "Поток 3 начал работу.\n",
        "Поток 2 завершил работу.\n",
        "Поток 4 начал работу.\n",
        "Поток 3 завершил работу.\n",
        "Поток 4 завершил работу.\n",
        "```"
      ],
      "metadata": {
        "id": "M7hlRNe-Qj3v"
      }
    },
    {
      "cell_type": "code",
      "source": [
        "import threading\n",
        "import time\n",
        "\n",
        "def access_resource_with_lock(lock, thread_id):\n",
        "    with lock:\n",
        "        print(f\"Поток {thread_id} начал работу.\")\n",
        "        time.sleep(1)\n",
        "        print(f\"Поток {thread_id} завершил работу.\")\n",
        "\n",
        "def access_resource_with_semaphore(semaphore, thread_id):\n",
        "    with semaphore:\n",
        "        print(f\"Поток {thread_id} начал работу.\")\n",
        "        time.sleep(1)\n",
        "        print(f\"Поток {thread_id} завершил работу.\")\n",
        "\n",
        "# С lock\n",
        "lock = threading.Lock()\n",
        "threads = [threading.Thread(target=access_resource_with_lock, args=(lock, i)) for i in range(5)]\n",
        "print(\"С lock:\")\n",
        "for t in threads:\n",
        "    t.start()\n",
        "for t in threads:\n",
        "    t.join()\n",
        "\n",
        "# С semaphore\n",
        "semaphore = threading.Semaphore(2)\n",
        "threads = [threading.Thread(target=access_resource_with_semaphore, args=(semaphore, i)) for i in range(5)]\n",
        "print(\"\\nС semaphore:\")\n",
        "for t in threads:\n",
        "    t.start()\n",
        "for t in threads:\n",
        "    t.join()\n"
      ],
      "metadata": {
        "colab": {
          "base_uri": "https://localhost:8080/"
        },
        "id": "_vsfVF1nQz4h",
        "outputId": "25b6c1c6-a26f-4a1e-dfd7-2d5b196b67a1"
      },
      "execution_count": null,
      "outputs": [
        {
          "output_type": "stream",
          "name": "stdout",
          "text": [
            "С lock:\n",
            "Поток 0 начал работу.\n",
            "Поток 0 завершил работу.\n",
            "Поток 1 начал работу.\n",
            "Поток 1 завершил работу.\n",
            "Поток 2 начал работу.\n",
            "Поток 2 завершил работу.\n",
            "Поток 3 начал работу.\n",
            "Поток 3 завершил работу.\n",
            "Поток 4 начал работу.\n",
            "Поток 4 завершил работу.\n",
            "\n",
            "С semaphore:\n",
            "Поток 0 начал работу.Поток 1 начал работу.\n",
            "\n",
            "Поток 0 завершил работу.\n",
            "Поток 2 начал работу.\n",
            "Поток 1 завершил работу.\n",
            "Поток 3 начал работу.\n",
            "Поток 2 завершил работу.Поток 3 завершил работу.\n",
            "\n",
            "Поток 4 начал работу.\n",
            "Поток 4 завершил работу.\n"
          ]
        }
      ]
    },
    {
      "cell_type": "markdown",
      "source": [
        "2. **Очередь задач с задержкой на потоках (2б)**\n",
        "\n",
        "Реализуйте систему обработки задач с очередью `queue.PriorityQueue`. Программа должна состоять из:\n",
        "\n",
        "1. **Производителя** (`producer`): добавляет задачи с приоритетами от 1 до 5 (1 — самый высокий) в очередь с интервалом 0.5 секунды.\n",
        "2. **Потребителя** (`consumer`): извлекает задачи из очереди в порядке приоритета и обрабатывает их (задержка 1 секунда на задачу).\n",
        "\n",
        "Если потребитель не получает новую задачу за 2 секунды, он завершает выполнение.\n",
        "\n",
        "**Пример использования:**\n",
        "```python\n",
        "from queue import PriorityQueue\n",
        "import threading\n",
        "import time\n",
        "\n",
        "def producer(queue):\n",
        "    for i in range(5, 0, -1): # Добавление задачи с такими приоритетами в очередь в такой последовательности\n",
        "        # Ваш код\n",
        "\n",
        "def consumer(queue):\n",
        "    # Извлекайте задачи в порядке приоритета и обрабатывайте их\n",
        "\n",
        "# Создайте потоки для producer и consumer\n",
        "```\n",
        "\n",
        "**Пример возможного вывода (недетерминированный результат)**\n",
        "```\n",
        "Добавлена задача с приоритетом 5\n",
        "Обработка Задача с приоритетом 5\n",
        "Добавлена задача с приоритетом 4\n",
        "Обработка Задача с приоритетом 4Добавлена задача с приоритетом 3\n",
        "\n",
        "Добавлена задача с приоритетом 2\n",
        "Обработка Задача с приоритетом 2Добавлена задача с приоритетом 1\n",
        "\n",
        "Обработка Задача с приоритетом 1\n",
        "Обработка Задача с приоритетом 3\n",
        "Очередь пуста, завершение.\n",
        "```"
      ],
      "metadata": {
        "id": "ckFdwS0FRn1V"
      }
    },
    {
      "cell_type": "code",
      "source": [
        "from queue import PriorityQueue\n",
        "import threading\n",
        "import time\n",
        "\n",
        "def producer(queue):\n",
        "    for i in range(5, 0, -1):\n",
        "        queue.put((i, f\"Задача с приоритетом {i}\"))\n",
        "        print(f\"Добавлена задача с приоритетом {i}\")\n",
        "        time.sleep(0.5)\n",
        "\n",
        "def consumer(queue):\n",
        "    while True:\n",
        "        try:\n",
        "            item = queue.get(timeout=2)\n",
        "            priority, task = item\n",
        "            print(f\"Обработка {task}\")\n",
        "            time.sleep(1)\n",
        "            queue.task_done()\n",
        "        except:\n",
        "            print(\"Очередь пуста, завершение.\")\n",
        "            break\n",
        "\n",
        "queue = PriorityQueue()\n",
        "producer_thread = threading.Thread(target=producer, args=(queue,))\n",
        "consumer_thread = threading.Thread(target=consumer, args=(queue,))\n",
        "\n",
        "producer_thread.start()\n",
        "consumer_thread.start()\n",
        "\n",
        "producer_thread.join()\n",
        "consumer_thread.join()\n"
      ],
      "metadata": {
        "colab": {
          "base_uri": "https://localhost:8080/"
        },
        "id": "ygJKKUj3Q1Yg",
        "outputId": "f228adb1-c9f5-466a-b918-2689106a7537"
      },
      "execution_count": null,
      "outputs": [
        {
          "output_type": "stream",
          "name": "stdout",
          "text": [
            "Добавлена задача с приоритетом 5\n",
            "Обработка Задача с приоритетом 5\n",
            "Добавлена задача с приоритетом 4\n",
            "Добавлена задача с приоритетом 3Обработка Задача с приоритетом 3\n",
            "\n",
            "Добавлена задача с приоритетом 2\n",
            "Обработка Задача с приоритетом 2\n",
            "Добавлена задача с приоритетом 1\n",
            "Обработка Задача с приоритетом 1\n",
            "Обработка Задача с приоритетом 4\n",
            "Очередь пуста, завершение.\n"
          ]
        }
      ]
    },
    {
      "cell_type": "markdown",
      "source": [
        "3. **Ускорение обработки данных с помощью `ProcessPoolExecutor` / `multiprocessing.Pool` / `modin`  (2б)**\n",
        "\n",
        "Напишите программу, которая читает большой CSV-файл с колонками `col1` и `col2`. Используйте `ProcessPoolExecutor` для выполнения следующих операций:\n",
        "\n",
        "1. Для каждой строки вычислить результат: $ \\text{result} = \\text{col1}^2 + 2 \\cdot \\text{col2} $.\n",
        "2. Записать результаты обратно в новый CSV-файл.\n",
        "\n",
        "Добавьте измерение времени выполнения.\n",
        "\n",
        "**Пример использования::**\n",
        "```python\n",
        "import pandas as pd\n",
        "from concurrent.futures import ProcessPoolExecutor\n",
        "from multiprocessing import Pool\n",
        "\n",
        "\n",
        "def process_row(row):\n",
        "    # Реализуйте вычисление для одной строки\n",
        "\n",
        "df = pd.DataFrame({\n",
        "    'col1': range(1, 1000001),\n",
        "    'col2': range(1000000, 0, -1)\n",
        "})\n",
        "\n",
        "# Реализуйте чтение, обработку и запись данных с использованием ProcessPoolExecutor / multiprocessing.Pool. Удалось ли добиться ускорения с помощью распараллеливания?\n",
        "# Попробуйте использовать разные размеры чанков – 25000, 200000, 500000,\n",
        "\n",
        "# А теперь попробуйте использовать библиотеку `modin`. Сравните результаты\n",
        "```\n"
      ],
      "metadata": {
        "id": "huOC3zXNVjjR"
      }
    },
    {
      "cell_type": "code",
      "source": [
        "import pandas as pd\n",
        "from concurrent.futures import ProcessPoolExecutor\n",
        "from multiprocessing import Pool\n",
        "import time\n",
        "\n",
        "def process_row(row):\n",
        "    return row['col1'] ** 2 + 2 * row['col2']\n",
        "\n",
        "df = pd.DataFrame({\n",
        "    'col1': range(1, 1000001),\n",
        "    'col2': range(1000000, 0, -1)\n",
        "})\n",
        "df1 = df.copy()\n",
        "\n",
        "def process_chunk(chunk):\n",
        "    chunk['result'] = chunk.apply(process_row, axis=1)\n",
        "    return chunk\n",
        "\n",
        "start = time.time()\n",
        "chunks = [df[i:i + 25000] for i in range(0, len(df), 25000)]\n",
        "\n",
        "# results = Pool().map(process_chunk, chunks)\n",
        "\n",
        "with ProcessPoolExecutor() as executor:\n",
        "    results = executor.map(process_chunk, chunks)\n",
        "\n",
        "processed_df = pd.concat(results)\n",
        "processed_df.to_csv(\"processed_data.csv\", index=False)\n",
        "print(f\"Обработка завершена за {time.time() - start:.2f} секунд\")\n",
        "\n",
        "start1 = time.time()\n",
        "chunks = [df[i:i + 25000] for i in range(0, len(df), 25000)]\n",
        "\n",
        "df1[\"result\"] = df1.apply(process_row, axis=1)\n",
        "df1.to_csv(\"processed_data1.csv\", index=False)\n",
        "print(f\"Обработка завершена за {time.time() - start1:.2f} секунд\")\n",
        "assert pd.read_csv(\"processed_data1.csv\").equals(pd.read_csv(\"processed_data.csv\"))"
      ],
      "metadata": {
        "colab": {
          "base_uri": "https://localhost:8080/"
        },
        "id": "ERq9o3Z8VjxR",
        "outputId": "c190e4ae-102e-4675-b49b-b7d2ff45e69b"
      },
      "execution_count": null,
      "outputs": [
        {
          "output_type": "stream",
          "name": "stdout",
          "text": [
            "Обработка завершена за 17.63 секунд\n",
            "Обработка завершена за 14.81 секунд\n"
          ]
        }
      ]
    },
    {
      "cell_type": "code",
      "source": [
        "# ! pip install \"modin[ray]\""
      ],
      "metadata": {
        "id": "K5cJB4uXWHdh"
      },
      "execution_count": null,
      "outputs": []
    },
    {
      "cell_type": "code",
      "source": [
        "import modin.pandas as mpd\n",
        "start2 = time.time()\n",
        "\n",
        "dfm = mpd.DataFrame(df)\n",
        "dfm['result'] = dfm['col1'] ** 2 + 2 * dfm['col2']\n",
        "dfm.to_csv(\"processed_data2.csv\", index=False)\n",
        "print(f\"Обработка завершена за {time.time() - start2:.2f} секунд\")\n",
        "\n",
        "assert pd.read_csv(\"processed_data1.csv\").equals(pd.read_csv(\"processed_data2.csv\"))"
      ],
      "metadata": {
        "colab": {
          "base_uri": "https://localhost:8080/"
        },
        "id": "0FQ7Zm8tWF_Y",
        "outputId": "e66d4728-b304-4afd-add1-f77a06d39253"
      },
      "execution_count": null,
      "outputs": [
        {
          "output_type": "stream",
          "name": "stderr",
          "text": [
            "UserWarning: Distributing <class 'pandas.core.frame.DataFrame'> object. This may take some time.\n"
          ]
        },
        {
          "output_type": "stream",
          "name": "stdout",
          "text": [
            "Обработка завершена за 2.70 секунд\n"
          ]
        }
      ]
    }
  ]
}