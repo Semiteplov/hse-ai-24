{
  "nbformat": 4,
  "nbformat_minor": 0,
  "metadata": {
    "colab": {
      "provenance": []
    },
    "kernelspec": {
      "name": "python3",
      "display_name": "Python 3"
    },
    "language_info": {
      "name": "python"
    }
  },
  "cells": [
    {
      "cell_type": "markdown",
      "source": [
        "S: Принцип единственной ответственности (Single Responsibility Principle, SRP)"
      ],
      "metadata": {
        "id": "gw-nzhsQdCWf"
      }
    },
    {
      "cell_type": "code",
      "execution_count": null,
      "metadata": {
        "id": "r78PRReMbTgI"
      },
      "outputs": [],
      "source": [
        "class FileManager:\n",
        "    def read(self, filename):\n",
        "        with open(filename, 'r') as f:\n",
        "            return f.read()\n",
        "\n",
        "    def write(self, filename, content):\n",
        "        with open(filename, 'w') as f:\n",
        "            f.write(content)"
      ]
    },
    {
      "cell_type": "code",
      "source": [
        "class FileReader:\n",
        "    def read(self, filename):\n",
        "        with open(filename, 'r') as f:\n",
        "            return f.read()\n",
        "\n",
        "class FileWriter:\n",
        "    def write(self, filename, content):\n",
        "        with open(filename, 'w') as f:\n",
        "            f.write(content)"
      ],
      "metadata": {
        "id": "dxIodl8mdndj"
      },
      "execution_count": null,
      "outputs": []
    },
    {
      "cell_type": "markdown",
      "source": [
        "O: Принцип открытости/закрытости (Open/Closed Principle, OCP)"
      ],
      "metadata": {
        "id": "27Ax4A3Hdu5Q"
      }
    },
    {
      "cell_type": "code",
      "source": [
        "class Shape:\n",
        "    def __init__(self, shape_type, size):\n",
        "        self.shape_type = shape_type\n",
        "        self.size = size\n",
        "\n",
        "    def area(self):\n",
        "        if self.shape_type == \"circle\":\n",
        "            return 3.14 * (self.size ** 2)\n",
        "        elif self.shape_type == \"square\":\n",
        "            return self.size ** 2"
      ],
      "metadata": {
        "id": "aYSeEAWreLFz"
      },
      "execution_count": null,
      "outputs": []
    },
    {
      "cell_type": "code",
      "source": [
        "from abc import ABC, abstractmethod\n",
        "\n",
        "class Shape(ABC):\n",
        "    @abstractmethod\n",
        "    def area(self):\n",
        "        pass\n",
        "\n",
        "    def double_area(self):\n",
        "        return 2 * self.area()\n",
        "\n",
        "class Circle(Shape):\n",
        "    def __init__(self, radius):\n",
        "        self.radius = radius\n",
        "\n",
        "    def area(self):\n",
        "        return 3.14 * self.radius ** 2\n",
        "\n",
        "\n",
        "class Rectangle(Shape):\n",
        "    def __init__(self, width, height):\n",
        "        self.width = width\n",
        "        self.height = height\n",
        "\n",
        "    def area(self):\n",
        "        return self.width * self.height\n",
        "\n",
        "class Square(Shape):\n",
        "    def __init__(self, size):\n",
        "        self.size = size\n",
        "\n",
        "    def area(self):\n",
        "        return self.size ** 2\n",
        "\n",
        "rect = Rectangle(4, 5)\n",
        "sh = Shape()\n",
        "print(sh.area())\n",
        "print(rect.area())\n",
        "sq = Square(5)"
      ],
      "metadata": {
        "colab": {
          "base_uri": "https://localhost:8080/",
          "height": 216
        },
        "id": "pLTNzcP8eK9s",
        "outputId": "c7f60871-7e25-4b24-c322-4d0a9a038c11"
      },
      "execution_count": null,
      "outputs": [
        {
          "output_type": "error",
          "ename": "TypeError",
          "evalue": "Can't instantiate abstract class Shape with abstract method area",
          "traceback": [
            "\u001b[0;31m---------------------------------------------------------------------------\u001b[0m",
            "\u001b[0;31mTypeError\u001b[0m                                 Traceback (most recent call last)",
            "\u001b[0;32m<ipython-input-15-93dd3afb1332>\u001b[0m in \u001b[0;36m<cell line: 35>\u001b[0;34m()\u001b[0m\n\u001b[1;32m     33\u001b[0m \u001b[0;34m\u001b[0m\u001b[0m\n\u001b[1;32m     34\u001b[0m \u001b[0mrect\u001b[0m \u001b[0;34m=\u001b[0m \u001b[0mRectangle\u001b[0m\u001b[0;34m(\u001b[0m\u001b[0;36m4\u001b[0m\u001b[0;34m,\u001b[0m \u001b[0;36m5\u001b[0m\u001b[0;34m)\u001b[0m\u001b[0;34m\u001b[0m\u001b[0;34m\u001b[0m\u001b[0m\n\u001b[0;32m---> 35\u001b[0;31m \u001b[0msh\u001b[0m \u001b[0;34m=\u001b[0m \u001b[0mShape\u001b[0m\u001b[0;34m(\u001b[0m\u001b[0;34m)\u001b[0m\u001b[0;34m\u001b[0m\u001b[0;34m\u001b[0m\u001b[0m\n\u001b[0m\u001b[1;32m     36\u001b[0m \u001b[0mprint\u001b[0m\u001b[0;34m(\u001b[0m\u001b[0msh\u001b[0m\u001b[0;34m.\u001b[0m\u001b[0marea\u001b[0m\u001b[0;34m(\u001b[0m\u001b[0;34m)\u001b[0m\u001b[0;34m)\u001b[0m\u001b[0;34m\u001b[0m\u001b[0;34m\u001b[0m\u001b[0m\n\u001b[1;32m     37\u001b[0m \u001b[0mprint\u001b[0m\u001b[0;34m(\u001b[0m\u001b[0mrect\u001b[0m\u001b[0;34m.\u001b[0m\u001b[0marea\u001b[0m\u001b[0;34m(\u001b[0m\u001b[0;34m)\u001b[0m\u001b[0;34m)\u001b[0m\u001b[0;34m\u001b[0m\u001b[0;34m\u001b[0m\u001b[0m\n",
            "\u001b[0;31mTypeError\u001b[0m: Can't instantiate abstract class Shape with abstract method area"
          ]
        }
      ]
    },
    {
      "cell_type": "code",
      "source": [
        "sq.double_area()"
      ],
      "metadata": {
        "colab": {
          "base_uri": "https://localhost:8080/"
        },
        "id": "-AeD2w9mhqIF",
        "outputId": "0a95f977-7da7-482c-982d-fc465417e05c"
      },
      "execution_count": null,
      "outputs": [
        {
          "output_type": "execute_result",
          "data": {
            "text/plain": [
              "50"
            ]
          },
          "metadata": {},
          "execution_count": 10
        }
      ]
    },
    {
      "cell_type": "code",
      "source": [
        "rect.double_area()"
      ],
      "metadata": {
        "colab": {
          "base_uri": "https://localhost:8080/"
        },
        "id": "w8rffScwiLub",
        "outputId": "9678304f-2cfd-4c4d-e7ad-49ac5a98ca33"
      },
      "execution_count": null,
      "outputs": [
        {
          "output_type": "execute_result",
          "data": {
            "text/plain": [
              "40"
            ]
          },
          "metadata": {},
          "execution_count": 12
        }
      ]
    },
    {
      "cell_type": "markdown",
      "source": [
        "L: Принцип подстановки Барбары Лисков (Liskov Substitution Principle, LSP)"
      ],
      "metadata": {
        "id": "jkZdHMHujjMt"
      }
    },
    {
      "cell_type": "code",
      "source": [
        "class Bird:\n",
        "    def fly(self):\n",
        "        pass\n",
        "\n",
        "class Sparrow(Bird):\n",
        "    def fly(self):\n",
        "        print(\"Flying\")\n",
        "\n",
        "class Penguin(Bird):\n",
        "    def fly(self):\n",
        "        raise NotImplementedError(\"Penguins cannot fly\")"
      ],
      "metadata": {
        "id": "W_q-haCwibIM"
      },
      "execution_count": null,
      "outputs": []
    },
    {
      "cell_type": "code",
      "source": [
        "class Bird:\n",
        "    pass\n",
        "\n",
        "class FlyingBird(Bird):\n",
        "    def fly(self):\n",
        "        pass\n",
        "\n",
        "class Sparrow(FlyingBird):\n",
        "    def fly(self):\n",
        "        print(\"Flying\")\n",
        "\n",
        "class Penguin(Bird):\n",
        "    pass"
      ],
      "metadata": {
        "id": "88wEek4yj9Qo"
      },
      "execution_count": null,
      "outputs": []
    },
    {
      "cell_type": "markdown",
      "source": [
        "I: Принцип разделения интерфейсов (Interface Segregation Principle, ISP)"
      ],
      "metadata": {
        "id": "FeFKUiMgkxCE"
      }
    },
    {
      "cell_type": "code",
      "source": [
        "class AllInOne:\n",
        "    def print(self):\n",
        "        pass\n",
        "\n",
        "    def scan(self):\n",
        "        pass\n",
        "\n",
        "class SimplePrinter(AllInOne):\n",
        "    def print(self):\n",
        "        print(\"Printing\")\n",
        "\n",
        "    def scan(self):\n",
        "        raise NotImplementedError(\"This device cannot scan\")"
      ],
      "metadata": {
        "id": "E9vsPI48k6SL"
      },
      "execution_count": null,
      "outputs": []
    },
    {
      "cell_type": "code",
      "source": [
        "class Printer:\n",
        "    def print(self):\n",
        "        pass\n",
        "\n",
        "class Scanner:\n",
        "    def scan(self):\n",
        "        pass\n",
        "\n",
        "class MultiFunctionPrinter(Printer, Scanner):\n",
        "    def print(self):\n",
        "        print(\"Printing\")\n",
        "\n",
        "    def scan(self):\n",
        "        print(\"Scanning\")"
      ],
      "metadata": {
        "id": "rIJkTY14k6O_"
      },
      "execution_count": null,
      "outputs": []
    },
    {
      "cell_type": "markdown",
      "source": [
        "D - Принцип инверсии зависимостей (Dependency Inversion Principle, DIP)"
      ],
      "metadata": {
        "id": "l3_SKvbyma9i"
      }
    },
    {
      "cell_type": "code",
      "source": [
        "class Database(ABC):\n",
        "    @abstractmethod\n",
        "    def connect(self):\n",
        "        pass\n",
        "\n",
        "class DataHandler:\n",
        "    def __init__(self, db: Database):\n",
        "        self.db = db\n",
        "\n",
        "    def handle_data(self):\n",
        "        self.db.connect()\n",
        "\n",
        "class MySQLDatabase(Database):\n",
        "    def connect(self):\n",
        "        print(\"Connecting to MySQL\")\n",
        "\n",
        "class PostgreSQLDatabase(Database):\n",
        "    def connect(self):\n",
        "        print(\"Connecting to PostgreSQLDatabase\")\n",
        "\n",
        "mysql_db = MySQLDatabase()\n",
        "mysql_handler = DataHandler(mysql_db)\n",
        "mysql_handler.handle_data()"
      ],
      "metadata": {
        "id": "EEBn_RepmbQv"
      },
      "execution_count": null,
      "outputs": []
    },
    {
      "cell_type": "code",
      "source": [
        "postgresql_db = PostgreSQLDatabase()\n",
        "postgresql_handler = DataHandler(postgresql_db)\n",
        "postgresql_handler.connect()"
      ],
      "metadata": {
        "id": "ojAJDRBVnMEb"
      },
      "execution_count": null,
      "outputs": []
    },
    {
      "cell_type": "code",
      "source": [],
      "metadata": {
        "id": "KcHrfaopoWVK"
      },
      "execution_count": null,
      "outputs": []
    },
    {
      "cell_type": "code",
      "source": [
        "class DiscountCalculator:\n",
        "    def __init__(self, customer_type):\n",
        "        self.customer_type = customer_type\n",
        "\n",
        "    def calculate_discount(self, total):\n",
        "        if self.customer_type == \"regular\":\n",
        "            return total * 0.05\n",
        "        elif self.customer_type == \"premium\":\n",
        "            return total * 0.1\n",
        "        elif self.customer_type == \"vip\":\n",
        "            return total * 0.2\n",
        "        else:\n",
        "            return 0"
      ],
      "metadata": {
        "id": "oLxJepf4oWSP"
      },
      "execution_count": null,
      "outputs": []
    },
    {
      "cell_type": "code",
      "source": [
        "class DiscountStrategy(ABC):\n",
        "    @abstractmethod\n",
        "    def calculate(self, total):\n",
        "        pass\n",
        "\n",
        "\n",
        "class RegularDiscount(DiscountStrategy):\n",
        "    def calculate(self, total):\n",
        "        return total * 0.05\n",
        "\n",
        "\n",
        "class PremiumDiscount(DiscountStrategy):\n",
        "    def calculate(self, total):\n",
        "        return total * 0.1\n",
        "\n",
        "\n",
        "class VIPDiscount(DiscountStrategy):\n",
        "    def calculate(self, total):\n",
        "        return total * 0.2\n",
        "\n",
        "\n",
        "class NoDiscount(DiscountStrategy):\n",
        "    def calculate(self, total):\n",
        "        return 0\n",
        "\n",
        "class DiscountCalculator:\n",
        "    def __init__(self, strategy: DiscountStrategy):\n",
        "        self.strategy = strategy\n",
        "\n",
        "    def calculate_discount(self, total):\n",
        "        return self.strategy.calculate(total)"
      ],
      "metadata": {
        "id": "CRH_6CRkoWJQ"
      },
      "execution_count": null,
      "outputs": []
    },
    {
      "cell_type": "code",
      "source": [],
      "metadata": {
        "id": "APOTG0xWp72R"
      },
      "execution_count": null,
      "outputs": []
    },
    {
      "cell_type": "code",
      "source": [
        "class StripeProcessor:\n",
        "    def process_payment(self, amount):\n",
        "        print(f\"Processing ${amount} payment via Stripe\")\n",
        "\n",
        "\n",
        "class PaymentHandler:\n",
        "    def __init__(self):\n",
        "        self.processor = StripeProcessor()\n",
        "\n",
        "    def handle_payment(self, amount):\n",
        "        print(\"Initializing payment...\")\n",
        "        self.processor.process_payment(amount)\n",
        "\n",
        "handler = PaymentHandler()\n",
        "handler.handle_payment(100)"
      ],
      "metadata": {
        "id": "biUCAOX1p7z_"
      },
      "execution_count": null,
      "outputs": []
    },
    {
      "cell_type": "code",
      "source": [
        "from abc import ABC, abstractmethod\n",
        "\n",
        "class PaymentProcessor(ABC):\n",
        "    @abstractmethod\n",
        "    def process_payment(self, amount):\n",
        "        pass\n",
        "\n",
        "\n",
        "class StripeProcessor(PaymentProcessor):\n",
        "    def process_payment(self, amount):\n",
        "        print(f\"Processing ${amount} payment via Stripe\")\n",
        "\n",
        "\n",
        "class PayPalProcessor(PaymentProcessor):\n",
        "    def process_payment(self, amount):\n",
        "        print(f\"Processing ${amount} payment via PayPal\")\n",
        "\n",
        "class PaymentHandler:\n",
        "    def __init__(self, processor: PaymentProcessor):\n",
        "        self.processor = processor\n",
        "\n",
        "    def handle_payment(self, amount):\n",
        "        print(\"Initializing payment...\")\n",
        "        self.processor.process_payment(amount)\n",
        "\n",
        "stripe_handler = PaymentHandler(StripeProcessor())\n",
        "stripe_handler.handle_payment(100)\n",
        "\n",
        "paypal_handler = PaymentHandler(PayPalProcessor())\n",
        "paypal_handler.handle_payment(200)"
      ],
      "metadata": {
        "id": "ThJbiE4Rp7xh"
      },
      "execution_count": null,
      "outputs": []
    },
    {
      "cell_type": "code",
      "source": [],
      "metadata": {
        "id": "ZS7SukUfqvZe"
      },
      "execution_count": null,
      "outputs": []
    },
    {
      "cell_type": "code",
      "source": [
        "class PaymentProcessor(ABC):\n",
        "    @abstractmethod\n",
        "    def process_payment(self, amount):\n",
        "        pass\n",
        "\n",
        "class GeneralPaymentProcessor(PaymentProcessor):\n",
        "    def process_payment(self, amount):\n",
        "        print(f\"Processing payment of {amount}\")\n",
        "\n",
        "class CreditCardPayment(PaymentProcessor):\n",
        "    def process_payment(self, amount):\n",
        "        if amount > 1000:\n",
        "            print(\"Credit card limit exceeded.\")\n",
        "        else:\n",
        "            print(f\"Processing credit card payment of {amount}\")\n",
        "\n",
        "def make_payment(processor: PaymentProcessor, amount):\n",
        "    processor.process_payment(amount)\n",
        "\n",
        "credit_card = CreditCardPayment()\n",
        "make_payment(credit_card, 500)  # OK\n",
        "make_payment(credit_card, 1500)  # ValueError: Credit card limit exceeded"
      ],
      "metadata": {
        "colab": {
          "base_uri": "https://localhost:8080/"
        },
        "id": "GQCFOFBEqvWO",
        "outputId": "2d188798-6c15-4d41-9be2-add77c248dd7"
      },
      "execution_count": null,
      "outputs": [
        {
          "output_type": "stream",
          "name": "stdout",
          "text": [
            "Processing credit card payment of 500\n",
            "Credit card limit exceeded.\n"
          ]
        }
      ]
    },
    {
      "cell_type": "code",
      "source": [],
      "metadata": {
        "id": "QmjXSmydqvS5"
      },
      "execution_count": null,
      "outputs": []
    },
    {
      "cell_type": "code",
      "source": [],
      "metadata": {
        "id": "RoKE8XjArrU-"
      },
      "execution_count": null,
      "outputs": []
    },
    {
      "cell_type": "code",
      "source": [
        "class OrderManager:\n",
        "    def __init__(self, order_data):\n",
        "        self.order_data = order_data\n",
        "\n",
        "    def create_order(self):\n",
        "        # Генерация заказа\n",
        "        print(\"Order created.\")\n",
        "        return {\"order_id\": 123, **self.order_data}\n",
        "\n",
        "    def save_to_database(self, order):\n",
        "        # Сохранение в базу данных\n",
        "        print(f\"Order {order['order_id']} saved to database.\")\n",
        "\n",
        "    def send_notification(self, order):\n",
        "        # Отправка уведомления пользователю\n",
        "        print(f\"Notification sent for order {order['order_id']}.\")"
      ],
      "metadata": {
        "id": "LoIuiP51rrR3"
      },
      "execution_count": null,
      "outputs": []
    },
    {
      "cell_type": "code",
      "source": [],
      "metadata": {
        "id": "zk2KSnO_rrNi"
      },
      "execution_count": null,
      "outputs": []
    },
    {
      "cell_type": "code",
      "source": [
        "class Task:\n",
        "    def execute(self):\n",
        "        pass\n",
        "\n",
        "    def get_status(self):\n",
        "        pass\n",
        "\n",
        "    def send_notification(self):\n",
        "        pass\n",
        "\n",
        "class DataUpdateTask(Task):\n",
        "    def execute(self):\n",
        "        print(\"Updating data...\")\n",
        "\n",
        "    def get_status(self):\n",
        "        return \"Data updated\"\n",
        "\n",
        "    def send_notification(self):\n",
        "        raise NotImplementedError(\"DataUpdateTask does not support notifications\")\n",
        "\n",
        "\n",
        "class NotificationTask(Task):\n",
        "    def execute(self):\n",
        "        print(\"Sending notification...\")\n",
        "\n",
        "    def get_status(self):\n",
        "        return \"Notification sent\"\n",
        "\n",
        "    def send_notification(self):\n",
        "        print(\"Notification already sent.\")"
      ],
      "metadata": {
        "id": "bT-CtWgHr9d6"
      },
      "execution_count": null,
      "outputs": []
    },
    {
      "cell_type": "code",
      "source": [
        "class LoggingDecorator:\n",
        "    def __init__(self, func):\n",
        "        self.func = func\n",
        "\n",
        "    def __call__(self, *args, **kwargs):\n",
        "        print(f\"Calling {self.func.__name__} with {args} and {kwargs}\")\n",
        "        result = self.func(*args, **kwargs)\n",
        "        print(f\"Result: {result}\")\n",
        "        return result\n",
        "\n",
        "@LoggingDecorator\n",
        "def add(a, b):\n",
        "    return a + b\n",
        "\n",
        "print(add(2, 3))"
      ],
      "metadata": {
        "colab": {
          "base_uri": "https://localhost:8080/"
        },
        "id": "Yo77EL_dr9bJ",
        "outputId": "eaae28ce-55c9-4b80-db23-490677e7baf4"
      },
      "execution_count": null,
      "outputs": [
        {
          "output_type": "stream",
          "name": "stdout",
          "text": [
            "Calling add with (2, 3) and {}\n",
            "Result: 5\n",
            "5\n"
          ]
        }
      ]
    },
    {
      "cell_type": "code",
      "source": [
        "! cat test.txt"
      ],
      "metadata": {
        "colab": {
          "base_uri": "https://localhost:8080/"
        },
        "id": "PsIcAdt1uAZc",
        "outputId": "867fa545-f220-40d4-83fb-f14551df1bdf"
      },
      "execution_count": null,
      "outputs": [
        {
          "output_type": "stream",
          "name": "stdout",
          "text": [
            "Hello, World!"
          ]
        }
      ]
    },
    {
      "cell_type": "code",
      "source": [
        "class FileManager:\n",
        "    def __init__(self, filename, mode):\n",
        "        self.filename = filename\n",
        "        self.mode = mode\n",
        "\n",
        "    def __enter__(self):\n",
        "        self.file = open(self.filename, self.mode)\n",
        "        return self.file\n",
        "\n",
        "    def __exit__(self, exc_type, exc_val, exc_tb):\n",
        "        self.file.close()\n",
        "\n",
        "with FileManager(\"test.txt\", \"w\") as f:\n",
        "    f.write(\"Hello, World!\")"
      ],
      "metadata": {
        "id": "M8T-AL8ot5r4"
      },
      "execution_count": null,
      "outputs": []
    },
    {
      "cell_type": "code",
      "source": [
        "class Counter:\n",
        "    def __init__(self, start, end):\n",
        "        self.current = start\n",
        "        self.end = end\n",
        "\n",
        "    def __iter__(self):\n",
        "        return self\n",
        "\n",
        "    def __next__(self):\n",
        "        if self.current >= self.end:\n",
        "            raise StopIteration\n",
        "        self.current += 1\n",
        "        return self.current - 1\n",
        "\n",
        "for i in Counter(1, 5):\n",
        "    print(i)"
      ],
      "metadata": {
        "colab": {
          "base_uri": "https://localhost:8080/"
        },
        "id": "MmV8XEIzuH5K",
        "outputId": "b93c2555-a2cd-4deb-aaed-2aeadf30fb1a"
      },
      "execution_count": null,
      "outputs": [
        {
          "output_type": "stream",
          "name": "stdout",
          "text": [
            "1\n",
            "2\n",
            "3\n",
            "4\n"
          ]
        }
      ]
    },
    {
      "cell_type": "markdown",
      "source": [],
      "metadata": {
        "id": "wzl64n4vqvKa"
      }
    }
  ]
}